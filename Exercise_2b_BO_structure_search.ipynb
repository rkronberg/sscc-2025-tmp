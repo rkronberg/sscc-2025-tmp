{
 "cells": [
  {
   "cell_type": "markdown",
   "metadata": {
    "id": "dfG1VSjRms2B"
   },
   "source": [
    "# Structure search with Bayesian Optimization"
   ]
  },
  {
   "cell_type": "markdown",
   "metadata": {
    "id": "_awn4ZiWO3GR"
   },
   "source": [
    "This tutorial demonstrates how to use BO to optimize the atomistic configuration of materials. This can be done by mapping the configurational degrees of freedom to the total energy landscape, and inferring the global minimum of energy. The energy landscapes, refined by iterative data acquisitons, can be employed to visualise low energy configurations (they are chemically interpretable).\n",
    "\n",
    "<img src=\"https://gitlab.com/joalof/bigmax_boss_tutorials/-/raw/319e6ba6dbbf37ac456abc6dac7f4de5ef097312/figures/ss_scenarios.png\" width=\"800px\"/>\n",
    "\n",
    "At the outset, the user should consider which **key degrees of freedom** control the energetics of the research problem. In the case of adsorption of organic molecules to the surface, these could be the molecule position or orientation above the surface. The molecular conformation can often be kept fixed. In the case of flexible molecules, we need to conduct a conformer search and minimize the energy with respect to dihedral angles. The degrees of freedom and their bounds define the N-dimensional BO structure search.\n",
    "\n",
    "BO can proceed on any data source (experiment or computation), any computer code (molecular mechanics or ab initio approaches), on any number of cores (it has an API and command line interface) and can fit a GP surrogate model of any or many materials properties extracted from calculations (energy, band gaps, HOMO/LUMO). Flexible use of external functions is facilitated by the BOSS **user function**, where the user transforms the BO sampling across the defined search domain into an atomistic configuration, the calculation is performed, and the desired value is parsed and returned.\n",
    "\n",
    "<img src=\"https://gitlab.com/joalof/bigmax_boss_tutorials/-/raw/319e6ba6dbbf37ac456abc6dac7f4de5ef097312/figures/user_fn.png\" width=\"800px\"/>\n"
   ]
  },
  {
   "cell_type": "markdown",
   "metadata": {
    "id": "ENa1HStlO3GS"
   },
   "source": [
    "## Molecular conformer structure search\n",
    "\n",
    "Let us consider the problem of alanine conformational structure search, as shown in the image above. We identify 4 degrees of freedom, described by dihedral angles `[d1, d2, d3, d4]`. We will use BO to refine a GPR model mapping the state vector of dihedral angles to conformer energy `E`, as computed by an external total energy code. **Our objective is to find the state vector (configuration) that minimizes the total energy.**\n",
    "\n",
    "We will first consider a 2D conformer search (other variables kept fixed) and analyse the results, then proceed with a 4D conformer search. <br>\n",
    "To begin, let's load the required python packages."
   ]
  },
  {
   "cell_type": "code",
   "execution_count": null,
   "metadata": {
    "id": "egbESXHWO3GV"
   },
   "outputs": [],
   "source": [
    "import numpy as np\n",
    "import GPy\n",
    "import matplotlib.pyplot as plt\n",
    "import matplotlib.image as mpimg\n",
    "from matplotlib import rcParams\n",
    "%matplotlib inline\n",
    "\n",
    "from boss.bo.bo_main import BOMain\n",
    "from boss.pp.pp_main import PPMain\n",
    "\n",
    "import pylab\n",
    "pylab.show()"
   ]
  },
  {
   "cell_type": "markdown",
   "metadata": {
    "id": "6YIULjDzO3GX"
   },
   "source": [
    "In this example, we used the AMBER code and `gaff` force field to compute the total energy for each sampled configuration. To simplify this tutorial, we construted an **AMBER emulator function** to simulate AMBER energies without the code itself. We did this by building a GPR generative model based on AMBER data, then encoding it in an AMBER emulator function."
   ]
  },
  {
   "cell_type": "code",
   "execution_count": null,
   "metadata": {
    "colab": {
     "base_uri": "https://localhost:8080/"
    },
    "id": "F_ivNBlcO3GY",
    "outputId": "74a9b2a6-4edd-48c9-8456-7853b82f6811"
   },
   "outputs": [],
   "source": [
    "# Here we load AMBER data from a file and build an GPR model.\n",
    "def load_model(filename):\n",
    "    \"\"\"Recreates a GPR model from saved parameters and data. \"\"\"\n",
    "\n",
    "    # load saved data\n",
    "    data = np.load(filename)\n",
    "    dim = data[\"X\"].shape[1]\n",
    "\n",
    "    # create kernel and mean functions\n",
    "    kernel = GPy.kern.StdPeriodic(input_dim=dim, ARD1=True, ARD2=True)\n",
    "    mean_func = GPy.mappings.Constant(dim, 1)\n",
    "\n",
    "    # create model\n",
    "    model = GPy.models.GPRegression(\n",
    "        data[\"X\"], data[\"Y\"], kernel=kernel, mean_function=mean_func\n",
    "    )\n",
    "\n",
    "    # set model params\n",
    "    model[:] = data[\"params\"]\n",
    "    model.fix()\n",
    "    model.parameters_changed()\n",
    "\n",
    "    return model\n",
    "\n",
    "# Here, we define the AMBER emulator for a 2D structure search in d1-d4\n",
    "\n",
    "!wget https://gitlab.com/joalof/bigmax_boss_tutorials/-/raw/319e6ba6dbbf37ac456abc6dac7f4de5ef097312/data/model_2D_E0.npz\n",
    "AMBER_emulator = load_model(\"model_2D_E0.npz\")\n",
    "\n",
    "# Here, we define the AMBER emulator for a 4D structure search in d1-d2-d3-d4\n",
    "#!wget https://gitlab.com/joalof/bigmax_boss_tutorials/-/raw/319e6ba6dbbf37ac456abc6dac7f4de5ef097312/data/model_4D_E0.npz\n",
    "#AMBER_emulator = load_model(\"model_4D_E0.npz\")\n",
    "\n",
    "# Here, we define the utility function that retrieves data from the AMBER emulator.\n",
    "def f(X):\n",
    "    return AMBER_emulator.predict(np.atleast_2d(X))[0]"
   ]
  },
  {
   "cell_type": "markdown",
   "metadata": {
    "id": "y8gX-KOiO3Ga"
   },
   "source": [
    "## Running BO"
   ]
  },
  {
   "cell_type": "markdown",
   "metadata": {
    "id": "wn_0BF40O3Gb"
   },
   "source": [
    "Once more, we need to set up the BO run by defining the:\n",
    "\n",
    "* `bounds` of the search domain: the number of [lower, upper] bound pairs in the vector will tell BOSS that this is a 2D search.\n",
    "* `yrange` of the expected function\n",
    "* `kernel`: since all dihedral angles are 360-periodic, we can set the kernel to *standard periodic*\n",
    "* number of initial points `initpts` and BO iterations `iterpts`\n",
    "\n",
    "After setting BO, we are ready to run!"
   ]
  },
  {
   "cell_type": "code",
   "execution_count": null,
   "metadata": {
    "id": "DAzfXECbO3Gc"
   },
   "outputs": [],
   "source": [
    "# Here, we define the BO run.\n",
    "#bounds = [[-0.0, 360.0]] * 2   # It can be done like this, or explicitly below\n",
    "bounds = [[0.0, 360.0], [0.0, 360.0]]\n",
    "\n",
    "bo = BOMain(\n",
    "    f,\n",
    "    bounds,\n",
    "    yrange=[0, 1],\n",
    "    kernel=\"stdp\",\n",
    "    initpts=5,\n",
    "    iterpts=40,\n",
    ")\n",
    "\n",
    "# Here we perform BO, it should be a minute or two\n",
    "res = bo.run()"
   ]
  },
  {
   "cell_type": "markdown",
   "metadata": {
    "id": "PTiui6SQO3Ge"
   },
   "source": [
    "We immediately run post-processing to check results. We set additional options to:\n",
    "\n",
    "* `pp_iters`: postprocess only BO steps 0, 10, 20 and 40 for convenience\n",
    "* `pp_model_slice`: explicitly request a model slice in [dim1, dim2, Npts], which is useful to visualise N-dimensional models"
   ]
  },
  {
   "cell_type": "code",
   "execution_count": null,
   "metadata": {
    "id": "4EwFFJboO3Gf"
   },
   "outputs": [],
   "source": [
    "pp = PPMain(res, pp_models=True, pp_iters=[0, 10, 20, 40], pp_model_slice=[1,2, 50])\n",
    "pp.run()"
   ]
  },
  {
   "cell_type": "markdown",
   "metadata": {
    "id": "zKy8LL1oC8Iu"
   },
   "source": [
    "## Results and Analysis\n",
    "We start by checking **data acqusition** plots. Since we have 2 dimensions, the lower plot now features the sampling locations in both dihedrals. Amber energy values are all positive, and a global minimum was clearly idenfitifed. On the right, the **hyperparameter plot** indicates that the model has also converged.\n"
   ]
  },
  {
   "cell_type": "code",
   "execution_count": null,
   "metadata": {
    "colab": {
     "base_uri": "https://localhost:8080/",
     "height": 544
    },
    "id": "oOiQf0TgWTp9",
    "outputId": "9ab517a6-3d45-428d-9a63-c5dc5469b533"
   },
   "outputs": [],
   "source": [
    "# Let's inspect model data in BOSS\n",
    "\n",
    "# figure size in inches optional\n",
    "rcParams['figure.figsize'] = 18, 14\n",
    "\n",
    "# read images\n",
    "acq = mpimg.imread('postprocessing/acquisition_locations.png')\n",
    "param = mpimg.imread('postprocessing/hyperparameters.png')\n",
    "\n",
    "# display images\n",
    "fig, ax = plt.subplots(1,2)\n",
    "ax[0].imshow(acq)\n",
    "ax[1].imshow(param)"
   ]
  },
  {
   "cell_type": "markdown",
   "metadata": {
    "id": "v5vw5PndO3Gh"
   },
   "source": [
    "Let us review the potential energy surface (PES) landscapes simulated by GPR after 10, 20 and 40 BO points. We can see that **the global mininum was found with few datapoints**, but more sampling is needed to converge the energy landscapes."
   ]
  },
  {
   "cell_type": "code",
   "execution_count": null,
   "metadata": {
    "colab": {
     "base_uri": "https://localhost:8080/",
     "height": 372
    },
    "id": "ZqRassM7YaAR",
    "outputId": "aebd26e0-fc2c-4314-bc9c-f0637e1efd95"
   },
   "outputs": [],
   "source": [
    "# Let's inspect the d1-d4 2D model fitting for alanine\n",
    "\n",
    "# figure size in inches optional\n",
    "rcParams['figure.figsize'] = 18, 14\n",
    "\n",
    "# read images\n",
    "it1 = mpimg.imread('postprocessing/graphs_models/it0010_npts0015.png')\n",
    "it3 = mpimg.imread('postprocessing/graphs_models/it0020_npts0025.png')\n",
    "it5 = mpimg.imread('postprocessing/graphs_models/it0040_npts0045.png')\n",
    "\n",
    "# display images\n",
    "fig, ax = plt.subplots(1,3)\n",
    "ax[0].imshow(it1)\n",
    "ax[1].imshow(it3)\n",
    "ax[2].imshow(it5)"
   ]
  },
  {
   "cell_type": "markdown",
   "metadata": {
    "id": "aMjlAqWOO3Gh"
   },
   "source": [
    "# Exercise:\n",
    "Re-do the conformer search with **all 4 degrees of freedom** by uncommenting code above. Note that you have to load the 4D dataset for the AMBER emulator function, and adjust the bounds for 4 dimensions instead of 2. You can execute the BO run with the same settings. In 4D, BO should take a couple of min.\n",
    "\n",
    "Re-plot all the graphs above. In a 4D structure search, domain volume to cover by sampling is much bigger than in 2D, so the same amount of sampling results in poorer models.\n",
    "\n",
    "* How does the convergence look for the global minimum prediction and the model hyperparameters?\n",
    "* What about the energy landscapes?\n",
    "\n",
    "When post-processing, you can now choose to slice the 4D surrogate model in the plane of any dihedral pair with the `pp_model_slice` keyword. The cross-section is always extracted in the plane of the global minimum solution (you can choose other planes via keywords). Once the BO run is complete, you can rerun the post-processing in different ways, but note that the `postprocessing` directory will be overwritten unless you rename it.\n",
    "\n",
    "* Dihedral variable d7 has a 120deg symmetry which can be accounted for with a shorter domain boundary - is this visible in the energy landscapes?\n",
    "* The 2D model was produced for d1-d4 pair, which dominates conformer energetics. If you slice the 4D model in the d1-d4 plane, does it look similar?"
   ]
  },
  {
   "cell_type": "code",
   "execution_count": null,
   "metadata": {},
   "outputs": [],
   "source": []
  }
 ],
 "metadata": {
  "colab": {
   "include_colab_link": true,
   "provenance": []
  },
  "jupytext": {
   "cell_metadata_filter": "-all",
   "main_language": "python",
   "notebook_metadata_filter": "-all"
  },
  "kernelspec": {
   "display_name": "Python 3 (ipykernel)",
   "language": "python",
   "name": "python3"
  },
  "language_info": {
   "codemirror_mode": {
    "name": "ipython",
    "version": 3
   },
   "file_extension": ".py",
   "mimetype": "text/x-python",
   "name": "python",
   "nbconvert_exporter": "python",
   "pygments_lexer": "ipython3",
   "version": "3.12.10"
  }
 },
 "nbformat": 4,
 "nbformat_minor": 4
}
