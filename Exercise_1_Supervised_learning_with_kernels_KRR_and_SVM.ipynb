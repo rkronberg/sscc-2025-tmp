{
 "cells": [
  {
   "cell_type": "markdown",
   "metadata": {
    "id": "uOmTyDMtUMvt"
   },
   "source": [
    "# Exercise 3: Supervised Learning with Kernel Methods\n",
    "\n",
    "The purpose of this exercise is to get familiar with kernel-method based regression (using Kernel Ridge Regression, KRR) and classification of data (using Support-Vector Machine, SVM).\n",
    "\n",
    "The exercise is structured in two main blocks:\n",
    "1.   Kernel Ridge Regression for HOMO energy prediction (essential content)\n",
    "2.   Support-Vector Machine Classification of the majority element in various metal alloys (optional content)\n",
    "\n",
    "The relevant background of each part of the exercise will be provided in the respective block, so please read the content below carefully."
   ]
  },
  {
   "cell_type": "markdown",
   "metadata": {
    "id": "XegnO6aTwrmX"
   },
   "source": [
    "## 1. HOMO energy prediction with kernel ridge regression\n",
    "\n",
    "\n",
    "Here we will machine-learn the relationship between molecular structure (represented by the Coulomb matrix CM) and their HOMO (Highest Occupied Molecular Orbital) energy using KRR. Molecular orbitals represent the energy levels of electrons in molecules, and are essential in understanding how molecules adsorb and emit light, so HOMO is a frequent target of machine learning predictions.\n",
    "\n",
    "As discussed in the lecture, KRR is a machine learning method that performs regression (fitting). This tutorial shows step by step how to load the data, visualize them, select the hyperparameters, train the model and validate it. We use the QM7 dataset of 7000 small organic molecules. The HOMO energies of all molecules were pre-computed with first principles quantum mechanical methods (DFT) to obtain the target data that our model can be trained on. Detailed descriptions and results for a similar dataset (QM9) can be found in [A. Stuke, et al. \"Chemical diversity in molecular orbital energy predictions with kernel ridge regression.\" J. Chem. Phys. 150. 204121 (2019)](https://aip.scitation.org/doi/10.1063/1.5086105).\n",
    "\n",
    "\n",
    "## Setup"
   ]
  },
  {
   "cell_type": "code",
   "execution_count": null,
   "metadata": {
    "id": "qdphsPPRwwNF"
   },
   "outputs": [],
   "source": [
    "# Let's load here all the necessary functions for KRR\n",
    "from sklearn.model_selection import GridSearchCV\n",
    "from sklearn.model_selection import cross_validate\n",
    "from sklearn.kernel_ridge import KernelRidge\n",
    "from sklearn.metrics import r2_score\n",
    "\n",
    "# And now let's load the requisite Python pacakges\n",
    "import numpy as np\n",
    "import matplotlib.pyplot as plt\n",
    "import pandas as pd\n",
    "import seaborn as sns\n",
    "import json\n",
    "import math, random\n",
    "from scipy.sparse import load_npz\n",
    "from matplotlib.colors import LinearSegmentedColormap\n",
    "import time"
   ]
  },
  {
   "cell_type": "markdown",
   "metadata": {
    "id": "hi4ISia7wrmc"
   },
   "source": [
    "### Load and visualize data\n",
    "\n",
    "At first, we load the molecular dataset.\n",
    "\n",
    "The input data x is an array that contains all 7000 molecules of the QM7 dataset, represented by their Coulomb matrices, which were computed with the [Dscribe](https://www.sciencedirect.com/science/article/pii/S0010465519303042?via%3Dihub) package.\n",
    "\n",
    "The output data y is a list that contains the corresponding (pre-computed) HOMO energies."
   ]
  },
  {
   "cell_type": "code",
   "execution_count": null,
   "metadata": {
    "id": "jTZ_1hpqLBK5"
   },
   "outputs": [],
   "source": [
    "!wget https://github.com/fullmetalfelix/ML-CSC-tutorial/raw/master/data/qm7/cm.npz\n",
    "!wget https://raw.githubusercontent.com/fullmetalfelix/ML-CSC-tutorial/master/data/qm7/HOMO.txt"
   ]
  },
  {
   "cell_type": "code",
   "execution_count": null,
   "metadata": {
    "id": "6tTcc8Mtwrmd"
   },
   "outputs": [],
   "source": [
    "x = load_npz(\"cm.npz\").toarray()\n",
    "y = np.genfromtxt(\"HOMO.txt\")\n",
    "\n",
    "print(\"Number of molecules:\", len(y))"
   ]
  },
  {
   "cell_type": "markdown",
   "metadata": {
    "id": "yWa4pRHxwrmf"
   },
   "source": [
    "Print the Coulomb matrix of a random molecule in the dataset."
   ]
  },
  {
   "cell_type": "code",
   "execution_count": null,
   "metadata": {
    "id": "7CovKOElwrmg"
   },
   "outputs": [],
   "source": [
    "rand_mol = random.randint(0, len(y))\n",
    "\n",
    "print(x[rand_mol])"
   ]
  },
  {
   "cell_type": "markdown",
   "metadata": {
    "id": "BKo-SoN2wrmh"
   },
   "source": [
    "Visualize the Coulomb matrix of the random molecule."
   ]
  },
  {
   "cell_type": "code",
   "execution_count": null,
   "metadata": {
    "id": "GJu2RtUhwrmh"
   },
   "outputs": [],
   "source": [
    "shape = (23, 23)\n",
    "mat = x[rand_mol].reshape(shape)\n",
    "\n",
    "plt.figure()\n",
    "plt.figure(figsize = (6,6))\n",
    "plt.imshow(mat, origin=\"upper\", cmap='rainbow', vmin=-15, vmax=90, interpolation='nearest')\n",
    "plt.colorbar(fraction=0.046, pad=0.04).ax.tick_params(labelsize=20)\n",
    "plt.axis('off')\n",
    "plt.show()"
   ]
  },
  {
   "cell_type": "markdown",
   "metadata": {
    "id": "n434DnNSwrmi"
   },
   "source": [
    "Note that many of the outputs are zero in the Coulomb matrix. This is because the size of the Coulomb matrix must be the same for each data entry. Consequently, the size is set according to the largest molecule in the dataset, and for smaller molecules the Coulomb matrix is zero-padded (the remaining empty matrix entries are set to zero).\n",
    "\n",
    "Next, visualize the target data by plotting the distribution of HOMO energies in the dataset. What kind of a distribution is this?"
   ]
  },
  {
   "cell_type": "code",
   "execution_count": null,
   "metadata": {
    "id": "YxjygJgJwrmj"
   },
   "outputs": [],
   "source": [
    "plt.hist(y, bins=20, density=False, facecolor='blue')\n",
    "plt.xlabel(\"Energy [eV]\")\n",
    "plt.ylabel(\"Number of molecules\")\n",
    "plt.title(\"Distribution of HOMO energies\")\n",
    "plt.show()\n",
    "\n",
    "## mean value of distribution\n",
    "print(\"Mean value of HOMO energies in QM7 dataset: %0.2f eV\" %np.mean(y))"
   ]
  },
  {
   "cell_type": "markdown",
   "metadata": {
    "id": "QpgK9ky-wrmk"
   },
   "source": [
    "Before dividing the dataset into training and test set, we shuffle the data. This is because data are often stored in a logical order (e.g., certain types of molecules grouped one after each other). Simply taking the first part for training and the second for testing would not result in a well trained model, since the training set would not represent the test data well (and vice versa)."
   ]
  },
  {
   "cell_type": "code",
   "execution_count": null,
   "metadata": {
    "id": "6luJyqCKwrmk"
   },
   "outputs": [],
   "source": [
    "## shuffle the data\n",
    "\n",
    "c = list(zip(x, y))\n",
    "random.shuffle(c)\n",
    "\n",
    "x, y = zip(*c)\n",
    "\n",
    "x = np.array(x)\n",
    "y = np.array(y)"
   ]
  },
  {
   "cell_type": "markdown",
   "metadata": {
    "id": "XQh-MAv5wrml"
   },
   "source": [
    "Now, we divide the data into training and test set. Select 1000 molecules for both your training and test set."
   ]
  },
  {
   "cell_type": "code",
   "execution_count": null,
   "metadata": {
    "id": "wmnl8ZzAwrmm"
   },
   "outputs": [],
   "source": [
    "# define how many samples to take from the database for training and testing\n",
    "n_train = 1000\n",
    "n_test = 1000\n",
    "\n",
    "# split data in training and test for both X and Y\n",
    "# take first n_train molecules for training\n",
    "x_train  = x[0:n_train]\n",
    "y_train = y[0:n_train]\n",
    "\n",
    "# take the next n_test data for testing\n",
    "x_test = x[n_train:n_train + n_test]\n",
    "y_test = y[n_train:n_train + n_test]"
   ]
  },
  {
   "cell_type": "markdown",
   "metadata": {
    "id": "uEP7iSchwrmm"
   },
   "source": [
    "Check that the training data resemble the test data well by plotting the distribution of HOMO energies for both sets."
   ]
  },
  {
   "cell_type": "code",
   "execution_count": null,
   "metadata": {
    "id": "w_H7kOBTwrmn"
   },
   "outputs": [],
   "source": [
    "# plot the training and test set labels Y\n",
    "plt.hist(y_train, bins=20, density=False, alpha=0.5, facecolor='red', label='test set')\n",
    "plt.hist(y_test, bins=20, density=False, alpha=0.5, facecolor='gray', label='training set')\n",
    "\n",
    "plt.xlabel(\"Energy [eV]\")\n",
    "plt.ylabel(\"Number of molecules\")\n",
    "plt.legend()\n",
    "plt.show()"
   ]
  },
  {
   "cell_type": "markdown",
   "metadata": {
    "id": "QiZE6il9DE-b"
   },
   "source": [
    "The training and test set distributions should be centered around the same mean value and have the same shape as the complete dataset. Print out the values below to check:"
   ]
  },
  {
   "cell_type": "code",
   "execution_count": null,
   "metadata": {
    "id": "l9VU3XezDMit"
   },
   "outputs": [],
   "source": [
    "## mean value of distributions\n",
    "print(\"Mean value of HOMO energies in training set: %0.2f eV\" %np.mean(y_train))\n",
    "print(\"Mean value of HOMO energies in test set: %0.2f eV\" %np.mean(y_test))"
   ]
  },
  {
   "cell_type": "markdown",
   "metadata": {
    "id": "0FxS6Kazwrmo"
   },
   "source": [
    "### Training\n",
    "\n",
    "In the training phase we use a kernel function to measure the distance between all pairs of molecules (represented by their Coulomb matrices) in the training set. We here employ one of two kernels, the Gaussian kernel or the Laplacian kernel. Both kernels have two hyperparameters: $\\alpha$ controls the penalty term and $\\gamma$ the kernel width.\n",
    "\n",
    "To find the optimal hyperparameters, we will do a grid search, i.e. we test the performance of a model trained with values of the hyperparameters that are spaced out on a grid in search space and choose the hyperparameters that yield the best performance.\n",
    "\n",
    "The model performance is quantified by splitting off part of the training set as validation set. We validate the model by making predictions on this validation set. This check of the model performance can be further refined with cross-validation, where the roles of training and validation sets alternate. The ratio can be varied, for example in 5-fold cross-validation, the training set is split in 5 equal parts. The model is trained on 80% of the data and validated on the other 20%. Then the roles of training and validation set rotate until each part has served as validation set exactly once.\n",
    "\n",
    "For our implementation, we will use the scikit-learn module.\n",
    "\n",
    "A more detailed optional explanation, which is not required for the solution of the exercise, can be found in the hidden cell below."
   ]
  },
  {
   "cell_type": "markdown",
   "metadata": {
    "id": "IqRlAI8983CM"
   },
   "source": [
    "The Gaussian kernel is written as:\n",
    "\n",
    "\\begin{equation}\n",
    "k_{Gaussian}(\\boldsymbol{x},\\boldsymbol{x}')=e^{-\\frac{||{\\boldsymbol{x}-\\boldsymbol{x}'}||_2^2}{2\\gamma^2}},\n",
    "\\end{equation}\n",
    "\n",
    "which employs the Euclidean distance as similarity measure. The parameter $\\gamma$ is defined as $\\frac{1}{2\\sigma^2}$, where $\\sigma$ is the standard deviation of the Gaussian kernel (kernel width). The Laplacian kernel is written as:\n",
    "\n",
    "\\begin{equation}\n",
    "    k_{Laplacian}(\\boldsymbol{x},\\boldsymbol{x}')=e^{-\\frac{||{\\boldsymbol{x}-\\boldsymbol{x}'}||_1}{\\gamma}},\n",
    "\\end{equation}\n",
    "\n",
    "which uses the 1-norm as similarity measure. Here, $\\gamma$ is defined as $\\frac{1}{\\sigma}$, where $\\sigma$ is the kernel width of the Laplacian kernel.\n",
    "\n",
    "In the KRR training phase with $N$ training molecules, the machine learns the relationship between the molecules (represented by their Coulomb matrix) and their corresponding (pre-computed) HOMO energies. It does so by employing a function $f(\\boldsymbol{x})$ that maps a training molecule $\\boldsymbol{x}$ to its reference HOMO energy:\n",
    "\n",
    "\\begin{equation}\n",
    "f(\\boldsymbol{x}) = \\sum_{i=1}^N \\omega_i k(\\boldsymbol{x}, \\boldsymbol{x}_i) = HOMO^{ref},\n",
    "\\end{equation}\n",
    "\n",
    "For a given training molecule $\\boldsymbol{x}$, the distance to each molecule in the training set is computed by employing the kernel function $k$ (either Gaussian or Laplacian). Each kernel contribution (distance) is then weighted by a regression weight $\\omega_i$. The above function is thus given by the weighted sum of kernel contributions (sum over $N$ training molecules). The purpose of training is to fit the regression weight $\\omega_i$ so that HOMO$_{ref}$ is matched for each training molecule. In practice, the machine solves the minimization problem\n",
    "\n",
    "\n",
    "\\begin{equation}\n",
    " \\underset{\\omega}{min} \\sum_{i=1}^N (f(\\boldsymbol{x}_i) - HOMO^{ref}_i)^2 + \\alpha \\boldsymbol{\\omega}^T \\mathbf{K} \\boldsymbol{\\omega}.\n",
    "\\end{equation}\n",
    "\n",
    "for a vector $\\boldsymbol{\\omega} \\in \\mathbb{R}^N = (\\omega_1, \\omega_2, ..., \\omega_N)$ of regression weights. In KRR, the penalty term $ \\alpha \\boldsymbol{\\omega}^T \\mathbf{K} \\boldsymbol{\\omega}$ is added to the minimization problem in order to avoid over- and underfitting. Overfitting occurs when the model learns the training data too well, even the noise and other unimportant details. The model is unable to generalize on unseen data and therefore yields high prediction errors on the test data. Underfitting occurs when the model is too simple and does not learn the training data at all, and therefore is not able to predict test data well either. Both behaviours can be avoided by tuning the parameter $\\alpha \\in \\left[0,1\\right]$ to a reasonable value. This has do be done separately from training. Both the regularization parameter $\\alpha$ and the kernel width $\\gamma$ are so called hyperparameters. Hyperparameters cannot be learned during training and have to be selected beforehand. However, it is not always obvious how to choose these hyperparameters and it often requires intuition or rules of thumb. We here employ a cross-validated grid search in order to find the best values for these two hyperparameters.\n",
    "\n",
    "In grid search, a part of the training set is split off as validation set. We set up a grid of pre-defined hyperparameter values and train the machine on the remaining training set, for each possible combination of $\\alpha$ and $\\gamma$ values. We validate each possible combination by making predictions on the validation set. The two hyperparameter values that yield the best performance (lowest error) are then selected for the final model to make predictions on the test set.\n",
    "\n",
    "In cross-validation, the roles of training and validation sets alternate. As described above, a part from the training set is split off as validation set. After training one combination of hyperparameters on the remaining training set and validating on the validation set, the validation set becomes the training set and vice versa, and the model is trained on the new training set and validated on the new validation set for the same combination of hyperparameters. The ratio can be varied, for example in 5-fold cross-validation, the training set is split in 5 equal parts. For each combination of hyperparameters, the model is trained on 80% of the data and validated on the other 20%. Then the roles of training and validation set rotate until each part has served as validation set exactly once. The final validation error for one particular combination of hyperparameters is computed as the mean from all 5 errors on the 5 validation sets. The combination with lowest average error is chosen for the final model.\n",
    "\n",
    "The cross-validated grid search routine is implemented in scikit-learn."
   ]
  },
  {
   "cell_type": "markdown",
   "metadata": {
    "id": "O5e2EytL8aDY"
   },
   "source": [
    "### KRR supervised learning implementation"
   ]
  },
  {
   "cell_type": "code",
   "execution_count": null,
   "metadata": {
    "id": "hbcOapWDwrmp"
   },
   "outputs": [],
   "source": [
    "# First, set up the grids for alpha and gamma hyperparameter grid search.\n",
    "# The numbers x provided below are powers of hyperparameters 10^x\n",
    "# first value: lower bound;\n",
    "# second value: upper bound;\n",
    "# third value: number of points to evaluate\n",
    "# (here set to '3' --> '-2', '-1' and '0' are evaluated)\n",
    "\n",
    "# --> make sure to change third value as well when changing the bounds!\n",
    "alpha = np.logspace(-2, 0, 3)\n",
    "gamma = np.logspace(-2, 0, 3)\n"
   ]
  },
  {
   "cell_type": "code",
   "execution_count": null,
   "metadata": {
    "id": "eRt0rRkIEgJs"
   },
   "outputs": [],
   "source": [
    "# Next, select some important aspects of the model\n",
    "\n",
    "cv_number = 2 ## choose into how many parts training set is divided for cross-validation\n",
    "kernel = 'laplacian' # select kernel function here ('rbf': Gaussian kernel, 'laplacian': Laplacian kernel)\n",
    "scoring_function = 'neg_mean_absolute_error' # it is called \"negative\" because scikit-learn interprets\n",
    "                                             # highest scoring value as best, but we want small errors"
   ]
  },
  {
   "cell_type": "code",
   "execution_count": null,
   "metadata": {
    "id": "qSAPbeFYEjI4"
   },
   "outputs": [],
   "source": [
    "# Now define the settings for grid search routine in scikit-learn with above-defined grids as input\n",
    "\n",
    "grid_search = GridSearchCV(KernelRidge(),  #machine learning method (KRR here)\n",
    "                           [{'kernel':[kernel],'alpha': alpha, 'gamma': gamma}],\n",
    "                           cv = cv_number,\n",
    "                           scoring = scoring_function,\n",
    "                           verbose=1000)  ## produces detailed output statements of grid search\n",
    "                                          # routine so we can see what is computed"
   ]
  },
  {
   "cell_type": "code",
   "execution_count": null,
   "metadata": {
    "id": "jdFXDlbYEle8"
   },
   "outputs": [],
   "source": [
    "# We are ready!\n",
    "\n",
    "# Please call the fit function in scikit-learn which fits the Coulomb matrices in the training set\n",
    "# to their corresponding HOMO energies.\n",
    "grid_search.fit(x_train, y_train)"
   ]
  },
  {
   "cell_type": "markdown",
   "metadata": {
    "id": "mTrweQ1Mwrmr"
   },
   "source": [
    "### Grid search results\n",
    "\n",
    "Print out the average validation errors and corresponding hyperparameter combinations"
   ]
  },
  {
   "cell_type": "code",
   "execution_count": null,
   "metadata": {
    "id": "066IjiWawrmr"
   },
   "outputs": [],
   "source": [
    "means = grid_search.cv_results_['mean_test_score']\n",
    "stds = grid_search.cv_results_['std_test_score']\n",
    "for mean, std, params in zip(-means, stds, grid_search.cv_results_['params']):\n",
    "    print(\"%0.3f (+/-%0.03f) for %r\" % (mean, std * 2, params))"
   ]
  },
  {
   "cell_type": "markdown",
   "metadata": {
    "id": "SrfhK2fTwrms"
   },
   "source": [
    "Next, we visualize the grid search results by plotting a heatmap."
   ]
  },
  {
   "cell_type": "code",
   "execution_count": null,
   "metadata": {
    "id": "T2swGFTLwrmt"
   },
   "outputs": [],
   "source": [
    "results = pd.DataFrame(grid_search.cv_results_)\n",
    "\n",
    "pvt = pd.pivot_table(results, values='mean_test_score',\n",
    "                     index='param_gamma', columns='param_alpha')\n",
    "heatmap = sns.heatmap(-pvt, annot=True, cmap='viridis', cbar_kws={'label': \"Mean absolute error [eV]\"})\n",
    "figure = heatmap.get_figure()\n",
    "plt.show()\n",
    "\n",
    "\n",
    "print(\"The best combinations of parameters are %s with a score of %0.3f eV on the validation set.\"\n",
    "      % (grid_search.best_params_, -grid_search.best_score_))"
   ]
  },
  {
   "cell_type": "markdown",
   "metadata": {
    "id": "-tv1CciKwrmu"
   },
   "source": [
    "### Testing\n",
    "\n",
    "With the best combination of hyperparameters, the model is once again trained on the entire training set (this is done automatically in scikit-learn). Then, with the best combination of hyperparameters, predictions are made on the test set to evaluate the final model, which we will use for predictions.\n",
    "\n",
    "The mean absolute error of the predicted from the reference HOMO energies and $R^2$ score will be our measure for the quality of the fit.\n"
   ]
  },
  {
   "cell_type": "code",
   "execution_count": null,
   "metadata": {
    "id": "k8e9G1iNwrmv"
   },
   "outputs": [],
   "source": [
    "# predicted HOMO energies for all test molecules\n",
    "\n",
    "y_pred = grid_search.predict(x_test) # scikit-learn automatically takes the best combination\n",
    "                                     # of hyperparameters from grid search\n",
    "\n",
    "print(\"Mean absolute error on test set: %0.3f eV\" %(np.abs(y_pred-y_test)).mean())"
   ]
  },
  {
   "cell_type": "markdown",
   "metadata": {
    "id": "jxx0Yk_qGN6e"
   },
   "source": [
    "To visualise the quality of the results, we need to produce the scatter plot."
   ]
  },
  {
   "cell_type": "code",
   "execution_count": null,
   "metadata": {
    "id": "fDZusDEoGK3C"
   },
   "outputs": [],
   "source": [
    "# make the scatter plot for checking results quality\n",
    "plt.plot(y_test, y_pred, 'o')\n",
    "plt.plot([np.min(y_test),np.max(y_test)], [np.min(y_test),np.max(y_test)], '-')\n",
    "plt.xlabel('reference HOMO energy [eV]')\n",
    "plt.ylabel('predicted HOMO energy [eV]')\n",
    "plt.show()\n",
    "print(\"R^2 score on test set: %.3f\" % r2_score(y_test, y_pred))"
   ]
  },
  {
   "cell_type": "markdown",
   "metadata": {
    "id": "pYf2oHVbwrmw"
   },
   "source": [
    "The $R^2$ score indicates how close the predicted energies in the test set are to the reference energies. The closer the points in the above figure are located to the diagonal, the better the predictions. Points on the diagonal (\"predicted energy\"=\"reference energy\") correspond to $R^2=1$. Therefore, $R^2$ values close to 1 indicate good model performance."
   ]
  },
  {
   "cell_type": "markdown",
   "metadata": {
    "collapsed": true,
    "id": "zcdZdkThwrmw",
    "jupyter": {
     "outputs_hidden": true
    }
   },
   "source": [
    "### **Exercises**\n",
    "\n",
    "#### a. Grid search\n",
    "\n",
    "Increase the number and range of grid points used for grid search, and keep the other parameters the same. Which combination of $\\alpha$ and $\\gamma$ works best? How does the computational time increase? Choose a reasonable number of grid points that don't take too long to evaluate."
   ]
  },
  {
   "cell_type": "code",
   "execution_count": null,
   "metadata": {
    "id": "mqN4J1xVwrmx"
   },
   "outputs": [],
   "source": [
    "#Choose alpha and gamma on a finer logarithmically spaced grid. The other parameters can be chosen as above.\n",
    "alpha = np.logspace(-6, 0, 10)\n",
    "gamma = np.logspace(-6, 0, 10)\n",
    "cv_number = 2\n",
    "kernel = 'laplacian'\n",
    "scoring_function = 'neg_mean_absolute_error'\n",
    "\n",
    "\n",
    "grid_search = GridSearchCV(KernelRidge(),  #machine learning method (KRR here)\n",
    "                           [{'kernel':[kernel],'alpha': alpha, 'gamma': gamma}],\n",
    "                           cv = cv_number,\n",
    "                           scoring = scoring_function,\n",
    "                           verbose=1000)  ## produces detailed output statements of grid search routine\n",
    "\n",
    "grid_search.fit(x_train, y_train)\n",
    "\n",
    "results = pd.DataFrame(grid_search.cv_results_)\n",
    "\n",
    "pvt = pd.pivot_table(results, values='mean_test_score',\n",
    "                     index='param_gamma', columns='param_alpha')\n",
    "heatmap = sns.heatmap(-pvt, annot=True, cmap='viridis', cbar_kws={'label': \"Mean absolute error [eV]\"})\n",
    "figure = heatmap.get_figure()\n",
    "plt.show()\n",
    "\n",
    "print(\"The best combinations of parameters are %s with a score of %0.3f eV on the validation set.\"\n",
    "      % (grid_search.best_params_, -grid_search.best_score_))\n",
    "\n",
    "y_pred = grid_search.predict(x_test) # scikit-learn automatically takes the best combination of hyperparameters from grid search\n",
    "\n",
    "print(\"Mean absolute error on test set: %0.3f eV\" %(np.abs(y_pred-y_test)).mean())\n",
    "\n",
    "plt.plot(y_test, y_pred, 'o')\n",
    "plt.plot([np.min(y_test),np.max(y_test)], [np.min(y_test),np.max(y_test)], '-')\n",
    "plt.xlabel('reference HOMO energy [eV]')\n",
    "plt.ylabel('predicted HOMO energy [eV]')\n",
    "plt.show()\n",
    "print(\"R^2 score on test set: %.3f\" % r2_score(y_test, y_pred))"
   ]
  },
  {
   "cell_type": "markdown",
   "metadata": {
    "id": "Gsy36Rzowrmy"
   },
   "source": [
    "#### b. Kernel function\n",
    "\n",
    "Now try the Gaussian kernel instead of the Laplacian kernel, while keeping all other hyperparameter choices the same. Which kernel leads to better model performance?"
   ]
  },
  {
   "cell_type": "code",
   "execution_count": null,
   "metadata": {
    "id": "srWUmjKapUMD"
   },
   "outputs": [],
   "source": [
    "#Repeat the above calculation with the Gaussian kernel. The Gaussian kernel is identified with the string 'rbf'.\n",
    "alpha = np.logspace(-6, 0, 10)\n",
    "gamma = np.logspace(-6, 0, 10)\n",
    "cv_number = 2\n",
    "kernel = 'rbf'\n",
    "scoring_function = 'neg_mean_absolute_error'\n",
    "\n",
    "grid_search = GridSearchCV(KernelRidge(),  #machine learning method (KRR here)\n",
    "                           [{'kernel':[kernel],'alpha': alpha, 'gamma': gamma}],\n",
    "                           cv = cv_number,\n",
    "                           scoring = scoring_function,\n",
    "                           verbose=1000)  ## produces detailed output statements of grid search routine\n",
    "\n",
    "grid_search.fit(x_train, y_train)\n",
    "\n",
    "results = pd.DataFrame(grid_search.cv_results_)\n",
    "\n",
    "pvt = pd.pivot_table(results, values='mean_test_score',\n",
    "                     index='param_gamma', columns='param_alpha')\n",
    "heatmap = sns.heatmap(-pvt, annot=True, cmap='viridis', cbar_kws={'label': \"Mean absolute error [eV]\"})\n",
    "figure = heatmap.get_figure()\n",
    "plt.show()\n",
    "\n",
    "print(\"The best combinations of parameters are %s with a score of %0.3f eV on the validation set.\"\n",
    "      % (grid_search.best_params_, -grid_search.best_score_))\n",
    "\n",
    "y_pred = grid_search.predict(x_test) # scikit-learn automatically takes the best combination of hyperparameters from grid search\n",
    "\n",
    "print(\"Mean absolute error on test set: %0.3f eV\" %(np.abs(y_pred-y_test)).mean())\n",
    "\n",
    "plt.plot(y_test, y_pred, 'o')\n",
    "plt.plot([np.min(y_test),np.max(y_test)], [np.min(y_test),np.max(y_test)], '-')\n",
    "plt.xlabel('reference HOMO energy [eV]')\n",
    "plt.ylabel('predicted HOMO energy [eV]')\n",
    "plt.show()\n",
    "print(\"R^2 score on test set: %.3f\" % r2_score(y_test, y_pred))"
   ]
  },
  {
   "cell_type": "markdown",
   "metadata": {
    "id": "5yJUdzhewrmx"
   },
   "source": [
    "#### c. Cross-validation\n",
    "\n",
    "For this exercise, choose the kernel that performed better in the previous exercise. Increase the number of folds used for cross-validation. Does the quality of the model increase? Take note as well of the increasing computational time and choose a number of folds that does not require too much computational time."
   ]
  },
  {
   "cell_type": "code",
   "execution_count": null,
   "metadata": {
    "id": "Jqy3rfT9wrmy"
   },
   "outputs": [],
   "source": [
    "#Repeat the above calculation with a higher number of cross-validation folds. Use the kernel that showed better performance.\n",
    "alpha = np.logspace(-6, 0, 10)\n",
    "gamma = np.logspace(-6, 0, 10)\n",
    "cv_number = 5\n",
    "kernel = 'laplacian'\n",
    "scoring_function = 'neg_mean_absolute_error'\n",
    "\n",
    "grid_search = GridSearchCV(KernelRidge(),  #machine learning method (KRR here)\n",
    "                           [{'kernel':[kernel],'alpha': alpha, 'gamma': gamma}],\n",
    "                           cv = cv_number,\n",
    "                           scoring = scoring_function,\n",
    "                           verbose=1000)  ## produces detailed output statements of grid search routine\n",
    "\n",
    "grid_search.fit(x_train, y_train)\n",
    "\n",
    "results = pd.DataFrame(grid_search.cv_results_)\n",
    "#pd.DataFrame(grid_search.cv_results_)\n",
    "\n",
    "pvt = pd.pivot_table(results, values='mean_test_score',\n",
    "                     index='param_gamma', columns='param_alpha')\n",
    "heatmap = sns.heatmap(-pvt, annot=True, cmap='viridis', cbar_kws={'label': \"Mean absolute error [eV]\"})\n",
    "figure = heatmap.get_figure()\n",
    "plt.show()\n",
    "\n",
    "print(\"The best combinations of parameters are %s with a score of %0.3f eV on the validation set.\"\n",
    "      % (grid_search.best_params_, -grid_search.best_score_))\n",
    "\n",
    "y_pred = grid_search.predict(x_test) # scikit-learn automatically takes the best combination of hyperparameters from grid search\n",
    "\n",
    "print(\"Mean absolute error on test set: %0.3f eV\" %(np.abs(y_pred-y_test)).mean())\n",
    "\n",
    "plt.plot(y_test, y_pred, 'o')\n",
    "plt.plot([np.min(y_test),np.max(y_test)], [np.min(y_test),np.max(y_test)], '-')\n",
    "plt.xlabel('reference HOMO energy [eV]')\n",
    "plt.ylabel('predicted HOMO energy [eV]')\n",
    "plt.show()\n",
    "print(\"R^2 score on test set: %.3f\" % r2_score(y_test, y_pred))"
   ]
  },
  {
   "cell_type": "markdown",
   "metadata": {
    "id": "jjoUSLWuwrmz"
   },
   "source": [
    "#### d. Training set size\n",
    "\n",
    "Increase the size of the training set and plot the mean absolute error and $R^2$ score and training time on the test set as a function of the training set size (e.g. use 500, 1000, 1500 etc. as training set size). For the MAE and $R^2$ values use a logarithmic time axis. Compare with the previous exercises.\n",
    "\n",
    "The optimal hyperparameter values for $\\alpha$ and $\\gamma$ can change throughout varying training set sizes. Therefore, when increasing the training set size, it is recommended to perform a cross-validated grid search for each training set size. For the sake of this exercise, we will limit ourselves to taking the optimal hyperparameters from the previous exercise as an approximation and not perform a grid search. Consequently, we will not cross-validate our model in this exercise in the interest of time."
   ]
  },
  {
   "cell_type": "code",
   "execution_count": null,
   "metadata": {
    "id": "0o6HAqu4bYPb"
   },
   "outputs": [],
   "source": [
    "# We keep the size of the test set constant in this exercise\n",
    "n_test = 1000\n",
    "\n",
    "# We want to iterate over different training set sizes n_train.\n",
    "# Use the range() function below to do this.\n",
    "\n",
    "# Let's be careful and take a small step of 500 molecules.\n",
    "# What are the minimum and maximum training set sizes you can test?\n",
    "# Note that range() function will stop one step before\n",
    "# the max value you list below.\n",
    "\n",
    "#Prepare an iterator with reasonable choices of n_train.\n",
    "n_train_iterator=range(None,None,None)\n",
    "\n",
    "#These lists we want to fill during the iteration with the mean absolute error,\n",
    "#R^2 score and elapsed training time.\n",
    "mae_list=[]\n",
    "r2_list=[]\n",
    "time_list=[]\n",
    "\n",
    "#In alpha and gamma, we want to save the best choice of parameters from\n",
    "#the previous exercise. Check the exercise above if you are unsure\n",
    "#how to access them from grid_search.\n",
    "alpha=None\n",
    "gamma=None\n",
    "\n",
    "#Use the kernel that has shown better performance.\n",
    "kernel=None\n",
    "\n",
    "for n_train in n_train_iterator:\n",
    "  x_train  = x[0:n_train]\n",
    "  y_train = y[0:n_train]\n",
    "\n",
    "  x_test = x[n_train:n_train + n_test]\n",
    "  y_test = y[n_train:n_train + n_test]\n",
    "\n",
    "  #Here we save the starting time of the kernel ridge training.\n",
    "  start = time.time()\n",
    "\n",
    "  #In the following we will perform the kernel ridge training without\n",
    "  #cross-validation. For this we use the Object KernelRidge, which\n",
    "  #has previously been used as the estimator in the cross-validation.\n",
    "  #We need to set alpha, gamma and the kernel. For documentation, see:\n",
    "  #https://scikit-learn.org/stable/modules/generated/sklearn.kernel_ridge.KernelRidge.html\n",
    "  kernel_ridge=None\n",
    "\n",
    "  #After setting up the kernel_ridge object, we need to train with our\n",
    "  #training data using the method fit and make predictions on the test set\n",
    "  #using the method predict in analogy to the cross-validation example.\n",
    "\n",
    "  # Check the KRR documentation in scikit-learn and fill in below:\n",
    "\n",
    "  # Model fit step:\n",
    "\n",
    "\n",
    "  # Model predict step:\n",
    "\n",
    "\n",
    "  # Here we save the ending time of the kernel ridge training.\n",
    "  end = time.time()\n",
    "\n",
    "  # From the starting and ending time, compute the elapsed training time and\n",
    "  # append it to the list\n",
    "  time_list.append(None)\n",
    "\n",
    "  # Append the mean absolute error to the following list. Check the\n",
    "  # previous exercise if you are unsure how to compute it.\n",
    "  mae_list.append(None)\n",
    "\n",
    "  # Append the R2 value to the following list. Check the\n",
    "  # previous exercise if you are unsure how to compute it.\n",
    "  r2_list.append(None)\n",
    "\n",
    "# Your iterative loop should now be complete.\n",
    "# Check what you have produced by printing the outcomes.\n",
    "\n",
    "# Inspect the array of your training set sizes:\n",
    "print(None)\n",
    "\n",
    "# Inspect the array of MAE values:\n",
    "print(None)\n",
    "\n",
    "# Inspect the array of R2 values:\n",
    "print(None)\n",
    "\n",
    "# Inspect the array of time it took to complete each iteration:\n",
    "print(None)\n",
    "\n",
    "# Do these values look reasonable and consistent with values obtained above?"
   ]
  },
  {
   "cell_type": "code",
   "execution_count": null,
   "metadata": {
    "id": "GX3naBF9FZxj"
   },
   "outputs": [],
   "source": [
    "# Now, let's plot the results, starting with the timing.\n",
    "# Plot the elapsed time as a function of training set size.\n",
    "# Please insert the correct arrays below:\n",
    "\n",
    "plt.plot(None, None)\n",
    "plt.xlabel('training set size')\n",
    "plt.ylabel('execution time [s]')\n",
    "plt.show()"
   ]
  },
  {
   "cell_type": "code",
   "execution_count": null,
   "metadata": {
    "id": "62B0RN5oEnbc"
   },
   "outputs": [],
   "source": [
    "# Next, plot the MAE as a function of training set size.\n",
    "# NOTE: here, take the logarithm of the training set size (np.log)\n",
    "# Please insert the correct arrays below:\n",
    "\n",
    "plt.plot(None, None)\n",
    "plt.xlabel('log(training set size)')\n",
    "plt.ylabel('mean absolute error')\n",
    "plt.show()"
   ]
  },
  {
   "cell_type": "code",
   "execution_count": null,
   "metadata": {
    "id": "8WqzOfkvHcRN"
   },
   "outputs": [],
   "source": [
    "# Let's check also R2 as a function of training set size.\n",
    "# Again, take the logarithm of the training set size.\n",
    "# Please insert the correct arrays below:\n",
    "\n",
    "plt.plot(None, None)\n",
    "plt.xlabel('log(training set size)')\n",
    "plt.ylabel('$R^2$ score')\n",
    "plt.show()"
   ]
  },
  {
   "cell_type": "code",
   "execution_count": null,
   "metadata": {
    "id": "fBRhHf30Ef7j"
   },
   "outputs": [],
   "source": [
    "# Finally, we plot the exact vs. the predicted HOMO energies for our largest training\n",
    "# set size. Can you see the reduced error from this plot in comparison with\n",
    "# the previous exercises?\n",
    "plt.plot(y_test, y_pred, 'o')\n",
    "plt.plot([np.min(y_test),np.max(y_test)], [np.min(y_test),np.max(y_test)], '-')\n",
    "plt.xlabel('reference HOMO energy [eV]')\n",
    "plt.ylabel('predicted HOMO energy [eV]')\n",
    "plt.show()"
   ]
  },
  {
   "cell_type": "markdown",
   "metadata": {
    "id": "HNAUxo7IYwkX"
   },
   "source": [
    "##### If you did everything correctly, the plots should look something like the following. Note that because of the random data shuffling in the beginning, they will not look exactly the same.\n",
    "\n",
    "![image.png](data:image/png;base64,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)\n",
    "\n",
    "![image.png](data:image/png;base64,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)\n",
    "\n",
    "![image.png](data:image/png;base64,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)\n",
    "\n",
    "![image.png](data:image/png;base64,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)"
   ]
  },
  {
   "cell_type": "markdown",
   "metadata": {
    "id": "-EynbOrTAcgJ"
   },
   "source": [
    "## **Optional Exercise:** Support-Vector Machine\n",
    "SVM, as discussed in the lecture, can be used for the classification and regression. In this example we will focus on the former.\n",
    "\n",
    "We will work with a data set of various metal alloys that was assembled primarily by Vanessa Nilsen under the guidance of Prof. Dane Morgan at UW Madison. It can be found here:\n",
    "https://figshare.com/articles/dataset/MAST-ML_Education_Datasets/7017254.\n",
    "\n",
    "For each metal alloy the reduced glass transition temperature $T_{rg}$ has been measured. At the glass transition temperature the alloy acquires a glassy structure. For chemical/physical background, see for instance: https://www.sciencedirect.com/science/article/abs/pii/S0022309300000648.\n",
    "\n",
    "Additionally, the data set is complemented with Magpie descriptors (https://www.nature.com/articles/npjcompumats201628), information solely derived from single atom properties averaged over the material composition. These descriptors are attribute-based, as discussed in the lecture. An example of such a descriptor is the average number of valence electrons in d-orbitals relative to the total number of valence electrons.\n",
    "\n",
    "The exercise will consist of classifying these metal alloys by their majority atomic element with reduced glass transition temperature and one or more Magpie descriptors as input.\n",
    "\n",
    "The exercise is based with his kind permission on a notebook by Prof. Tomi Ohtsuki of Sophia University, Japan."
   ]
  },
  {
   "cell_type": "markdown",
   "metadata": {
    "id": "sSdz-VkbBRud"
   },
   "source": [
    "First we import all the necessary libraries."
   ]
  },
  {
   "cell_type": "code",
   "execution_count": null,
   "metadata": {
    "id": "LSe_j_ZZBU0u"
   },
   "outputs": [],
   "source": [
    "import numpy as np\n",
    "#from sklearn import preprocessing, cross_validation, neighbors, svm\n",
    "from sklearn import preprocessing, neighbors, svm\n",
    "from sklearn.model_selection import cross_validate,train_test_split\n",
    "from sklearn.svm import SVC\n",
    "import pandas as pd\n",
    "import matplotlib.pyplot as plt"
   ]
  },
  {
   "cell_type": "markdown",
   "metadata": {
    "id": "I1Gh8EjibG8P"
   },
   "source": [
    "In the following we will load our data."
   ]
  },
  {
   "cell_type": "code",
   "execution_count": null,
   "metadata": {
    "id": "1JFnN465yqw5"
   },
   "outputs": [],
   "source": [
    "#@title Data\n",
    "\n",
    "data=np.array([['Material compositions','main_element','Trg','Density_composition_average','IsBoron_composition_average','IsDBlock_composition_average','IsTransitionMetal_composition_average','NdValence_composition_average','NValance_composition_average','HeatVaporization_max_value','BoilingT_difference','HeatVaporization_difference','MeltingT_difference','NdValence_difference','NsUnfilled_difference','valence_difference','Site1_Density','Site1_HeatCapacityMass','Site1_HeatFusion','Site1_IsDBlock','Site1_IsTransitionMetal','Site1_NdValence','Site1_SpecificHeatCapacity'],\n",
    " ['Ag10Cu35Zr55','Zr',0.534,0.579069323,-0.585599963,1.029882069,1.029882069,0.589535856,0.217570998,0.56391502,0.544521314,0.505747776,-0.23559993,0.473851506,0.85784908,0.264503316,1.091651325,-0.887076926,-0.454471416,0.718013956,0.718013956,1.317680438,-0.884993683],\n",
    " ['Ag10Cu50Zr40','Cu',0.608,0.748401453,-0.585599963,1.029882069,1.029882069,1.176250154,0.653968875,0.56391502,0.544521314,0.505747776,-0.23559993,0.473851506,0.85784908,0.264503316,1.091651325,-0.887076926,-0.454471416,0.718013956,0.718013956,1.317680438,-0.884993683],\n",
    " ['Ag10Cu55Zr35','Cu',0.609,0.804845496,-0.585599963,1.029882069,1.029882069,1.371821586,0.799434834,0.56391502,0.544521314,0.505747776,-0.23559993,0.473851506,0.85784908,0.264503316,1.091651325,-0.887076926,-0.454471416,0.718013956,0.718013956,1.317680438,-0.884993683],\n",
    " ['Ag20Cu40Zr40','Cu',0.577,0.821973182,-0.585599963,1.029882069,1.029882069,1.176250154,0.653968875,0.56391502,0.544521314,0.505747776,-0.23559993,0.473851506,0.85784908,0.264503316,1.091651325,-0.887076926,-0.454471416,0.718013956,0.718013956,1.317680438,-0.884993683],\n",
    " ['Ag35Ca65','Ca',0.515,-0.860991846,-0.585599963,-0.9989612,-0.9989612,-0.437214166,-0.613663053,-1.684369924,-1.368929027,-1.228444564,-1.429883953,1.005911258,0.85784908,-1.745034863,1.091651325,-0.887076926,-0.454471416,0.718013956,0.718013956,1.317680438,-0.884993683],\n",
    " ['Al13.3Co26.7Zr60','Zr',0.573,0.058889078,0.464229426,0.614749523,0.614749523,-0.647942385,-0.592050968,0.56391502,0.109147336,0.220140354,0.23007105,-0.324238123,-1.16570621,-0.740265774,-1.139306181,1.562289099,-0.584429046,-1.392730589,-1.392730589,-1.10635433,1.575043526],\n",
    " ['Al15.4Co26Zr58.6','Zr',0.565,0.013549211,0.629991961,0.549202279,0.549202279,-0.685589886,-0.615325521,0.56391502,0.109147336,0.220140354,0.23007105,-0.324238123,-1.16570621,-0.740265774,-1.139306181,1.562289099,-0.584429046,-1.392730589,-1.392730589,-1.10635433,1.575043526],\n",
    " ['Al15Ca70Mg15','Ca',0.545,-2.233221755,0.598418145,-2.091415267,-2.091415267,-2.148464202,-1.860514129,-1.418640068,-0.453058277,-0.750370303,-1.318556057,-1.654387503,-1.16570621,-0.740265774,-1.139306181,1.562289099,-0.584429046,-1.392730589,-1.392730589,-1.10635433,1.575043526],\n",
    " ['Al16.9Co25.6Zr57.5','Zr',0.572,-0.0177169,0.748393772,0.502382819,0.502382819,-0.710036315,-0.629872117,0.56391502,0.109147336,0.220140354,0.23007105,-0.324238123,-1.16570621,-0.740265774,-1.139306181,1.562289099,-0.584429046,-1.392730589,-1.392730589,-1.10635433,1.575043526],\n",
    " ['Al18Sr82','Sr',0.527,-1.815268726,0.835221766,-2.091415267,-2.091415267,-2.148464202,-1.848045619,-1.418640068,-0.809162484,-0.816493007,-1.435135997,-1.654387503,-1.16570621,-0.740265774,-1.139306181,1.562289099,-0.584429046,-1.392730589,-1.392730589,-1.10635433,1.575043526],\n",
    " ['Al19.4Co24.8Zr55.8','Zr',0.577,-0.071319762,0.945730123,0.424350386,0.424350386,-0.754039887,-0.656887224,0.56391502,0.109147336,0.220140354,0.23007105,-0.324238123,-1.16570621,-0.740265774,-1.139306181,1.562289099,-0.584429046,-1.392730589,-1.392730589,-1.10635433,1.575043526],\n",
    " ['Al20Ca65Mg15','Ca',0.597,-2.206276695,0.993090847,-2.091415267,-2.091415267,-2.148464202,-1.839733278,-1.418640068,-0.453058277,-0.750370303,-1.318556057,-1.654387503,-1.16570621,-0.740265774,-1.139306181,1.562289099,-0.584429046,-1.392730589,-1.392730589,-1.10635433,1.575043526],\n",
    " ['Al21.2Co21.2Zr57.6','Zr',0.575,-0.143767766,1.087812296,0.368167033,0.368167033,-0.859648461,-0.739179395,0.56391502,0.109147336,0.220140354,0.23007105,-0.324238123,-1.16570621,-0.740265774,-1.139306181,1.562289099,-0.584429046,-1.392730589,-1.392730589,-1.10635433,1.575043526],\n",
    " ['Al22.3Co22.3Zr55.4','Zr',0.578,-0.151097759,1.17464029,0.333832763,0.333832763,-0.843513817,-0.720892245,0.56391502,0.109147336,0.220140354,0.23007105,-0.324238123,-1.16570621,-0.740265774,-1.139306181,1.562289099,-0.584429046,-1.392730589,-1.392730589,-1.10635433,1.575043526],\n",
    " ['Al22Co24Zr54','Zr',0.584,-0.126708497,1.150959928,0.343196655,0.343196655,-0.799021317,-0.684317947,0.56391502,0.109147336,0.220140354,0.23007105,-0.324238123,-1.16570621,-0.740265774,-1.139306181,1.562289099,-0.584429046,-1.392730589,-1.392730589,-1.10635433,1.575043526],\n",
    " ['Al23.5Co23.5Zr53','Zr',0.593,-0.159094116,1.269361739,0.296377195,0.296377195,-0.825912389,-0.700942628,0.56391502,0.109147336,0.220140354,0.23007105,-0.324238123,-1.16570621,-0.740265774,-1.139306181,1.562289099,-0.584429046,-1.392730589,-1.392730589,-1.10635433,1.575043526],\n",
    " ['Al30Ca60Mg10','Ca',0.582,-2.156791506,1.782436252,-2.091415267,-2.091415267,-2.148464202,-1.798171576,-1.418640068,-0.453058277,-0.750370303,-1.318556057,-1.654387503,-1.16570621,-0.740265774,-1.139306181,1.562289099,-0.584429046,-1.392730589,-1.392730589,-1.10635433,1.575043526],\n",
    " ['Al30Sr70','Sr',0.556,-1.811332404,1.782436252,-2.091415267,-2.091415267,-2.148464202,-1.798171576,-1.418640068,-0.809162484,-0.816493007,-1.435135997,-1.654387503,-1.16570621,-0.740265774,-1.139306181,1.562289099,-0.584429046,-1.392730589,-1.392730589,-1.10635433,1.575043526],\n",
    " ['Al32Ca58Mg10','Ca',0.588,-2.146013482,1.940305333,-2.091415267,-2.091415267,-2.148464202,-1.789859235,-1.418640068,-0.453058277,-0.750370303,-1.318556057,-1.654387503,-1.16570621,-0.740265774,-1.139306181,1.562289099,-0.584429046,-1.392730589,-1.392730589,-1.10635433,1.575043526],\n",
    " ['Al35Ca65','Ca',0.688,-2.138656309,2.177108955,-2.091415267,-2.091415267,-2.148464202,-1.777390724,-1.418640068,-0.933555049,-0.942837142,-1.334729264,-1.654387503,-1.16570621,-0.740265774,-1.139306181,1.562289099,-0.584429046,-1.392730589,-1.392730589,-1.10635433,1.575043526],\n",
    " ['Al35La50Ni15','La',0.548,-0.544586548,2.177108955,-1.623220667,-1.623220667,-1.317285613,-1.070841781,-0.69911215,-1.043313195,-1.137365872,-0.387816537,0.20782163,-1.16570621,-1.745034863,-1.139306181,1.562289099,-0.584429046,-1.392730589,-1.392730589,-1.10635433,1.575043526],\n",
    " ['Al35Sr65','Sr',0.493,-1.80969227,2.177108955,-2.091415267,-2.091415267,-2.148464202,-1.777390724,-1.418640068,-0.809162484,-0.816493007,-1.435135997,-1.654387503,-1.16570621,-0.740265774,-1.139306181,1.562289099,-0.584429046,-1.392730589,-1.392730589,-1.10635433,1.575043526],\n",
    " ['Al40La45Ni15','La',0.492,-0.625328007,2.571781658,-1.623220667,-1.623220667,-1.341732042,-1.070841781,-0.69911215,-1.043313195,-1.137365872,-0.387816537,0.20782163,-1.16570621,-1.745034863,-1.139306181,1.562289099,-0.584429046,-1.392730589,-1.392730589,-1.10635433,1.575043526],\n",
    " ['Al85Co5Y10','Al',0.48,-1.56006386,6.123835981,-1.623220667,-1.623220667,-1.92844634,-1.38255455,-0.740589028,-1.188437854,-1.181945372,-0.27814149,-0.058208246,-1.16570621,-1.745034863,-1.139306181,1.562289099,-0.584429046,-1.392730589,-1.392730589,-1.10635433,1.575043526],\n",
    " ['Al85Ni5Y10','Al',0.43,-1.559876416,6.123835981,-1.623220667,-1.623220667,-1.903999911,-1.361773699,-0.740589028,-1.188437854,-1.181945372,-0.27814149,0.20782163,-1.16570621,-1.745034863,-1.139306181,1.562289099,-0.584429046,-1.392730589,-1.392730589,-1.10635433,1.575043526],\n",
    " ['Al86.5Co4.5Y9','Al',0.441,-1.582894527,6.242237792,-1.670040127,-1.670040127,-1.950448126,-1.395023061,-0.740589028,-1.188437854,-1.181945372,-0.27814149,-0.058208246,-1.16570621,-1.745034863,-1.139306181,1.562289099,-0.584429046,-1.392730589,-1.392730589,-1.10635433,1.575043526],\n",
    " ['Al86.5Ni4.5Y9','Al',0.413,-1.582725827,6.242237792,-1.670040127,-1.670040127,-1.92844634,-1.376320295,-0.740589028,-1.188437854,-1.181945372,-0.27814149,0.20782163,-1.16570621,-1.745034863,-1.139306181,1.562289099,-0.584429046,-1.392730589,-1.392730589,-1.10635433,1.575043526],\n",
    " ['Al88Co4Y8','Al',0.43,-1.605725193,6.360639602,-1.716859587,-1.716859587,-1.972449913,-1.407491572,-0.740589028,-1.188437854,-1.181945372,-0.27814149,-0.058208246,-1.16570621,-1.745034863,-1.139306181,1.562289099,-0.584429046,-1.392730589,-1.392730589,-1.10635433,1.575043526],\n",
    " ['Al88Ni4Y8','Al',0.39,-1.605575238,6.360639602,-1.716859587,-1.716859587,-1.952892769,-1.390866891,-0.740589028,-1.188437854,-1.181945372,-0.27814149,0.20782163,-1.16570621,-1.745034863,-1.139306181,1.562289099,-0.584429046,-1.392730589,-1.392730589,-1.10635433,1.575043526],\n",
    " ['Al89.5Co3.5Y7','Al',0.39,-1.62855586,6.479041413,-1.763679047,-1.763679047,-1.994451699,-1.419960082,-0.740589028,-1.188437854,-1.181945372,-0.27814149,-0.058208246,-1.16570621,-1.745034863,-1.139306181,1.562289099,-0.584429046,-1.392730589,-1.392730589,-1.10635433,1.575043526],\n",
    " ['Al89.5Ni3.5Y7','Al',0.37,-1.628424649,6.479041413,-1.763679047,-1.763679047,-1.977339198,-1.405413487,-0.740589028,-1.188437854,-1.181945372,-0.27814149,0.20782163,-1.16570621,-1.745034863,-1.139306181,1.562289099,-0.584429046,-1.392730589,-1.392730589,-1.10635433,1.575043526],\n",
    " ['Au35Ca65','Ca',0.508,0.583966294,-0.585599963,-0.9989612,-0.9989612,-0.437214166,1.422860372,-1.196173176,-0.52257177,-0.703728912,-1.27170473,1.005911258,0.85784908,-0.740265774,3.614723934,-1.279271486,-0.179137453,0.718013956,0.718013956,1.317680438,-1.280819219],\n",
    " ['Au49Ag5.5Pd2.3Cu26.9Si16.3','Au',0.623,3.080367076,-0.585599963,0.521110603,0.521110603,1.943868027,4.185051124,-0.740589028,-1.218926228,-0.89633795,-0.698938384,1.005911258,0.85784908,0.264503316,3.614723934,-1.279271486,-0.179137453,0.718013956,0.718013956,1.317680438,-1.280819219],\n",
    " ['Au55Cu25Si20','Au',0.532,3.18404745,-0.585599963,0.405622601,0.405622601,1.762964452,4.436083807,-0.967488059,-2.109186744,-1.494783972,-1.075000217,1.005911258,0.85784908,0.264503316,3.614723934,-1.279271486,-0.179137453,0.718013956,0.718013956,1.317680438,-1.280819219],\n",
    " ['Au77.8Si8.4Ge13.8','Au',0.466,4.418690726,-0.585599963,0.33695406,0.33695406,2.330121606,6.272279826,-0.967488059,-2.098210929,-1.664925511,-0.880473757,-1.654387503,0.85784908,-0.740265774,3.614723934,-1.279271486,-0.179137453,0.718013956,0.718013956,1.317680438,-1.280819219],\n",
    " ['Au77Si9.4Ge13.6','Au',0.469,4.35226717,-0.585599963,0.311983681,0.311983681,2.281228748,6.194143825,-0.967488059,-2.098210929,-1.664925511,-0.880473757,-1.654387503,0.85784908,-0.740265774,3.614723934,-1.279271486,-0.179137453,0.718013956,0.718013956,1.317680438,-1.280819219],\n",
    " ['Be30Zr70','Zr',0.44,-0.658036967,-0.585599963,0.093492868,0.093492868,-1.463964188,-1.340992848,0.56391502,0.168904549,0.176058551,-0.737741725,-1.654387503,-1.16570621,0.264503316,-1.383308208,4.995841474,-1.20448113,-1.392730589,-1.392730589,-1.10635433,4.996899795],\n",
    " ['Be32.5Zr67.5','Zr',0.496,-0.712665148,-0.585599963,0.015460435,0.015460435,-1.488410617,-1.361773699,0.56391502,0.168904549,0.176058551,-0.737741725,-1.654387503,-1.16570621,0.264503316,-1.383308208,4.995841474,-1.20448113,-1.392730589,-1.392730589,-1.10635433,4.996899795],\n",
    " ['Be40Zr60','Zr',0.464,-0.87654969,-0.585599963,-0.218636866,-0.218636866,-1.561749904,-1.424116253,0.56391502,0.168904549,0.176058551,-0.737741725,-1.654387503,-1.16570621,0.264503316,-1.383308208,4.995841474,-1.20448113,-1.392730589,-1.392730589,-1.10635433,4.996899795],\n",
    " ['Be45Zr55','Zr',0.457,-0.985806051,-0.585599963,-0.374701732,-0.374701732,-1.610642762,-1.465677955,0.56391502,0.168904549,0.176058551,-0.737741725,-1.654387503,-1.16570621,0.264503316,-1.383308208,4.995841474,-1.20448113,-1.392730589,-1.392730589,-1.10635433,4.996899795],\n",
    " ['Be50Zr50','Be',0.456,-1.095062413,-0.585599963,-0.530766599,-0.530766599,-1.65953562,-1.507239658,0.56391502,0.168904549,0.176058551,-0.737741725,-1.654387503,-1.16570621,0.264503316,-1.383308208,4.995841474,-1.20448113,-1.392730589,-1.392730589,-1.10635433,4.996899795],\n",
    " ['Ca40Mg25Cu35','Ca',0.587,-1.096468242,-0.585599963,-0.9989612,-0.9989612,-0.437214166,-0.613663053,-1.354473287,0.044511983,-0.681403612,-0.943544633,-1.654387503,-1.16570621,-1.745034863,-1.468651641,0.637301929,-1.062408805,-1.392730589,-1.392730589,-1.10635433,0.639119596],\n",
    " ['Ca40Mg30Cu30','Ca',0.569,-1.264746,-0.585599963,-1.155026066,-1.155026066,-0.681678457,-0.800690714,-1.354473287,0.044511983,-0.681403612,-0.943544633,-1.654387503,-1.16570621,-1.745034863,-1.468651641,0.637301929,-1.062408805,-1.392730589,-1.392730589,-1.10635433,0.639119596],\n",
    " ['Ca45Mg19Cu36','Ca',0.559,-1.067217622,-0.585599963,-0.967748226,-0.967748226,-0.388321308,-0.576257521,-1.354473287,0.044511983,-0.681403612,-0.943544633,-1.654387503,-1.16570621,-1.745034863,-1.468651641,0.637301929,-1.062408805,-1.392730589,-1.392730589,-1.10635433,0.639119596],\n",
    " ['Ca45Mg25Cu30','Ca',0.59,-1.269150932,-0.585599963,-1.155026066,-1.155026066,-0.681678457,-0.800690714,-1.354473287,0.044511983,-0.681403612,-0.943544633,-1.654387503,-1.16570621,-1.745034863,-1.468651641,0.637301929,-1.062408805,-1.392730589,-1.392730589,-1.10635433,0.639119596],\n",
    " ['Ca45Mg30Cu25','Ca',0.559,-1.43742869,-0.585599963,-1.311090933,-1.311090933,-0.926142748,-0.987718376,-1.354473287,0.044511983,-0.681403612,-0.943544633,-1.654387503,-1.16570621,-1.745034863,-1.468651641,0.637301929,-1.062408805,-1.392730589,-1.392730589,-1.10635433,0.639119596],\n",
    " ['Ca47.5Mg22.5Cu30','Ca',0.593,-1.271353398,-0.585599963,-1.155026066,-1.155026066,-0.681678457,-0.800690714,-1.354473287,0.044511983,-0.681403612,-0.943544633,-1.654387503,-1.16570621,-1.745034863,-1.468651641,0.637301929,-1.062408805,-1.392730589,-1.392730589,-1.10635433,0.639119596],\n",
    " ['Ca47Mg19Zn7Cu27','Ca',0.581,-1.194679472,-0.585599963,-1.030174173,-1.030174173,-0.486107024,-0.621975393,-1.354473287,0.26768688,-0.593951003,-0.58776496,-1.654387503,-1.16570621,-1.745034863,-1.468651641,0.637301929,-1.062408805,-1.392730589,-1.392730589,-1.10635433,0.639119596],\n",
    " ['Ca50Mg10Zn15Cu25','Ca',0.563,-1.062119148,-0.585599963,-0.842896333,-0.842896333,-0.192749875,-0.364292838,-1.354473287,0.26768688,-0.593951003,-0.58776496,-1.654387503,-1.16570621,-1.745034863,-1.468651641,0.637301929,-1.062408805,-1.392730589,-1.392730589,-1.10635433,0.639119596],\n",
    " ['Ca50Mg15Zn10Cu25','Ca',0.583,-1.188690639,-0.585599963,-0.9989612,-0.9989612,-0.437214166,-0.57210135,-1.354473287,0.26768688,-0.593951003,-0.58776496,-1.654387503,-1.16570621,-1.745034863,-1.468651641,0.637301929,-1.062408805,-1.392730589,-1.392730589,-1.10635433,0.639119596],\n",
    " ['Ca50Mg20Cu30','Ca',0.581,-1.273555863,-0.585599963,-1.155026066,-1.155026066,-0.681678457,-0.800690714,-1.354473287,0.044511983,-0.681403612,-0.943544633,-1.654387503,-1.16570621,-1.745034863,-1.468651641,0.637301929,-1.062408805,-1.392730589,-1.392730589,-1.10635433,0.639119596],\n",
    " ['Ca50Mg20Zn5Cu25','Ca',0.61,-1.315262131,-0.585599963,-1.155026066,-1.155026066,-0.681678457,-0.779909863,-1.354473287,0.26768688,-0.593951003,-0.58776496,-1.654387503,-1.16570621,-1.745034863,-1.468651641,0.637301929,-1.062408805,-1.392730589,-1.392730589,-1.10635433,0.639119596],\n",
    " ['Ca50Mg22.5Cu27.5','Ca',0.603,-1.357694743,-0.585599963,-1.2330585,-1.2330585,-0.803910602,-0.894204545,-1.354473287,0.044511983,-0.681403612,-0.943544633,-1.654387503,-1.16570621,-1.745034863,-1.468651641,0.637301929,-1.062408805,-1.392730589,-1.392730589,-1.10635433,0.639119596],\n",
    " ['Ca50Mg25Cu25','Ca',0.611,-1.441833622,-0.585599963,-1.311090933,-1.311090933,-0.926142748,-0.987718376,-1.354473287,0.044511983,-0.681403612,-0.943544633,-1.654387503,-1.16570621,-1.745034863,-1.468651641,0.637301929,-1.062408805,-1.392730589,-1.392730589,-1.10635433,0.639119596],\n",
    " ['Ca50Mg25Zn15Cu10','Ca',0.53,-1.566952423,-0.585599963,-1.311090933,-1.311090933,-0.926142748,-0.925375822,-1.354473287,0.26768688,-0.593951003,-0.58776496,-1.654387503,-1.16570621,-1.745034863,-1.468651641,0.637301929,-1.062408805,-1.392730589,-1.392730589,-1.10635433,0.639119596],\n",
    " ['Ca50Mg30Ag20','Ca',0.609,-1.462967921,-0.585599963,-1.4671558,-1.4671558,-1.170607039,-1.174746037,-1.684369924,-0.888432256,-1.035977725,-1.133297911,-1.654387503,-1.16570621,-1.745034863,-1.468651641,0.637301929,-1.062408805,-1.392730589,-1.392730589,-1.10635433,0.639119596],\n",
    " ['Ca50Mg30Cu20','Ca',0.55,-1.61011138,-0.585599963,-1.4671558,-1.4671558,-1.170607039,-1.174746037,-1.354473287,0.044511983,-0.681403612,-0.943544633,-1.654387503,-1.16570621,-1.745034863,-1.468651641,0.637301929,-1.062408805,-1.392730589,-1.392730589,-1.10635433,0.639119596],\n",
    " ['Ca53Mg23Cu24','Ca',0.62,-1.478132133,-0.585599963,-1.342303906,-1.342303906,-0.975035606,-1.025123908,-1.354473287,0.044511983,-0.681403612,-0.943544633,-1.654387503,-1.16570621,-1.745034863,-1.468651641,0.637301929,-1.062408805,-1.392730589,-1.392730589,-1.10635433,0.639119596],\n",
    " ['Ca55Mg10Cu35','Ca',0.516,-1.109683037,-0.585599963,-0.9989612,-0.9989612,-0.437214166,-0.613663053,-1.354473287,0.044511983,-0.681403612,-0.943544633,-1.654387503,-1.16570621,-1.745034863,-1.468651641,0.637301929,-1.062408805,-1.392730589,-1.392730589,-1.10635433,0.639119596],\n",
    " ['Ca55Mg11Zn11Cu23','Ca',0.529,-1.235092376,-0.585599963,-1.030174173,-1.030174173,-0.486107024,-0.605350712,-1.354473287,0.26768688,-0.593951003,-0.58776496,-1.654387503,-1.16570621,-1.745034863,-1.468651641,0.637301929,-1.062408805,-1.392730589,-1.392730589,-1.10635433,0.639119596],\n",
    " ['Ca55Mg15Cu30','Ca',0.562,-1.277960795,-0.585599963,-1.155026066,-1.155026066,-0.681678457,-0.800690714,-1.354473287,0.044511983,-0.681403612,-0.943544633,-1.654387503,-1.16570621,-1.745034863,-1.468651641,0.637301929,-1.062408805,-1.392730589,-1.392730589,-1.10635433,0.639119596],\n",
    " ['Ca55Mg15Zn30','Ca',0.556,-1.528198397,-0.585599963,-1.155026066,-1.155026066,-0.681678457,-0.676005607,-2.319158,-1.492102057,-1.630797664,-0.962776384,-1.654387503,-1.16570621,-1.745034863,-1.468651641,0.637301929,-1.062408805,-1.392730589,-1.392730589,-1.10635433,0.639119596],\n",
    " ['Ca55Mg18Zn27','Ca',0.58,-1.604141292,-0.585599963,-1.248664986,-1.248664986,-0.828357031,-0.800690714,-2.319158,-1.492102057,-1.630797664,-0.962776384,-1.654387503,-1.16570621,-1.745034863,-1.468651641,0.637301929,-1.062408805,-1.392730589,-1.392730589,-1.10635433,0.639119596],\n",
    " ['Ca55Mg20Cu25','Ca',0.554,-1.446238554,-0.585599963,-1.311090933,-1.311090933,-0.926142748,-0.987718376,-1.354473287,0.044511983,-0.681403612,-0.943544633,-1.654387503,-1.16570621,-1.745034863,-1.468651641,0.637301929,-1.062408805,-1.392730589,-1.392730589,-1.10635433,0.639119596],\n",
    " ['Ca55Mg20Zn25','Ca',0.546,-1.654769889,-0.585599963,-1.311090933,-1.311090933,-0.926142748,-0.883814119,-2.319158,-1.492102057,-1.630797664,-0.962776384,-1.654387503,-1.16570621,-1.745034863,-1.468651641,0.637301929,-1.062408805,-1.392730589,-1.392730589,-1.10635433,0.639119596],\n",
    " ['Ca55Mg25Ag20','Ca',0.617,-1.467372853,-0.585599963,-1.4671558,-1.4671558,-1.170607039,-1.174746037,-1.684369924,-0.888432256,-1.035977725,-1.133297911,-1.654387503,-1.16570621,-1.745034863,-1.468651641,0.637301929,-1.062408805,-1.392730589,-1.392730589,-1.10635433,0.639119596],\n",
    " ['Ca55Mg25Cu20','Ca',0.596,-1.614516312,-0.585599963,-1.4671558,-1.4671558,-1.170607039,-1.174746037,-1.354473287,0.044511983,-0.681403612,-0.943544633,-1.654387503,-1.16570621,-1.745034863,-1.468651641,0.637301929,-1.062408805,-1.392730589,-1.392730589,-1.10635433,0.639119596],\n",
    " ['Ca55Mg25Zn20','Ca',0.499,-1.78134138,-0.585599963,-1.4671558,-1.4671558,-1.170607039,-1.091622632,-2.319158,-1.492102057,-1.630797664,-0.962776384,-1.654387503,-1.16570621,-1.745034863,-1.468651641,0.637301929,-1.062408805,-1.392730589,-1.392730589,-1.10635433,0.639119596],\n",
    " ['Ca58Mg18Cu24','Ca',0.582,-1.482537064,-0.585599963,-1.342303906,-1.342303906,-0.975035606,-1.025123908,-1.354473287,0.044511983,-0.681403612,-0.943544633,-1.654387503,-1.16570621,-1.745034863,-1.468651641,0.637301929,-1.062408805,-1.392730589,-1.392730589,-1.10635433,0.639119596],\n",
    " ['Ca60Al30Ag10','Ca',0.556,-1.746664259,1.782436252,-1.779285533,-1.779285533,-1.65953562,-1.424116253,-1.418640068,-0.933555049,-0.942837142,-1.149471118,-1.654387503,-1.16570621,-0.740265774,-1.468651641,0.637301929,-1.062408805,-1.392730589,-1.392730589,-1.10635433,0.639119596],\n",
    " ['Ca60Mg10Zn30','Ca',0.571,-1.532603329,-0.585599963,-1.155026066,-1.155026066,-0.681678457,-0.676005607,-2.319158,-1.492102057,-1.630797664,-0.962776384,-1.654387503,-1.16570621,-1.745034863,-1.468651641,0.637301929,-1.062408805,-1.392730589,-1.392730589,-1.10635433,0.639119596],\n",
    " ['Ca60Mg13Cu27','Ca',0.562,-1.383332382,-0.585599963,-1.248664986,-1.248664986,-0.828357031,-0.912907311,-1.354473287,0.044511983,-0.681403612,-0.943544633,-1.654387503,-1.16570621,-1.745034863,-1.468651641,0.637301929,-1.062408805,-1.392730589,-1.392730589,-1.10635433,0.639119596],\n",
    " ['Ca60Mg15Cu25','Ca',0.576,-1.450643485,-0.585599963,-1.311090933,-1.311090933,-0.926142748,-0.987718376,-1.354473287,0.044511983,-0.681403612,-0.943544633,-1.654387503,-1.16570621,-1.745034863,-1.468651641,0.637301929,-1.062408805,-1.392730589,-1.392730589,-1.10635433,0.639119596],\n",
    " ['Ca60Mg15Zn25','Ca',0.583,-1.65917482,-0.585599963,-1.311090933,-1.311090933,-0.926142748,-0.883814119,-2.319158,-1.492102057,-1.630797664,-0.962776384,-1.654387503,-1.16570621,-1.745034863,-1.468651641,0.637301929,-1.062408805,-1.392730589,-1.392730589,-1.10635433,0.639119596],\n",
    " ['Ca60Mg17.5Zn22.5','Ca',0.589,-1.722460566,-0.585599963,-1.389123367,-1.389123367,-1.048374893,-0.987718376,-2.319158,-1.492102057,-1.630797664,-0.962776384,-1.654387503,-1.16570621,-1.745034863,-1.468651641,0.637301929,-1.062408805,-1.392730589,-1.392730589,-1.10635433,0.639119596],\n",
    " ['Ca60Mg20Ag20','Ca',0.602,-1.471777784,-0.585599963,-1.4671558,-1.4671558,-1.170607039,-1.174746037,-1.684369924,-0.888432256,-1.035977725,-1.133297911,-1.654387503,-1.16570621,-1.745034863,-1.468651641,0.637301929,-1.062408805,-1.392730589,-1.392730589,-1.10635433,0.639119596],\n",
    " ['Ca60Mg20Cu20','Ca',0.571,-1.618921244,-0.585599963,-1.4671558,-1.4671558,-1.170607039,-1.174746037,-1.354473287,0.044511983,-0.681403612,-0.943544633,-1.654387503,-1.16570621,-1.745034863,-1.468651641,0.637301929,-1.062408805,-1.392730589,-1.392730589,-1.10635433,0.639119596],\n",
    " ['Ca60Mg20Zn20','Ca',0.573,-1.785746312,-0.585599963,-1.4671558,-1.4671558,-1.170607039,-1.091622632,-2.319158,-1.492102057,-1.630797664,-0.962776384,-1.654387503,-1.16570621,-1.745034863,-1.468651641,0.637301929,-1.062408805,-1.392730589,-1.392730589,-1.10635433,0.639119596],\n",
    " ['Ca60Mg25Cu15','Ca',0.577,-1.787199002,-0.585599963,-1.623220667,-1.623220667,-1.41507133,-1.361773699,-1.354473287,0.044511983,-0.681403612,-0.943544633,-1.654387503,-1.16570621,-1.745034863,-1.468651641,0.637301929,-1.062408805,-1.392730589,-1.392730589,-1.10635433,0.639119596],\n",
    " ['Ca60Mg25Zn15','Ca',0.507,-1.912317803,-0.585599963,-1.623220667,-1.623220667,-1.41507133,-1.299431145,-2.319158,-1.492102057,-1.630797664,-0.962776384,-1.654387503,-1.16570621,-1.745034863,-1.468651641,0.637301929,-1.062408805,-1.392730589,-1.392730589,-1.10635433,0.639119596],\n",
    " ['Ca62.5Mg17.5Zn20','Ca',0.586,-1.787948778,-0.585599963,-1.4671558,-1.4671558,-1.170607039,-1.091622632,-2.319158,-1.492102057,-1.630797664,-0.962776384,-1.654387503,-1.16570621,-1.745034863,-1.468651641,0.637301929,-1.062408805,-1.392730589,-1.392730589,-1.10635433,0.639119596],\n",
    " ['Ca63Al32Cu5','Ca',0.616,-1.982140655,1.940305333,-1.9353504,-1.9353504,-1.903999911,-1.602831574,-1.354473287,-0.435984788,-0.873870451,-0.95971784,-1.654387503,-1.16570621,-0.740265774,-1.468651641,0.637301929,-1.062408805,-1.392730589,-1.392730589,-1.10635433,0.639119596],\n",
    " ['Ca65Cu35','Ca',0.424,-1.1184929,-0.585599963,-0.9989612,-0.9989612,-0.437214166,-0.613663053,-1.354473287,-0.435984788,-0.873870451,-1.240130675,-1.654387503,-1.16570621,-1.745034863,-1.468651641,0.637301929,-1.062408805,-1.392730589,-1.392730589,-1.10635433,0.639119596],\n",
    " ['Ca65Ga35','Ca',0.567,-1.613157344,2.177108955,-2.091415267,-2.091415267,-0.437214166,-0.322731135,-1.648449757,-1.317708559,-1.189837437,-0.360691272,-1.654387503,-1.16570621,-0.740265774,-1.468651641,0.637301929,-1.062408805,-1.392730589,-1.392730589,-1.10635433,0.639119596],\n",
    " ['Ca65Mg10Cu25','Ca',0.546,-1.455048417,-0.585599963,-1.311090933,-1.311090933,-0.926142748,-0.987718376,-1.354473287,0.044511983,-0.681403612,-0.943544633,-1.654387503,-1.16570621,-1.745034863,-1.468651641,0.637301929,-1.062408805,-1.392730589,-1.392730589,-1.10635433,0.639119596],\n",
    " ['Ca65Mg10Zn25','Ca',0.572,-1.663579752,-0.585599963,-1.311090933,-1.311090933,-0.926142748,-0.883814119,-2.319158,-1.492102057,-1.630797664,-0.962776384,-1.654387503,-1.16570621,-1.745034863,-1.468651641,0.637301929,-1.062408805,-1.392730589,-1.392730589,-1.10635433,0.639119596],\n",
    " ['Ca65Mg15Ag20','Ca',0.584,-1.476182716,-0.585599963,-1.4671558,-1.4671558,-1.170607039,-1.174746037,-1.684369924,-0.888432256,-1.035977725,-1.133297911,-1.654387503,-1.16570621,-1.745034863,-1.468651641,0.637301929,-1.062408805,-1.392730589,-1.392730589,-1.10635433,0.639119596],\n",
    " ['Ca65Mg15Cu20','Ca',0.562,-1.623326175,-0.585599963,-1.4671558,-1.4671558,-1.170607039,-1.174746037,-1.354473287,0.044511983,-0.681403612,-0.943544633,-1.654387503,-1.16570621,-1.745034863,-1.468651641,0.637301929,-1.062408805,-1.392730589,-1.392730589,-1.10635433,0.639119596],\n",
    " ['Ca65Mg15Zn20','Ca',0.595,-1.790151243,-0.585599963,-1.4671558,-1.4671558,-1.170607039,-1.091622632,-2.319158,-1.492102057,-1.630797664,-0.962776384,-1.654387503,-1.16570621,-1.745034863,-1.468651641,0.637301929,-1.062408805,-1.392730589,-1.392730589,-1.10635433,0.639119596],\n",
    " ['Ca65Mg20Cu15','Ca',0.568,-1.791603934,-0.585599963,-1.623220667,-1.623220667,-1.41507133,-1.361773699,-1.354473287,0.044511983,-0.681403612,-0.943544633,-1.654387503,-1.16570621,-1.745034863,-1.468651641,0.637301929,-1.062408805,-1.392730589,-1.392730589,-1.10635433,0.639119596],\n",
    " ['Ca65Mg20Zn15','Ca',0.569,-1.916722735,-0.585599963,-1.623220667,-1.623220667,-1.41507133,-1.299431145,-2.319158,-1.492102057,-1.630797664,-0.962776384,-1.654387503,-1.16570621,-1.745034863,-1.468651641,0.637301929,-1.062408805,-1.392730589,-1.392730589,-1.10635433,0.639119596],\n",
    " ['Ca65Mg25Cu10','Ca',0.586,-1.959881692,-0.585599963,-1.779285533,-1.779285533,-1.65953562,-1.54880136,-1.354473287,0.044511983,-0.681403612,-0.943544633,-1.654387503,-1.16570621,-1.745034863,-1.468651641,0.637301929,-1.062408805,-1.392730589,-1.392730589,-1.10635433,0.639119596],\n",
    " ['Ca65Mg25Zn10','Ca',0.51,-2.043294226,-0.585599963,-1.779285533,-1.779285533,-1.65953562,-1.507239658,-2.319158,-1.492102057,-1.630797664,-0.962776384,-1.654387503,-1.16570621,-1.745034863,-1.468651641,0.637301929,-1.062408805,-1.392730589,-1.392730589,-1.10635433,0.639119596],\n",
    " ['Ca65Mg35','Ca',0.416,-2.296437209,-0.585599963,-2.091415267,-2.091415267,-2.148464202,-1.922856683,-2.319158,-1.715276954,-1.718250272,-1.318556057,-1.654387503,-1.16570621,-1.745034863,-1.468651641,0.637301929,-1.062408805,-1.392730589,-1.392730589,-1.10635433,0.639119596],\n",
    " ['Ca65Mg5Cu30','Ca',0.532,-1.286770658,-0.585599963,-1.155026066,-1.155026066,-0.681678457,-0.800690714,-1.354473287,0.044511983,-0.681403612,-0.943544633,-1.654387503,-1.16570621,-1.745034863,-1.468651641,0.637301929,-1.062408805,-1.392730589,-1.392730589,-1.10635433,0.639119596],\n",
    " ['Ca65Zn35','Ca',0.566,-1.410436769,-0.585599963,-0.9989612,-0.9989612,-0.437214166,-0.468197094,-2.319158,-1.492102057,-1.630797664,-0.962776384,-1.654387503,-1.16570621,-1.745034863,-1.468651641,0.637301929,-1.062408805,-1.392730589,-1.392730589,-1.10635433,0.639119596],\n",
    " ['Ca66.4Al33.6','Ca',0.605,-2.146200926,2.066600598,-2.091415267,-2.091415267,-2.148464202,-1.783209363,-1.418640068,-0.933555049,-0.942837142,-1.334729264,-1.654387503,-1.16570621,-0.740265774,-1.468651641,0.637301929,-1.062408805,-1.392730589,-1.392730589,-1.10635433,0.639119596],\n",
    " ['Ca70Mg10Ag20','Ca',0.561,-1.480587648,-0.585599963,-1.4671558,-1.4671558,-1.170607039,-1.174746037,-1.684369924,-0.888432256,-1.035977725,-1.133297911,-1.654387503,-1.16570621,-1.745034863,-1.468651641,0.637301929,-1.062408805,-1.392730589,-1.392730589,-1.10635433,0.639119596],\n",
    " ['Ca70Mg10Cu20','Ca',0.54,-1.627731107,-0.585599963,-1.4671558,-1.4671558,-1.170607039,-1.174746037,-1.354473287,0.044511983,-0.681403612,-0.943544633,-1.654387503,-1.16570621,-1.745034863,-1.468651641,0.637301929,-1.062408805,-1.392730589,-1.392730589,-1.10635433,0.639119596],\n",
    " ['Ca70Mg10Zn20','Ca',0.559,-1.794556175,-0.585599963,-1.4671558,-1.4671558,-1.170607039,-1.091622632,-2.319158,-1.492102057,-1.630797664,-0.962776384,-1.654387503,-1.16570621,-1.745034863,-1.468651641,0.637301929,-1.062408805,-1.392730589,-1.392730589,-1.10635433,0.639119596],\n",
    " ['Ca70Mg15Zn15','Ca',0.539,-1.921127666,-0.585599963,-1.623220667,-1.623220667,-1.41507133,-1.299431145,-2.319158,-1.492102057,-1.630797664,-0.962776384,-1.654387503,-1.16570621,-1.745034863,-1.468651641,0.637301929,-1.062408805,-1.392730589,-1.392730589,-1.10635433,0.639119596],\n",
    " ['Ca70Mg20Cu10','Ca',0.507,-1.964286624,-0.585599963,-1.779285533,-1.779285533,-1.65953562,-1.54880136,-1.354473287,0.044511983,-0.681403612,-0.943544633,-1.654387503,-1.16570621,-1.745034863,-1.468651641,0.637301929,-1.062408805,-1.392730589,-1.392730589,-1.10635433,0.639119596],\n",
    " ['Ce55Al25Cu20','Ce',0.59,-0.177313663,1.38776355,-1.4671558,-1.4671558,-0.901696319,-0.613663053,-1.26649203,-1.17014483,-1.747187843,-0.95971784,-1.654387503,-1.16570621,0.264503316,0.003092983,-1.04617472,-1.740831689,-1.392730589,-1.392730589,-0.863950853,-1.051462366],\n",
    " ['Ce60Al20Co20','Ce',0.531,-0.085723888,0.993090847,-1.4671558,-1.4671558,-1.170607039,-0.759129012,-0.87289167,-1.17014483,-1.324144736,-0.326027778,-1.654387503,-1.16570621,-0.740265774,0.003092983,-1.04617472,-1.740831689,-1.392730589,-1.392730589,-0.863950853,-1.051462366],\n",
    " ['Ce60Al20Cu20','Ce',0.564,-0.08384945,0.993090847,-1.4671558,-1.4671558,-0.87724989,-0.592882202,-1.26649203,-1.17014483,-1.747187843,-0.95971784,-1.654387503,-1.16570621,0.264503316,0.003092983,-1.04617472,-1.740831689,-1.392730589,-1.392730589,-0.863950853,-1.051462366],\n",
    " ['Ce65Al15Cu20','Ce',0.47,0.009614764,0.598418145,-1.4671558,-1.4671558,-0.852803461,-0.57210135,-1.26649203,-1.17014483,-1.747187843,-0.95971784,-1.654387503,-1.16570621,0.264503316,0.003092983,-1.04617472,-1.740831689,-1.392730589,-1.392730589,-0.863950853,-1.051462366],\n",
    " ['Ce68Al10Cu20Fe2','Ce',0.497,0.114185028,0.203745442,-1.404729853,-1.404729853,-0.779464173,-0.518071137,-1.030331814,-1.17014483,-1.493361979,-0.259604862,-0.590267999,0.85784908,2.274041495,0.003092983,-1.04617472,-1.740831689,-1.392730589,-1.392730589,-0.863950853,-1.051462366],\n",
    " ['Ce70Al15Cu15','Ce',0.47,-0.042658653,0.598418145,-1.623220667,-1.623220667,-1.072821322,-0.717567309,-1.26649203,-1.17014483,-1.747187843,-0.95971784,-1.654387503,-1.16570621,0.264503316,0.003092983,-1.04617472,-1.740831689,-1.392730589,-1.392730589,-0.863950853,-1.051462366],\n",
    " ['Co43.2Fe28.8B19.2Si4.8Nb4','Co',0.58,0.24514833,0.929943215,0.280770708,0.280770708,0.253152991,0.221727168,1.222782177,0.100610591,0.510938053,0.026894165,-0.856297875,-1.16570621,1.269272405,0.636295428,-0.198886472,0.624837718,0.718013956,0.718013956,0.590470008,-0.196923125],\n",
    " ['Co43Fe20Ta5.5B31.5','Co',0.596,0.269974336,1.900838063,0.046673408,0.046673408,-0.009401657,0.346412276,1.533031872,0.971358548,0.844395561,0.735920171,0.20782163,-1.16570621,1.269272405,0.636295428,-0.198886472,0.624837718,0.718013956,0.718013956,0.590470008,-0.196923125],\n",
    " ['Co48Cr15Mo14C15B6Er2','Co',0.608,0.437581983,-0.11199272,0.311983681,0.311983681,0.203282276,0.205102487,1.387498966,0.204271062,1.09054266,1.559255381,0.20782163,0.85784908,1.269272405,0.636295428,-0.198886472,0.624837718,0.718013956,0.718013956,0.590470008,-0.196923125],\n",
    " ['Co50.4Fe21.6B19.2Si4.8Nb4','Co',0.573,0.279765468,0.929943215,0.280770708,0.280770708,0.288355849,0.251651594,1.222782177,0.100610591,0.510938053,0.026894165,-0.856297875,-1.16570621,1.269272405,0.636295428,-0.198886472,0.624837718,0.718013956,0.718013956,0.590470008,-0.196923125],\n",
    " ['Co50Cr15Mo14C15B6','Co',0.578,0.436026199,-0.11199272,0.374409628,0.374409628,0.271732277,0.163540785,1.387498966,0.204271062,0.759075943,1.559255381,0.20782163,0.85784908,1.269272405,0.636295428,-0.198886472,0.624837718,0.718013956,0.718013956,0.590470008,-0.196923125],\n",
    " ['Co57.6Fe14.4B19.2Si4.8Nb4','Co',0.563,0.314382607,0.929943215,0.280770708,0.280770708,0.323558707,0.28157602,1.222782177,0.100610591,0.510938053,0.026894165,-0.856297875,-1.16570621,1.269272405,0.636295428,-0.198886472,0.624837718,0.718013956,0.718013956,0.590470008,-0.196923125],\n",
    " ['Co64.8Fe7.2B19.2Si4.8Nb4','Co',0.551,0.348999746,0.929943215,0.280770708,0.280770708,0.358761565,0.311500446,1.222782177,0.100610591,0.510938053,0.026894165,-0.856297875,-1.16570621,1.269272405,0.636295428,-0.198886472,0.624837718,0.718013956,0.718013956,0.590470008,-0.196923125],\n",
    " ['Cu25Zr75','Zr',0.419,0.279721419,-0.585599963,1.029882069,1.029882069,-0.192749875,-0.364292838,0.56391502,-0.388422925,0.151173663,-0.425353208,0.473851506,0.85784908,0.264503316,0.642023175,-0.332084625,0.052143075,0.718013956,0.718013956,1.317680438,-0.330098072],\n",
    " ['Cu28Zr72','Zr',0.473,0.313587845,-0.585599963,1.029882069,1.029882069,-0.075407016,-0.277013262,0.56391502,-0.388422925,0.151173663,-0.425353208,0.473851506,0.85784908,0.264503316,0.642023175,-0.332084625,0.052143075,0.718013956,0.718013956,1.317680438,-0.330098072],\n",
    " ['Cu33.5Zr66.5','Zr',0.496,0.375676293,-0.585599963,1.029882069,1.029882069,0.13972156,-0.117000707,0.56391502,-0.388422925,0.151173663,-0.425353208,0.473851506,0.85784908,0.264503316,0.642023175,-0.332084625,0.052143075,0.718013956,0.718013956,1.317680438,-0.330098072],\n",
    " ['Cu34Zr50Ag8Al8','Zr',0.592,0.387618812,0.045876361,0.780178282,0.780178282,0.393964423,0.097042061,0.56391502,0.544521314,0.505747776,0.23007105,1.005911258,0.85784908,0.264503316,0.642023175,-0.332084625,0.052143075,0.718013956,0.718013956,1.317680438,-0.330098072],\n",
    " ['Cu35Ag25Zr30Ti10','Cu',0.595,0.764849655,-0.585599963,1.029882069,1.029882069,1.176250154,0.653968875,0.56391502,0.544521314,0.505747776,-0.23559993,0.473851506,0.85784908,0.264503316,0.642023175,-0.332084625,0.052143075,0.718013956,0.718013956,1.317680438,-0.330098072],\n",
    " ['Cu38Zr46Ag8Al8','Zr',0.604,0.432774047,0.045876361,0.780178282,0.780178282,0.550421569,0.213414828,0.56391502,0.544521314,0.505747776,0.23007105,1.005911258,0.85784908,0.264503316,0.642023175,-0.332084625,0.052143075,0.718013956,0.718013956,1.317680438,-0.330098072],\n",
    " ['Cu40Ag20Zr30Ti10','Cu',0.602,0.72806379,-0.585599963,1.029882069,1.029882069,1.176250154,0.653968875,0.56391502,0.544521314,0.505747776,-0.23559993,0.473851506,0.85784908,0.264503316,0.642023175,-0.332084625,0.052143075,0.718013956,0.718013956,1.317680438,-0.330098072],\n",
    " ['Cu40Zr40Ag10Al10','Cu',0.558,0.456926193,0.203745442,0.717752335,0.717752335,0.687321572,0.321475254,0.56391502,0.544521314,0.505747776,0.23007105,1.005911258,0.85784908,0.264503316,0.642023175,-0.332084625,0.052143075,0.718013956,0.718013956,1.317680438,-0.330098072],\n",
    " ['Cu40Zr44Ag8Al8','Zr',0.589,0.455351664,0.045876361,0.780178282,0.780178282,0.628650142,0.271601211,0.56391502,0.544521314,0.505747776,0.23007105,1.005911258,0.85784908,0.264503316,0.642023175,-0.332084625,0.052143075,0.718013956,0.718013956,1.317680438,-0.330098072],\n",
    " ['Cu40Zr60','Zr',0.518,0.44905355,-0.585599963,1.029882069,1.029882069,0.393964423,0.072105039,0.56391502,-0.388422925,0.151173663,-0.425353208,0.473851506,0.85784908,0.264503316,0.642023175,-0.332084625,0.052143075,0.718013956,0.718013956,1.317680438,-0.330098072],\n",
    " ['Cu42Zr42Ag16','Cu',0.556,0.769966873,-0.585599963,1.029882069,1.029882069,1.098021581,0.595782491,0.56391502,0.544521314,0.505747776,-0.23559993,0.473851506,-1.16570621,0.264503316,0.642023175,-0.332084625,0.052143075,0.718013956,0.718013956,1.317680438,-0.330098072],\n",
    " ['Cu42Zr42Ag8Al8','Cu',0.581,0.477929282,0.045876361,0.780178282,0.780178282,0.706878715,0.329787595,0.56391502,0.544521314,0.505747776,0.23007105,1.005911258,0.85784908,0.264503316,0.642023175,-0.332084625,0.052143075,0.718013956,0.718013956,1.317680438,-0.330098072],\n",
    " ['Cu43Zr40Ag7Ti10','Cu',0.599,0.519532455,-0.585599963,1.029882069,1.029882069,0.785107288,0.363036957,0.56391502,0.544521314,0.505747776,-0.23559993,0.473851506,0.85784908,0.264503316,0.642023175,-0.332084625,0.052143075,0.718013956,0.718013956,1.317680438,-0.330098072],\n",
    " ['Cu43Zr43Ag7In7','Cu',0.62,0.63965119,-0.033058179,0.811391255,0.811391255,1.058907294,0.624875683,0.56391502,0.65427946,0.678484453,1.008176889,0.473851506,0.85784908,0.264503316,0.642023175,-0.332084625,0.052143075,0.718013956,0.718013956,1.317680438,-0.330098072],\n",
    " ['Cu43Zr43Ag7Ti7','Cu',0.599,0.547705272,-0.585599963,1.029882069,1.029882069,0.785107288,0.363036957,0.56391502,0.544521314,0.505747776,-0.23559993,0.473851506,0.85784908,0.264503316,0.642023175,-0.332084625,0.052143075,0.718013956,0.718013956,1.317680438,-0.330098072],\n",
    " ['Cu43Zr43Al7Ag7','Cu',0.631,0.488430826,-0.033058179,0.811391255,0.811391255,0.716657287,0.333943765,0.56391502,0.544521314,0.505747776,0.23007105,-1.654387503,-1.16570621,0.264503316,0.642023175,-0.332084625,0.052143075,0.718013956,0.718013956,1.317680438,-0.330098072],\n",
    " ['Cu43Zr43Al7Be7','Cu',0.631,0.204950049,-0.033058179,0.592900442,0.592900442,0.37440728,0.072105039,0.56391502,0.168904549,0.220140354,0.23007105,1.005911258,0.85784908,0.264503316,0.642023175,-0.332084625,0.052143075,0.718013956,0.718013956,1.317680438,-0.330098072],\n",
    " ['Cu44Zr44Ag12','Cu',0.592,0.717960564,-0.585599963,1.029882069,1.029882069,1.019793007,0.537596108,0.56391502,0.544521314,0.505747776,-0.23559993,0.473851506,-1.16570621,0.264503316,0.642023175,-0.332084625,0.052143075,0.718013956,0.718013956,1.317680438,-0.330098072],\n",
    " ['Cu44Zr44Ag6Al6','Cu',0.61,0.49893237,-0.11199272,0.842604228,0.842604228,0.726435858,0.338099936,0.56391502,0.544521314,0.505747776,0.23007105,1.005911258,0.85784908,0.264503316,0.642023175,-0.332084625,0.052143075,0.718013956,0.718013956,1.317680438,-0.330098072],\n",
    " ['Cu45Ag15Zr30Ti10','Cu',0.613,0.691277925,-0.585599963,1.029882069,1.029882069,1.176250154,0.653968875,0.56391502,0.544521314,0.505747776,-0.23559993,0.473851506,0.85784908,0.264503316,0.642023175,-0.332084625,0.052143075,0.718013956,0.718013956,1.317680438,-0.330098072],\n",
    " ['Cu45Ni5Ag10Zr30Ti10','Cu',0.612,0.654210895,-0.585599963,1.029882069,1.029882069,1.127357295,0.633188024,0.56391502,0.544521314,0.505747776,-0.23559993,0.473851506,0.85784908,0.264503316,0.642023175,-0.332084625,0.052143075,0.718013956,0.718013956,1.317680438,-0.330098072],\n",
    " ['Cu45Zr15Ag10Hf30','Cu',0.558,1.647780701,-0.585599963,1.029882069,1.029882069,0.980678721,2.254094423,1.030744892,0.781111095,1.007498231,0.34830384,0.473851506,0.85784908,0.264503316,0.642023175,-0.332084625,0.052143075,0.718013956,0.718013956,1.317680438,-0.330098072],\n",
    " ['Cu45Zr25Ag10Hf20','Cu',0.573,1.329172937,-0.585599963,1.029882069,1.029882069,0.980678721,1.672230587,1.030744892,0.781111095,1.007498231,0.34830384,0.473851506,0.85784908,0.264503316,0.642023175,-0.332084625,0.052143075,0.718013956,0.718013956,1.317680438,-0.330098072],\n",
    " ['Cu45Zr35Ag10Hf10','Cu',0.589,1.010565173,-0.585599963,1.029882069,1.029882069,0.980678721,1.090366752,1.030744892,0.781111095,1.007498231,0.34830384,0.473851506,0.85784908,0.264503316,0.642023175,-0.332084625,0.052143075,0.718013956,0.718013956,1.317680438,-0.330098072],\n",
    " ['Cu45Zr45Ag10','Cu',0.589,0.691957409,-0.585599963,1.029882069,1.029882069,0.980678721,0.508502916,0.56391502,0.544521314,0.505747776,-0.23559993,0.473851506,-1.16570621,0.264503316,0.642023175,-0.332084625,0.052143075,0.718013956,0.718013956,1.317680438,-0.330098072],\n",
    " ['Cu45Zr45Ag3Al7','Cu',0.602,0.436424517,-0.033058179,0.811391255,0.811391255,0.638428714,0.275757382,0.56391502,0.544521314,0.505747776,0.23007105,1.005911258,0.85784908,0.264503316,0.642023175,-0.332084625,0.052143075,0.718013956,0.718013956,1.317680438,-0.330098072],\n",
    " ['Cu45Zr45Ag5Al5','Cu',0.608,0.509433915,-0.19092726,0.873817202,0.873817202,0.73621443,0.342256106,0.56391502,0.544521314,0.505747776,0.23007105,1.005911258,0.85784908,0.264503316,0.642023175,-0.332084625,0.052143075,0.718013956,0.718013956,1.317680438,-0.330098072],\n",
    " ['Cu45Zr45Ag7Al3','Cu',0.598,0.582443313,-0.348796342,0.936243149,0.936243149,0.834000146,0.40875483,0.56391502,0.544521314,0.505747776,0.23007105,1.005911258,0.85784908,0.264503316,0.642023175,-0.332084625,0.052143075,0.718013956,0.718013956,1.317680438,-0.330098072],\n",
    " ['Cu45Zr45Al10','Cu',0.609,0.32691042,0.203745442,0.717752335,0.717752335,0.491750139,0.176009296,0.56391502,0.109147336,0.220140354,0.23007105,1.005911258,0.85784908,0.264503316,0.642023175,-0.332084625,0.052143075,0.718013956,0.718013956,1.317680438,-0.330098072],\n",
    " ['Cu45Zr48Al7','Zr',0.597,0.380486572,-0.033058179,0.811391255,0.811391255,0.521085854,0.188477806,0.56391502,0.109147336,0.220140354,0.23007105,1.005911258,0.85784908,0.264503316,0.642023175,-0.332084625,0.052143075,0.718013956,0.718013956,1.317680438,-0.330098072],\n",
    " ['Cu45Zr55','Zr',0.549,0.505497593,-0.585599963,1.029882069,1.029882069,0.589535856,0.217570998,0.56391502,-0.388422925,0.151173663,-0.425353208,0.473851506,0.85784908,0.264503316,0.642023175,-0.332084625,0.052143075,0.718013956,0.718013956,1.317680438,-0.330098072],\n",
    " ['Cu46.4Ag11.6Zr35Ti7','Cu',0.616,0.671858738,-0.585599963,1.029882069,1.029882069,1.098021581,0.595782491,0.56391502,0.544521314,0.505747776,-0.23559993,0.473851506,0.85784908,0.264503316,0.642023175,-0.332084625,0.052143075,0.718013956,0.718013956,1.317680438,-0.330098072],\n",
    " ['Cu46Zr37Al7Y10','Cu',0.595,0.296225854,-0.033058179,0.811391255,0.811391255,0.511307282,0.176009296,0.56391502,0.109147336,0.220140354,0.23007105,0.739881382,0.85784908,0.264503316,0.642023175,-0.332084625,0.052143075,0.718013956,0.718013956,1.317680438,-0.330098072],\n",
    " ['Cu46Zr42Al7Y5','Cu',0.604,0.344000617,-0.033058179,0.811391255,0.811391255,0.535753712,0.196790147,0.56391502,0.109147336,0.220140354,0.23007105,0.739881382,0.85784908,0.264503316,0.642023175,-0.332084625,0.052143075,0.718013956,0.718013956,1.317680438,-0.330098072],\n",
    " ['Cu46Zr46Ag8','Cu',0.58,0.665954255,-0.585599963,1.029882069,1.029882069,0.941564434,0.479409724,0.56391502,0.544521314,0.505747776,-0.23559993,0.473851506,-1.16570621,0.264503316,0.642023175,-0.332084625,0.052143075,0.718013956,0.718013956,1.317680438,-0.330098072],\n",
    " ['Cu46Zr46Al8','Cu',0.607,0.373916663,0.045876361,0.780178282,0.780178282,0.550421569,0.213414828,0.56391502,0.109147336,0.220140354,0.23007105,1.005911258,0.85784908,0.264503316,0.642023175,-0.332084625,0.052143075,0.718013956,0.718013956,1.317680438,-0.330098072],\n",
    " ['Cu46Zr47Al7','Zr',0.606,0.391775381,-0.033058179,0.811391255,0.811391255,0.560200141,0.217570998,0.56391502,0.109147336,0.220140354,0.23007105,1.005911258,0.85784908,0.264503316,0.642023175,-0.332084625,0.052143075,0.718013956,0.718013956,1.317680438,-0.330098072],\n",
    " ['Cu46Zr54','Zr',0.58,0.516786402,-0.585599963,1.029882069,1.029882069,0.628650142,0.24666419,0.56391502,-0.388422925,0.151173663,-0.425353208,0.473851506,0.85784908,0.264503316,0.642023175,-0.332084625,0.052143075,0.718013956,0.718013956,1.317680438,-0.330098072],\n",
    " ['Cu47Ni13Zr30Ti10','Cu',0.581,0.5801893,-0.585599963,1.029882069,1.029882069,1.049128722,0.599938662,0.56391502,-0.371349436,0.151173663,-0.425353208,0.473851506,0.85784908,0.264503316,0.642023175,-0.332084625,0.052143075,0.718013956,0.718013956,1.317680438,-0.330098072],\n",
    " ['Cu47Ti33Nb11Ni8Si','Cu',0.561,0.394577667,-0.585599963,0.998669095,0.998669095,1.000235864,0.520971427,1.222782177,0.053048728,0.859326494,0.53546199,1.005911258,0.85784908,1.269272405,0.642023175,-0.332084625,0.052143075,0.718013956,0.718013956,1.317680438,-0.330098072],\n",
    " ['Cu47Ti33Zr11Ni2Sn6Si','Cu',0.583,0.243511944,-0.585599963,0.811391255,0.811391255,0.951343006,0.57500164,0.56391502,0.007925935,0.223197641,0.891813209,1.005911258,0.85784908,0.264503316,0.642023175,-0.332084625,0.052143075,0.718013956,0.718013956,1.317680438,-0.330098072],\n",
    " ['Cu47Ti33Zr11Ni4Sn4Si','Cu',0.607,0.258488712,-0.585599963,0.873817202,0.873817202,0.931785863,0.541752278,0.56391502,0.007925935,0.223197641,0.891813209,1.005911258,0.85784908,0.264503316,0.642023175,-0.332084625,0.052143075,0.718013956,0.718013956,1.317680438,-0.330098072],\n",
    " ['Cu47Ti33Zr11Ni8Si','Cu',0.622,0.288442246,-0.585599963,0.998669095,0.998669095,0.892671576,0.475253554,0.56391502,-0.355495481,0.151173663,-0.425353208,1.005911258,0.85784908,0.264503316,0.642023175,-0.332084625,0.052143075,0.718013956,0.718013956,1.317680438,-0.330098072],\n",
    " ['Cu47Ti33Zr11SiNi6Sn2','Cu',0.632,0.273465479,-0.585599963,0.936243149,0.936243149,0.912228719,0.508502916,0.56391502,0.007925935,0.223197641,0.891813209,-1.122327751,0.85784908,0.264503316,0.642023175,-0.332084625,0.052143075,0.718013956,0.718013956,1.317680438,-0.330098072],\n",
    " ['Cu47Ti33Zr11Sn8Si','Cu',0.524,0.228535177,-0.585599963,0.748965308,0.748965308,0.970900149,0.608251002,0.56391502,0.007925935,0.223197641,0.891813209,1.005911258,0.85784908,0.264503316,0.642023175,-0.332084625,0.052143075,0.718013956,0.718013956,1.317680438,-0.330098072],\n",
    " ['Cu47Ti33Zr3Nb8Ni8Si','Cu',0.577,0.365631643,-0.585599963,0.998669095,0.998669095,0.970900149,0.508502916,1.222782177,0.053048728,0.859326494,0.53546199,1.005911258,0.85784908,1.269272405,0.642023175,-0.332084625,0.052143075,0.718013956,0.718013956,1.317680438,-0.330098072],\n",
    " ['Cu47Ti33Zr5Nb6Ni8Si','Cu',0.6,0.346334294,-0.585599963,0.998669095,0.998669095,0.951343006,0.500190575,1.222782177,0.053048728,0.859326494,0.53546199,1.005911258,0.85784908,1.269272405,0.642023175,-0.332084625,0.052143075,0.718013956,0.718013956,1.317680438,-0.330098072],\n",
    " ['Cu47Ti33Zr7Nb4Ni8Si','Cu',0.608,0.327036945,-0.585599963,0.998669095,0.998669095,0.931785863,0.491878235,1.222782177,0.053048728,0.859326494,0.53546199,1.005911258,0.85784908,1.269272405,0.642023175,-0.332084625,0.052143075,0.718013956,0.718013956,1.317680438,-0.330098072],\n",
    " ['Cu47Ti33Zr9Nb2Ni8Si','Cu',0.628,0.307739596,-0.585599963,0.998669095,0.998669095,0.912228719,0.483565894,1.222782177,0.053048728,0.859326494,0.53546199,1.005911258,0.85784908,1.269272405,0.642023175,-0.332084625,0.052143075,0.718013956,0.718013956,1.317680438,-0.330098072],\n",
    " ['Cu47Zr43Al7Ag3','Cu',0.619,0.459002134,-0.033058179,0.811391255,0.811391255,0.716657287,0.333943765,0.56391502,0.544521314,0.505747776,0.23007105,-1.654387503,-1.16570621,0.264503316,0.642023175,-0.332084625,0.052143075,0.718013956,0.718013956,1.317680438,-0.330098072],\n",
    " ['Cu47Zr43Al7Be3','Cu',0.628,0.337510373,-0.033058179,0.717752335,0.717752335,0.569978712,0.221727168,0.56391502,0.168904549,0.220140354,0.23007105,1.005911258,0.85784908,0.264503316,0.642023175,-0.332084625,0.052143075,0.718013956,0.718013956,1.317680438,-0.330098072],\n",
    " ['Cu47Zr47Al6','Cu',0.602,0.420922907,-0.11199272,0.842604228,0.842604228,0.609092999,0.25082036,0.56391502,0.109147336,0.220140354,0.23007105,1.005911258,0.85784908,0.264503316,0.642023175,-0.332084625,0.052143075,0.718013956,0.718013956,1.317680438,-0.330098072],\n",
    " ['Cu48Zr48Ag4','Cu',0.568,0.613947946,-0.585599963,1.029882069,1.029882069,0.863335861,0.421223341,0.56391502,0.544521314,0.505747776,-0.23559993,0.473851506,-1.16570621,0.264503316,0.642023175,-0.332084625,0.052143075,0.718013956,0.718013956,1.317680438,-0.330098072],\n",
    " ['Cu48Zr48Al4','Cu',0.58,0.46792915,-0.269861801,0.905030175,0.905030175,0.667764429,0.288225892,0.56391502,0.109147336,0.220140354,0.23007105,1.005911258,0.85784908,0.264503316,0.642023175,-0.332084625,0.052143075,0.718013956,0.718013956,1.317680438,-0.330098072],\n",
    " ['Cu48Zr52','Zr',0.571,0.539364019,-0.585599963,1.029882069,1.029882069,0.706878715,0.304850573,0.56391502,-0.388422925,0.151173663,-0.425353208,0.473851506,0.85784908,0.264503316,0.642023175,-0.332084625,0.052143075,0.718013956,0.718013956,1.317680438,-0.330098072],\n",
    " ['Cu49.4Zr41.99Ti7.41Sn0.6Si0.6','Cu',0.598,0.476072463,-0.585599963,0.992426501,0.992426501,0.779240145,0.370518064,0.56391502,0.007925935,0.223197641,0.891813209,1.005911258,0.85784908,0.264503316,0.642023175,-0.332084625,0.052143075,0.718013956,0.718013956,1.317680438,-0.330098072],\n",
    " ['Cu49.5Zr42.075Ti7.425Si','Cu',0.599,0.466976935,-0.585599963,0.998669095,0.998669095,0.755771573,0.348490361,0.56391502,-0.355495481,0.151173663,-0.425353208,1.005911258,0.85784908,0.264503316,0.642023175,-0.332084625,0.052143075,0.718013956,0.718013956,1.317680438,-0.330098072],\n",
    " ['Cu49.5Zr42.075Ti7.425Sn','Cu',0.599,0.4903137,-0.585599963,0.998669095,0.998669095,0.804664431,0.390052064,0.56391502,0.007925935,0.223197641,0.891813209,0.473851506,0.85784908,0.264503316,0.642023175,-0.332084625,0.052143075,0.718013956,0.718013956,1.317680438,-0.330098072],\n",
    " ['Cu49Hf42Al9','Cu',0.623,1.72807698,0.124810902,0.748965308,0.748965308,0.657985857,2.740366343,1.030744892,0.345737117,0.721890809,0.81397482,1.005911258,0.85784908,0.264503316,0.642023175,-0.332084625,0.052143075,0.718013956,0.718013956,1.317680438,-0.330098072],\n",
    " ['Cu49Zr36Ag10Ti5','Cu',0.612,0.690157948,-0.585599963,1.029882069,1.029882069,1.137135867,0.624875683,0.56391502,0.544521314,0.505747776,-0.23559993,0.473851506,0.85784908,0.264503316,0.642023175,-0.332084625,0.052143075,0.718013956,0.718013956,1.317680438,-0.330098072],\n",
    " ['Cu50Ag10Zr30Ti10','Cu',0.614,0.654492061,-0.585599963,1.029882069,1.029882069,1.176250154,0.653968875,0.56391502,0.544521314,0.505747776,-0.23559993,0.473851506,0.85784908,0.264503316,0.642023175,-0.332084625,0.052143075,0.718013956,0.718013956,1.317680438,-0.330098072],\n",
    " ['Cu50Hf42.5Al7.5','Cu',0.63,1.782084253,0.006409091,0.795784768,0.795784768,0.711768001,2.804786982,1.030744892,0.345737117,0.721890809,0.81397482,1.005911258,0.85784908,0.264503316,0.642023175,-0.332084625,0.052143075,0.718013956,0.718013956,1.317680438,-0.330098072],\n",
    " ['Cu50Hf45Al5','Cu',0.62,1.906382987,-0.19092726,0.873817202,0.873817202,0.73621443,2.960643367,1.030744892,0.345737117,0.721890809,0.81397482,1.005911258,0.85784908,0.264503316,0.642023175,-0.332084625,0.052143075,0.718013956,0.718013956,1.317680438,-0.330098072],\n",
    " ['Cu50Zr42.5Ti7.5','Cu',0.588,0.491509592,-0.585599963,1.029882069,1.029882069,0.785107288,0.363036957,0.56391502,-0.388422925,0.151173663,-0.425353208,0.473851506,0.85784908,0.264503316,0.642023175,-0.332084625,0.052143075,0.718013956,0.718013956,1.317680438,-0.330098072],\n",
    " ['Cu50Zr43Al7','Cu',0.613,0.436930615,-0.033058179,0.811391255,0.811391255,0.716657287,0.333943765,0.56391502,0.109147336,0.220140354,0.23007105,1.005911258,0.85784908,0.264503316,0.642023175,-0.332084625,0.052143075,0.718013956,0.718013956,1.317680438,-0.330098072],\n",
    " ['Cu50Zr45Al5','Cu',0.61,0.47264805,-0.19092726,0.873817202,0.873817202,0.73621443,0.342256106,0.56391502,0.109147336,0.220140354,0.23007105,1.005911258,0.85784908,0.264503316,0.642023175,-0.332084625,0.052143075,0.718013956,0.718013956,1.317680438,-0.330098072],\n",
    " ['Cu50Zr50','Cu',0.555,0.561941636,-0.585599963,1.029882069,1.029882069,0.785107288,0.363036957,0.56391502,-0.388422925,0.151173663,-0.425353208,0.473851506,0.85784908,0.264503316,0.642023175,-0.332084625,0.052143075,0.718013956,0.718013956,1.317680438,-0.330098072],\n",
    " ['Cu51.5Zr40.5Al8','Cu',0.621,0.436005111,0.045876361,0.780178282,0.780178282,0.765550145,0.373427383,0.56391502,0.109147336,0.220140354,0.23007105,1.005911258,0.85784908,0.264503316,0.642023175,-0.332084625,0.052143075,0.718013956,0.718013956,1.317680438,-0.330098072],\n",
    " ['Cu52.4Zr41.1Al6.5','Cu',0.619,0.472953115,-0.07252545,0.826997742,0.826997742,0.81542086,0.405845511,0.56391502,0.109147336,0.220140354,0.23007105,1.005911258,0.85784908,0.264503316,0.642023175,-0.332084625,0.052143075,0.718013956,0.718013956,1.317680438,-0.330098072],\n",
    " ['Cu52.5Hf40Al7.5','Cu',0.623,1.730654334,0.006409091,0.795784768,0.795784768,0.809553717,2.732054002,1.030744892,0.345737117,0.721890809,0.81397482,1.005911258,0.85784908,0.264503316,0.642023175,-0.332084625,0.052143075,0.718013956,0.718013956,1.317680438,-0.330098072],\n",
    " ['Cu52.5Zr40Ga7.5','Cu',0.611,0.5688302,0.006409091,0.795784768,0.795784768,1.176250154,0.716311429,0.56391502,0.493300846,0.467140649,1.204109043,0.473851506,0.85784908,0.264503316,0.642023175,-0.332084625,0.052143075,0.718013956,0.718013956,1.317680438,-0.330098072],\n",
    " ['Cu52.5Zr42.5Al5','Cu',0.61,0.500870072,-0.19092726,0.873817202,0.873817202,0.834000146,0.414989085,0.56391502,0.109147336,0.220140354,0.23007105,1.005911258,0.85784908,0.264503316,0.642023175,-0.332084625,0.052143075,0.718013956,0.718013956,1.317680438,-0.330098072],\n",
    " ['Cu52.5Zr42.5Ga5','Cu',0.618,0.575941352,-0.19092726,0.873817202,0.873817202,1.078464437,0.622797598,0.56391502,0.493300846,0.467140649,1.204109043,0.473851506,0.85784908,0.264503316,0.642023175,-0.332084625,0.052143075,0.718013956,0.718013956,1.317680438,-0.330098072],\n",
    " ['Cu53.2Zr41.8Al5','Cu',0.613,0.508772238,-0.19092726,0.873817202,0.873817202,0.861380147,0.435354319,0.56391502,0.109147336,0.220140354,0.23007105,1.005911258,0.85784908,0.264503316,0.642023175,-0.332084625,0.052143075,0.718013956,0.718013956,1.317680438,-0.330098072],\n",
    " ['Cu54Ag6Zr33Ti7','Cu',0.625,0.653236186,-0.585599963,1.029882069,1.029882069,1.176250154,0.653968875,0.56391502,0.544521314,0.505747776,-0.23559993,0.473851506,0.85784908,0.264503316,0.642023175,-0.332084625,0.052143075,0.718013956,0.718013956,1.317680438,-0.330098072],\n",
    " ['Cu54Ni6Zr22Ti18','Cu',0.553,0.505455418,-0.585599963,1.029882069,1.029882069,1.117578724,0.629031853,0.56391502,-0.371349436,0.151173663,-0.425353208,0.473851506,0.85784908,0.264503316,0.642023175,-0.332084625,0.052143075,0.718013956,0.718013956,1.317680438,-0.330098072],\n",
    " ['Cu54Zr27Ti9Be10','Cu',0.637,0.304065695,-0.585599963,0.717752335,0.717752335,0.843778718,0.396286319,0.56391502,0.168904549,0.176058551,-0.425353208,1.005911258,0.85784908,0.264503316,0.642023175,-0.332084625,0.052143075,0.718013956,0.718013956,1.317680438,-0.330098072],\n",
    " ['Cu54Zr36Ag10','Cu',0.627,0.793556688,-0.585599963,1.029882069,1.029882069,1.3327073,0.770341642,0.56391502,0.544521314,0.505747776,-0.23559993,0.473851506,-1.16570621,0.264503316,0.642023175,-0.332084625,0.052143075,0.718013956,0.718013956,1.317680438,-0.330098072],\n",
    " ['Cu55.2Hf23Ti13.8Nb8','Cu',0.622,1.301035734,-0.585599963,1.029882069,1.029882069,1.066730151,1.885857739,1.222782177,0.020121284,0.859326494,0.53546199,0.473851506,-1.16570621,1.269272405,0.642023175,-0.332084625,0.052143075,0.718013956,0.718013956,1.317680438,-0.330098072],\n",
    " ['Cu55Ag5Zr30Ti10','Cu',0.613,0.617706196,-0.585599963,1.029882069,1.029882069,1.176250154,0.653968875,0.56391502,0.544521314,0.505747776,-0.23559993,0.473851506,0.85784908,0.264503316,0.642023175,-0.332084625,0.052143075,0.718013956,0.718013956,1.317680438,-0.330098072],\n",
    " ['Cu55Hf45','Cu',0.595,2.052120617,-0.585599963,1.029882069,1.029882069,0.980678721,3.126890177,1.030744892,-0.151833144,0.652924118,0.158550562,0.473851506,0.85784908,0.264503316,0.642023175,-0.332084625,0.052143075,0.718013956,0.718013956,1.317680438,-0.330098072],\n",
    " ['Cu55Ni5Zr30Ti10','Cu',0.596,0.580639165,-0.585599963,1.029882069,1.029882069,1.127357295,0.633188024,0.56391502,-0.371349436,0.151173663,-0.425353208,0.473851506,0.85784908,0.264503316,0.642023175,-0.332084625,0.052143075,0.718013956,0.718013956,1.317680438,-0.330098072],\n",
    " ['Cu55Zr40Al5','Cu',0.62,0.529092093,-0.19092726,0.873817202,0.873817202,0.931785863,0.487722065,0.56391502,0.109147336,0.220140354,0.23007105,1.005911258,0.85784908,0.264503316,0.642023175,-0.332084625,0.052143075,0.718013956,0.718013956,1.317680438,-0.330098072],\n",
    " ['Cu55Zr40Ga5','Cu',0.617,0.604163374,-0.19092726,0.873817202,0.873817202,1.176250154,0.695530577,0.56391502,0.493300846,0.467140649,1.204109043,0.473851506,0.85784908,0.264503316,0.642023175,-0.332084625,0.052143075,0.718013956,0.718013956,1.317680438,-0.330098072],\n",
    " ['Cu55Zr42.5Ga2.5','Cu',0.591,0.611274527,-0.388263612,0.951849635,0.951849635,1.078464437,0.602016747,0.56391502,0.493300846,0.467140649,1.204109043,0.473851506,0.85784908,0.264503316,0.642023175,-0.332084625,0.052143075,0.718013956,0.718013956,1.317680438,-0.330098072],\n",
    " ['Cu55Zr45','Cu',0.59,0.61838568,-0.585599963,1.029882069,1.029882069,0.980678721,0.508502916,0.56391502,-0.388422925,0.151173663,-0.425353208,0.473851506,0.85784908,0.264503316,0.642023175,-0.332084625,0.052143075,0.718013956,0.718013956,1.317680438,-0.330098072],\n",
    " ['Cu56.4Hf23.5Ti14.1Nb6','Cu',0.626,1.308398061,-0.585599963,1.029882069,1.029882069,1.094110152,1.94155042,1.222782177,0.020121284,0.859326494,0.53546199,0.473851506,-1.16570621,1.269272405,0.642023175,-0.332084625,0.052143075,0.718013956,0.718013956,1.317680438,-0.330098072],\n",
    " ['Cu56Zr44','Cu',0.626,0.629674489,-0.585599963,1.029882069,1.029882069,1.019793007,0.537596108,0.56391502,-0.388422925,0.151173663,-0.425353208,0.473851506,0.85784908,0.264503316,0.642023175,-0.332084625,0.052143075,0.718013956,0.718013956,1.317680438,-0.330098072],\n",
    " ['Cu57.5Zr37.5Ga5','Cu',0.6,0.632385396,-0.19092726,0.873817202,0.873817202,1.27403587,0.768263557,0.56391502,0.493300846,0.467140649,1.204109043,0.473851506,0.85784908,0.264503316,0.642023175,-0.332084625,0.052143075,0.718013956,0.718013956,1.317680438,-0.330098072],\n",
    " ['Cu57.6Hf24Ti14.4Nb4','Cu',0.629,1.315760389,-0.585599963,1.029882069,1.029882069,1.121490152,1.997243101,1.222782177,0.020121284,0.859326494,0.53546199,0.473851506,-1.16570621,1.269272405,0.642023175,-0.332084625,0.052143075,0.718013956,0.718013956,1.317680438,-0.330098072],\n",
    " ['Cu57.6Zr28.8Ti9.6Sn4','Cu',0.656,0.572560333,-0.585599963,0.905030175,0.905030175,1.238833012,0.750392025,0.56391502,0.007925935,0.223197641,0.891813209,0.473851506,0.85784908,0.264503316,0.642023175,-0.332084625,0.052143075,0.718013956,0.718013956,1.317680438,-0.330098072],\n",
    " ['Cu57Zr36Ag7','Cu',0.616,0.771485169,-0.585599963,1.029882069,1.029882069,1.3327073,0.770341642,0.56391502,0.544521314,0.505747776,-0.23559993,0.473851506,-1.16570621,0.264503316,0.642023175,-0.332084625,0.052143075,0.718013956,0.718013956,1.317680438,-0.330098072],\n",
    " ['Cu58.1Zr35.9Al6','Cu',0.648,0.546228683,-0.11199272,0.842604228,0.842604228,1.043261579,0.573754789,0.56391502,0.109147336,0.220140354,0.23007105,1.005911258,0.85784908,0.264503316,0.642023175,-0.332084625,0.052143075,0.718013956,0.718013956,1.317680438,-0.330098072],\n",
    " ['Cu58.2Zr29.1Ti9.7Sn3','Cu',0.651,0.574650333,-0.585599963,0.936243149,0.936243149,1.223187297,0.726286237,0.56391502,0.007925935,0.223197641,0.891813209,0.473851506,0.85784908,0.264503316,0.642023175,-0.332084625,0.052143075,0.718013956,0.718013956,1.317680438,-0.330098072],\n",
    " ['Cu58.7Zr36.3Al5','Cu',0.634,0.570860686,-0.19092726,0.873817202,0.873817202,1.076508723,0.595366874,0.56391502,0.109147336,0.220140354,0.23007105,1.005911258,0.85784908,0.264503316,0.642023175,-0.332084625,0.052143075,0.718013956,0.718013956,1.317680438,-0.330098072],\n",
    " ['Cu58.8Hf24.5Ti14.7Nb2','Cu',0.63,1.323122717,-0.585599963,1.029882069,1.029882069,1.148870153,2.052935783,1.222782177,0.020121284,0.859326494,0.53546199,0.473851506,-1.16570621,1.269272405,0.642023175,-0.332084625,0.052143075,0.718013956,0.718013956,1.317680438,-0.330098072],\n",
    " ['Cu58.8Zr29.4Ti9.8Sn2','Cu',0.635,0.576740332,-0.585599963,0.967456122,0.967456122,1.207541583,0.70218045,0.56391502,0.007925935,0.223197641,0.891813209,0.473851506,0.85784908,0.264503316,0.642023175,-0.332084625,0.052143075,0.718013956,0.718013956,1.317680438,-0.330098072],\n",
    " ['Cu58.8Zr29.4Ti9.8Y2','Cu',0.63,0.550142043,-0.585599963,1.029882069,1.029882069,1.119534438,0.610744704,0.56391502,-0.388422925,0.151173663,-0.425353208,0.739881382,0.85784908,0.264503316,0.642023175,-0.332084625,0.052143075,0.718013956,0.718013956,1.317680438,-0.330098072],\n",
    " ['Cu59.4Zr29.7Ti9.9Sn','Cu',0.632,0.578830332,-0.585599963,0.998669095,0.998669095,1.191895868,0.678074662,0.56391502,0.007925935,0.223197641,0.891813209,0.473851506,0.85784908,0.264503316,0.642023175,-0.332084625,0.052143075,0.718013956,0.718013956,1.317680438,-0.330098072],\n",
    " ['Cu59.6Zr36.9Al3.5','Cu',0.627,0.607808689,-0.309329071,0.920636662,0.920636662,1.126379438,0.627785002,0.56391502,0.109147336,0.220140354,0.23007105,1.005911258,0.85784908,0.264503316,0.642023175,-0.332084625,0.052143075,0.718013956,0.718013956,1.317680438,-0.330098072],\n",
    " ['Cu60.3Zr37.2Al2.5','Cu',0.619,0.633569573,-0.388263612,0.951849635,0.951849635,1.16353801,0.652306407,0.56391502,0.109147336,0.220140354,0.23007105,1.005911258,0.85784908,0.264503316,0.642023175,-0.332084625,0.052143075,0.718013956,0.718013956,1.317680438,-0.330098072],\n",
    " ['Cu60Hf17.5Ti22.5','Cu',0.596,1.021097177,-0.585599963,1.029882069,1.029882069,1.176250154,1.672230587,1.030744892,-0.151833144,0.652924118,0.158550562,0.473851506,0.85784908,0.264503316,0.642023175,-0.332084625,0.052143075,0.718013956,0.718013956,1.317680438,-0.330098072],\n",
    " ['Cu60Hf20Ti20','Cu',0.611,1.124226466,-0.585599963,1.029882069,1.029882069,1.176250154,1.817696546,1.030744892,-0.151833144,0.652924118,0.158550562,0.473851506,0.85784908,0.264503316,0.642023175,-0.332084625,0.052143075,0.718013956,0.718013956,1.317680438,-0.330098072],\n",
    " ['Cu60Hf25Ti15','Cu',0.62,1.330485044,-0.585599963,1.029882069,1.029882069,1.176250154,2.108628464,1.030744892,-0.151833144,0.652924118,0.158550562,0.473851506,0.85784908,0.264503316,0.642023175,-0.332084625,0.052143075,0.718013956,0.718013956,1.317680438,-0.330098072],\n",
    " ['Cu60Hf40','Cu',0.599,1.949260779,-0.585599963,1.029882069,1.029882069,1.176250154,2.981424218,1.030744892,-0.151833144,0.652924118,0.158550562,0.473851506,0.85784908,0.264503316,0.642023175,-0.332084625,0.052143075,0.718013956,0.718013956,1.317680438,-0.330098072],\n",
    " ['Cu60Zr30Ti10','Cu',0.616,0.580920331,-0.585599963,1.029882069,1.029882069,1.176250154,0.653968875,0.56391502,-0.388422925,0.151173663,-0.425353208,0.473851506,0.85784908,0.264503316,0.642023175,-0.332084625,0.052143075,0.718013956,0.718013956,1.317680438,-0.330098072],\n",
    " ['Cu60Zr33Ti7','Cu',0.621,0.609093149,-0.585599963,1.029882069,1.029882069,1.176250154,0.653968875,0.56391502,-0.388422925,0.151173663,-0.425353208,0.473851506,0.85784908,0.264503316,0.642023175,-0.332084625,0.052143075,0.718013956,0.718013956,1.317680438,-0.330098072],\n",
    " ['Cu60Zr40','Cu',0.618,0.674829723,-0.585599963,1.029882069,1.029882069,1.176250154,0.653968875,0.56391502,-0.388422925,0.151173663,-0.425353208,0.473851506,0.85784908,0.264503316,0.642023175,-0.332084625,0.052143075,0.718013956,0.718013956,1.317680438,-0.330098072],\n",
    " ['Cu62Zr38','Cu',0.629,0.697407341,-0.585599963,1.029882069,1.029882069,1.254478727,0.712155258,0.56391502,-0.388422925,0.151173663,-0.425353208,0.473851506,0.85784908,0.264503316,0.642023175,-0.332084625,0.052143075,0.718013956,0.718013956,1.317680438,-0.330098072],\n",
    " ['Cu64Zr36','Cu',0.64,0.719984958,-0.585599963,1.029882069,1.029882069,1.3327073,0.770341642,0.56391502,-0.388422925,0.151173663,-0.425353208,0.473851506,0.85784908,0.264503316,0.642023175,-0.332084625,0.052143075,0.718013956,0.718013956,1.317680438,-0.330098072],\n",
    " ['Cu65Hf35','Cu',0.62,1.84640094,-0.585599963,1.029882069,1.029882069,1.371821586,2.835958259,1.030744892,-0.151833144,0.652924118,0.158550562,0.473851506,0.85784908,0.264503316,0.642023175,-0.332084625,0.052143075,0.718013956,0.718013956,1.317680438,-0.330098072],\n",
    " ['Cu65Zr35','Cu',0.626,0.731273767,-0.585599963,1.029882069,1.029882069,1.371821586,0.799434834,0.56391502,-0.388422925,0.151173663,-0.425353208,0.473851506,0.85784908,0.264503316,0.642023175,-0.332084625,0.052143075,0.718013956,0.718013956,1.317680438,-0.330098072],\n",
    " ['Cu66Zr34','Cu',0.603,0.742562576,-0.585599963,1.029882069,1.029882069,1.410935873,0.828528026,0.56391502,-0.388422925,0.151173663,-0.425353208,0.473851506,0.85784908,0.264503316,0.642023175,-0.332084625,0.052143075,0.718013956,0.718013956,1.317680438,-0.330098072],\n",
    " ['Cu72Zr28','Cu',0.574,0.810295428,-0.585599963,1.029882069,1.029882069,1.645621592,1.003087176,0.56391502,-0.388422925,0.151173663,-0.425353208,0.473851506,0.85784908,0.264503316,0.642023175,-0.332084625,0.052143075,0.718013956,0.718013956,1.317680438,-0.330098072],\n",
    " ['Dy46Al24Co18Fe2Y10','Dy',0.613,0.127371706,1.308829009,-1.155026066,-1.155026066,-1.424849901,0.703842918,-0.740589028,-1.188437854,-0.749659306,-0.259604862,-0.058208246,-1.16570621,1.269272405,0.536346241,-1.116473745,-0.443458057,-1.392730589,-1.392730589,-1.10635433,-1.114350535],\n",
    " ['Er50Al24Co20Y6','Er',0.603,0.334112952,1.308829009,-1.27987796,-1.27987796,-1.434628473,1.277394413,-0.740589028,-1.188437854,-1.181945372,-0.27814149,-0.058208246,-1.16570621,-1.745034863,0.683835729,-1.134973488,1.439826247,-1.392730589,-1.392730589,-1.10635433,-1.132847056],\n",
    " ['Fe27Co40Zr3Ti3Mo1.5Si1.5B24','Co',0.588,0.131087781,1.308829009,0.233951248,0.233951248,0.107941203,0.101198231,0.56391502,-0.027440579,-0.197214778,0.252423134,0.20782163,0.85784908,1.269272405,0.342462001,-0.095287909,0.098399181,0.718013956,0.718013956,0.348066531,-0.093342611],\n",
    " ['Fe36Co36B19.2Si4.8Nb4','Fe',0.587,0.210531191,0.929943215,0.280770708,0.280770708,0.217950133,0.191802743,1.222782177,0.100610591,0.510938053,0.026894165,-0.856297875,-1.16570621,1.269272405,0.342462001,-0.095287909,0.098399181,0.718013956,0.718013956,0.348066531,-0.093342611],\n",
    " ['Fe39Co9Cr15Mo14C15B6Y2','Fe',0.572,0.207016618,-0.11199272,0.374409628,0.374409628,0.022378701,-0.048423898,1.387498966,0.204271062,0.759075943,1.559255381,-0.058208246,0.85784908,1.269272405,0.342462001,-0.095287909,0.098399181,0.718013956,0.718013956,0.348066531,-0.093342611],\n",
    " ['Fe41.9Co27.9B18.6Si4.7Nb3.9Cr3','Fe',0.564,0.178762262,0.882582491,0.302619789,0.302619789,0.185191918,0.148578572,1.222782177,0.332322232,0.582037735,0.026894165,-0.856297875,-1.16570621,1.269272405,0.342462001,-0.095287909,0.098399181,0.718013956,0.718013956,0.348066531,-0.093342611],\n",
    " ['Fe41Co7Cr15Mo14C15B6Y2','Fe',0.584,0.197400746,-0.11199272,0.374409628,0.374409628,0.012600129,-0.056736239,1.387498966,0.204271062,0.759075943,1.559255381,-0.058208246,0.85784908,1.269272405,0.342462001,-0.095287909,0.098399181,0.718013956,0.718013956,0.348066531,-0.093342611],\n",
    " ['Fe43.2Co28.8B19.2Si4.8Nb4','Fe',0.586,0.175914052,0.929943215,0.280770708,0.280770708,0.182747276,0.161878317,1.222782177,0.100610591,0.510938053,0.026894165,-0.856297875,-1.16570621,1.269272405,0.342462001,-0.095287909,0.098399181,0.718013956,0.718013956,0.348066531,-0.093342611],\n",
    " ['Fe43Co5Cr15Mo14C15B6Y2','Fe',0.579,0.187784874,-0.11199272,0.374409628,0.374409628,0.002821557,-0.065048579,1.387498966,0.204271062,0.759075943,1.559255381,-0.058208246,0.85784908,1.269272405,0.342462001,-0.095287909,0.098399181,0.718013956,0.718013956,0.348066531,-0.093342611],\n",
    " ['Fe45Co3Cr15Mo14C15B6Y2','Fe',0.577,0.178169002,-0.11199272,0.374409628,0.374409628,-0.006957014,-0.07336092,1.387498966,0.204271062,0.759075943,1.559255381,-0.058208246,0.85784908,1.269272405,0.342462001,-0.095287909,0.098399181,0.718013956,0.718013956,0.348066531,-0.093342611],\n",
    " ['Fe48Cr15Mo14C15B6Y2','Fe',0.573,0.163745194,-0.11199272,0.374409628,0.374409628,-0.021624872,-0.085829431,1.387498966,0.204271062,0.759075943,1.511369093,-0.324238123,0.85784908,1.269272405,0.342462001,-0.095287909,0.098399181,0.718013956,0.718013956,0.348066531,-0.093342611],\n",
    " ['Fe48Cr15Mo14Er2C15B6','Fe',0.584,0.206801057,-0.11199272,0.311983681,0.311983681,-0.031403443,0.005606315,1.387498966,0.204271062,1.09054266,1.556165943,-0.058208246,0.85784908,1.269272405,0.342462001,-0.095287909,0.098399181,0.718013956,0.718013956,0.348066531,-0.093342611],\n",
    " ['Fe50.4Co21.6B19.2Si4.8Nb4','Fe',0.586,0.141296913,0.929943215,0.280770708,0.280770708,0.147544418,0.131953891,1.222782177,0.100610591,0.510938053,0.026894165,-0.856297875,-1.16570621,1.269272405,0.342462001,-0.095287909,0.098399181,0.718013956,0.718013956,0.348066531,-0.093342611],\n",
    " ['Fe56Co16Y6B22','Fe',0.59,0.059338943,1.150959928,0.343196655,0.343196655,0.071271559,0.055480358,0.016843596,-0.806723414,-0.785209147,-0.719205097,0.20782163,-1.16570621,1.269272405,0.342462001,-0.095287909,0.098399181,0.718013956,0.718013956,0.348066531,-0.093342611],\n",
    " ['Fe56Co20Mo4P9C4B4Si3','Fe',0.603,0.23762152,-0.269861801,0.405622601,0.405622601,0.276621563,0.309006744,1.387498966,3.119569368,3.084746536,3.800179188,0.20782163,0.85784908,1.269272405,0.342462001,-0.095287909,0.098399181,0.718013956,0.718013956,0.348066531,-0.093342611],\n",
    " ['Fe56Mn5Cr7Mo12Er2C12B6','Fe',0.566,0.281225656,-0.11199272,0.405622601,0.405622601,0.081050131,0.117822912,1.387498966,0.948187384,1.610565733,1.943890404,-0.058208246,0.85784908,2.274041495,0.342462001,-0.095287909,0.098399181,0.718013956,0.718013956,0.348066531,-0.093342611],\n",
    " ['Fe57.6Co14.4B19.2Si4.8Nb4','Fe',0.58,0.106679774,0.929943215,0.280770708,0.280770708,0.11234156,0.102029465,1.222782177,0.100610591,0.510938053,0.026894165,-0.856297875,-1.16570621,1.269272405,0.342462001,-0.095287909,0.098399181,0.718013956,0.718013956,0.348066531,-0.093342611],\n",
    " ['Fe58Co14Y6B22','Fe',0.593,0.049723071,1.150959928,0.343196655,0.343196655,0.061492987,0.047168018,0.016843596,-0.806723414,-0.785209147,-0.719205097,0.20782163,-1.16570621,1.269272405,0.342462001,-0.095287909,0.098399181,0.718013956,0.718013956,0.348066531,-0.093342611],\n",
    " ['Fe58Cr5Mo14Er2C15B6','Fe',0.56,0.241197012,-0.11199272,0.311983681,0.311983681,0.017489415,0.08872972,1.387498966,0.204271062,1.09054266,1.556165943,-0.058208246,0.85784908,1.269272405,0.342462001,-0.095287909,0.098399181,0.718013956,0.718013956,0.348066531,-0.093342611],\n",
    " ['Fe60Co12Y6B22','Fe',0.588,0.0401072,1.150959928,0.343196655,0.343196655,0.051714416,0.038855677,0.016843596,-0.806723414,-0.785209147,-0.719205097,0.20782163,-1.16570621,1.269272405,0.342462001,-0.095287909,0.098399181,0.718013956,0.718013956,0.348066531,-0.093342611],\n",
    " ['Fe61B15Mo7Zr8Co5Y2Cr2','Fe',0.605,0.268760637,0.598418145,0.561687468,0.561687468,0.120164417,0.030543337,0.56391502,0.204271062,-0.126115096,0.127300897,-0.058208246,-1.16570621,1.269272405,0.342462001,-0.095287909,0.098399181,0.718013956,0.718013956,0.348066531,-0.093342611],\n",
    " ['Fe61B15Mo7Zr8Co6Y2Al','Fe',0.602,0.256201896,0.677352685,0.530474495,0.530474495,0.10549656,0.030543337,0.56391502,0.389640375,0.220140354,1.416415218,0.20782163,0.85784908,1.269272405,0.342462001,-0.095287909,0.098399181,0.718013956,0.718013956,0.348066531,-0.093342611],\n",
    " ['Fe61B15Mo7Zr8Co7Y2','Fe',0.607,0.2852557,0.598418145,0.561687468,0.561687468,0.13972156,0.055480358,0.56391502,-0.027440579,-0.197214778,0.127300897,-0.058208246,0.85784908,1.269272405,0.342462001,-0.095287909,0.098399181,0.718013956,0.718013956,0.348066531,-0.093342611],\n",
    " ['Fe62Co10Y6B22','Fe',0.589,0.030491328,1.150959928,0.343196655,0.343196655,0.041935844,0.030543337,0.016843596,-0.806723414,-0.785209147,-0.719205097,0.20782163,-1.16570621,1.269272405,0.342462001,-0.095287909,0.098399181,0.718013956,0.718013956,0.348066531,-0.093342611],\n",
    " ['Fe63C15Mo14Er2B6','Fe',0.555,0.25839499,-0.11199272,0.311983681,0.311983681,0.041935844,0.130291423,1.387498966,-0.027440579,1.09054266,1.556165943,-0.058208246,0.85784908,1.269272405,0.342462001,-0.095287909,0.098399181,0.718013956,0.718013956,0.348066531,-0.093342611],\n",
    " ['Fe64.8Co7.2B19.2Si4.8Nb4','Fe',0.57,0.072062635,0.929943215,0.280770708,0.280770708,0.077138702,0.072105039,1.222782177,0.100610591,0.510938053,0.026894165,-0.856297875,-1.16570621,1.269272405,0.342462001,-0.095287909,0.098399181,0.718013956,0.718013956,0.348066531,-0.093342611],\n",
    " ['Fe64Co8Y6B22','Fe',0.587,0.020875456,1.150959928,0.343196655,0.343196655,0.032157272,0.022230996,0.016843596,-0.806723414,-0.785209147,-0.719205097,0.20782163,-1.16570621,1.269272405,0.342462001,-0.095287909,0.098399181,0.718013956,0.718013956,0.348066531,-0.093342611],\n",
    " ['Fe65.5Cr4Mo4Ga4P12C5B5.5','Fe',0.564,0.019286869,0.164278172,0.202738275,0.202738275,0.164167989,0.240429935,1.387498966,3.119569368,3.084746536,3.822407694,1.005911258,0.85784908,1.269272405,0.342462001,-0.095287909,0.098399181,0.718013956,0.718013956,0.348066531,-0.093342611],\n",
    " ['Fe66Co6Y6B22','Fe',0.588,0.011259584,1.150959928,0.343196655,0.343196655,0.022378701,0.013918656,0.016843596,-0.806723414,-0.785209147,-0.719205097,0.20782163,-1.16570621,1.269272405,0.342462001,-0.095287909,0.098399181,0.718013956,0.718013956,0.348066531,-0.093342611],\n",
    " ['Fe67Mo5Y6B22','Fe',0.62,0.03878572,1.150959928,0.343196655,0.343196655,-0.031403443,-0.052580068,0.563253507,-0.027440579,-0.197925775,0.079414609,-0.058208246,0.85784908,1.269272405,0.342462001,-0.095287909,0.098399181,0.718013956,0.718013956,0.348066531,-0.093342611],\n",
    " ['Fe67Ni5Y6B22','Fe',0.59,0.006639092,1.150959928,0.343196655,0.343196655,0.041935844,0.030543337,0.016843596,-0.806723414,-0.785209147,-0.657416338,0.473851506,-1.16570621,1.269272405,0.342462001,-0.095287909,0.098399181,0.718013956,0.718013956,0.348066531,-0.093342611],\n",
    " ['Fe68.3C6.9Si2.5B6.7P8.8Cr2.2Mo2.5Al2.1','Fe',0.604,-0.060064693,0.109023993,0.187131788,0.187131788,-0.029936657,0.082911082,1.387498966,3.119569368,3.084746536,3.800179188,-0.058208246,0.85784908,1.269272405,0.342462001,-0.095287909,0.098399181,0.718013956,0.718013956,0.348066531,-0.093342611],\n",
    " ['Fe68Co4Y6B22','Fe',0.634,0.001643712,1.150959928,0.343196655,0.343196655,0.012600129,0.005606315,0.016843596,-0.806723414,-0.785209147,-0.719205097,0.20782163,-1.16570621,1.269272405,0.342462001,-0.095287909,0.098399181,0.718013956,0.718013956,0.348066531,-0.093342611],\n",
    " ['Fe68Mo4Y6B22','Fe',0.615,0.02751097,1.150959928,0.343196655,0.343196655,-0.026514157,-0.044267728,0.563253507,-0.027440579,-0.197925775,0.079414609,-0.058208246,0.85784908,1.269272405,0.342462001,-0.095287909,0.098399181,0.718013956,0.718013956,0.348066531,-0.093342611],\n",
    " ['Fe68Mo5Ni5Cr2P12.5C5B2.5','Fe',0.567,0.160528188,-0.388263612,0.405622601,0.405622601,0.213060848,0.263288871,1.387498966,3.119569368,3.084746536,3.800179188,0.473851506,0.85784908,1.269272405,0.342462001,-0.095287909,0.098399181,0.718013956,0.718013956,0.348066531,-0.093342611],\n",
    " ['Fe68Ni4Y6B22','Fe',0.593,0.001793667,1.150959928,0.343196655,0.343196655,0.032157272,0.022230996,0.016843596,-0.806723414,-0.785209147,-0.657416338,0.473851506,-1.16570621,1.269272405,0.342462001,-0.095287909,0.098399181,0.718013956,0.718013956,0.348066531,-0.093342611],\n",
    " ['Fe69.12Nb3.84B19.2Si3.84Y4','Fe',0.636,-0.001904226,0.929943215,0.310735162,0.310735162,-0.026123015,-0.022988136,1.222782177,0.100610591,0.510938053,0.026894165,-0.324238123,0.85784908,1.269272405,0.342462001,-0.095287909,0.098399181,0.718013956,0.718013956,0.348066531,-0.093342611],\n",
    " ['Fe69.84Nb3.88B19.4Si3.88Y3','Fe',0.607,0.008055043,0.945730123,0.303244049,0.303244049,-0.0091083,-0.007527183,1.222782177,0.100610591,0.510938053,0.026894165,-0.324238123,0.85784908,1.269272405,0.342462001,-0.095287909,0.098399181,0.718013956,0.718013956,0.348066531,-0.093342611],\n",
    " ['Fe69Mo3Y6B22','Fe',0.61,0.016236219,1.150959928,0.343196655,0.343196655,-0.021624872,-0.035955387,0.563253507,-0.027440579,-0.197925775,0.079414609,-0.058208246,0.85784908,1.269272405,0.342462001,-0.095287909,0.098399181,0.718013956,0.718013956,0.348066531,-0.093342611],\n",
    " ['Fe69Ni3Y6B22','Fe',0.582,-0.003051758,1.150959928,0.343196655,0.343196655,0.022378701,0.013918656,0.016843596,-0.806723414,-0.785209147,-0.657416338,0.473851506,-1.16570621,1.269272405,0.342462001,-0.095287909,0.098399181,0.718013956,0.718013956,0.348066531,-0.093342611],\n",
    " ['Fe70.56Nb3.92B19.6Si3.92Y2','Fe',0.604,0.018014312,0.961517031,0.295752935,0.295752935,0.007906415,0.00793377,1.222782177,0.100610591,0.510938053,0.026894165,-0.324238123,0.85784908,1.269272405,0.342462001,-0.095287909,0.098399181,0.718013956,0.718013956,0.348066531,-0.093342611],\n",
    " ['Fe70Co2Y6B22','Fe',0.632,-0.00797216,1.150959928,0.343196655,0.343196655,0.002821557,-0.002706025,0.016843596,-0.806723414,-0.785209147,-0.719205097,0.20782163,-1.16570621,1.269272405,0.342462001,-0.095287909,0.098399181,0.718013956,0.718013956,0.348066531,-0.093342611],\n",
    " ['Fe70Mo2Y6B22','Fe',0.601,0.004961469,1.150959928,0.343196655,0.343196655,-0.016735586,-0.027643047,0.563253507,-0.027440579,-0.197925775,0.079414609,-0.058208246,0.85784908,1.269272405,0.342462001,-0.095287909,0.098399181,0.718013956,0.718013956,0.348066531,-0.093342611],\n",
    " ['Fe70Ni2Y6B22','Fe',0.583,-0.007897182,1.150959928,0.343196655,0.343196655,0.012600129,0.005606315,0.016843596,-0.806723414,-0.785209147,-0.657416338,0.473851506,-1.16570621,1.269272405,0.342462001,-0.095287909,0.098399181,0.718013956,0.718013956,0.348066531,-0.093342611],\n",
    " ['Fe71.28Nb3.96B19.8Si3.96Y','Fe',0.603,0.027973581,0.977303939,0.288261822,0.288261822,0.024921129,0.023394724,1.222782177,0.100610591,0.510938053,0.026894165,-0.324238123,0.85784908,1.269272405,0.342462001,-0.095287909,0.098399181,0.718013956,0.718013956,0.348066531,-0.093342611],\n",
    " ['Fe71MoY6B22','Fe',0.595,-0.006313282,1.150959928,0.343196655,0.343196655,-0.0118463,-0.019330706,0.563253507,-0.027440579,-0.197925775,0.079414609,-0.058208246,0.85784908,1.269272405,0.342462001,-0.095287909,0.098399181,0.718013956,0.718013956,0.348066531,-0.093342611],\n",
    " ['Fe71NiY6B22','Fe',0.586,-0.012742607,1.150959928,0.343196655,0.343196655,0.002821557,-0.002706025,0.016843596,-0.806723414,-0.785209147,-0.657416338,0.473851506,-1.16570621,1.269272405,0.342462001,-0.095287909,0.098399181,0.718013956,0.718013956,0.348066531,-0.093342611],\n",
    " ['Fe72B14.4Si9.6Nb4','Fe',0.61,0.034521371,0.55105742,0.280770708,0.280770708,0.041935844,0.062130231,1.222782177,0.100610591,0.510938053,0.026894165,-1.122327751,-1.16570621,1.269272405,0.342462001,-0.095287909,0.098399181,0.718013956,0.718013956,0.348066531,-0.093342611],\n",
    " ['Fe72B19.2Si4.8Nb4','Fe',0.566,0.037445496,0.929943215,0.280770708,0.280770708,0.041935844,0.042180613,1.222782177,0.100610591,0.510938053,0.026894165,-1.122327751,-1.16570621,1.269272405,0.342462001,-0.095287909,0.098399181,0.718013956,0.718013956,0.348066531,-0.093342611],\n",
    " ['Fe72Nb4B20Si4','Fe',0.593,0.03793285,0.993090847,0.280770708,0.280770708,0.041935844,0.038855677,1.222782177,0.100610591,0.510938053,0.026894165,-0.058208246,0.85784908,1.269272405,0.342462001,-0.095287909,0.098399181,0.718013956,0.718013956,0.348066531,-0.093342611],\n",
    " ['Fe72Y6B22','Fe',0.633,-0.017588032,1.150959928,0.343196655,0.343196655,-0.006957014,-0.011018366,0.016843596,-0.806723414,-0.785209147,-0.767091385,-0.058208246,-1.16570621,1.269272405,0.342462001,-0.095287909,0.098399181,0.718013956,0.718013956,0.348066531,-0.093342611],\n",
    " ['Fe73.5B14.7Si9.8Nb2','Fe',0.57,0.01519122,0.574737783,0.265164221,0.265164221,0.04682513,0.077508061,1.222782177,0.100610591,0.510938053,0.026894165,-1.122327751,-1.16570621,1.269272405,0.342462001,-0.095287909,0.098399181,0.718013956,0.718013956,0.348066531,-0.093342611],\n",
    " ['Fe73Mo4Ga3P10C4B4Si2','Fe',0.58,0.111392114,-0.033058179,0.311983681,0.311983681,0.237507277,0.292382063,1.387498966,3.119569368,3.084746536,3.822407694,1.005911258,0.85784908,1.269272405,0.342462001,-0.095287909,0.098399181,0.718013956,0.718013956,0.348066531,-0.093342611],\n",
    " ['Fe74.25B14.85Si9.9Nb','Fe',0.56,0.005526144,0.586577964,0.257360978,0.257360978,0.049269773,0.085196975,1.222782177,0.100610591,0.510938053,0.026894165,-1.122327751,-1.16570621,1.269272405,0.342462001,-0.095287909,0.098399181,0.718013956,0.718013956,0.348066531,-0.093342611],\n",
    " ['Fe74.25B14.85Si9.9Zr','Fe',0.59,-0.004122531,0.586577964,0.257360978,0.257360978,0.039491201,0.081040805,0.56391502,-0.307933618,-0.197214778,-0.594082861,-0.590267999,-1.16570621,1.269272405,0.342462001,-0.095287909,0.098399181,0.718013956,0.718013956,0.348066531,-0.093342611],\n",
    " ['Fe74.5Mo5.5P12.5C5B2.5','Fe',0.57,0.148817631,-0.388263612,0.405622601,0.405622601,0.171501918,0.234195679,1.387498966,3.119569368,3.084746536,3.800179188,-0.058208246,0.85784908,1.269272405,0.342462001,-0.095287909,0.098399181,0.718013956,0.718013956,0.348066531,-0.093342611],\n",
    " ['Fe74Mo4Ga2P10C4B4Si2','Fe',0.58,0.120623725,-0.11199272,0.343196655,0.343196655,0.217950133,0.271601211,1.387498966,3.119569368,3.084746536,3.822407694,1.005911258,0.85784908,1.269272405,0.342462001,-0.095287909,0.098399181,0.718013956,0.718013956,0.348066531,-0.093342611],\n",
    " ['Fe74Mo5P10C4B4Si3','Fe',0.6,0.124381976,-0.269861801,0.374409628,0.374409628,0.144610846,0.205102487,1.387498966,3.119569368,3.084746536,3.800179188,-0.058208246,0.85784908,1.269272405,0.342462001,-0.095287909,0.098399181,0.718013956,0.718013956,0.348066531,-0.093342611],\n",
    " ['Fe74Nb6Y3B17','Fe',0.597,0.176660078,0.756287226,0.499261522,0.499261522,0.154389418,0.08041738,1.222782177,0.100610591,0.510938053,-0.14611436,-0.058208246,0.85784908,1.269272405,0.342462001,-0.095287909,0.098399181,0.718013956,0.718013956,0.348066531,-0.093342611],\n",
    " ['Fe74Si3.5C12.7Tm0.6P9.1','Fe',0.544,-0.043468142,-0.585599963,0.220656833,0.220656833,0.024551717,0.205152411,1.387498966,2.373213976,3.084746536,3.800179188,-0.058208246,-1.16570621,1.269272405,0.342462001,-0.095287909,0.098399181,0.718013956,0.718013956,0.348066531,-0.093342611],\n",
    " ['Fe75.3Si3.5C12.9Tm.6P7.6','Fe',0.535,-0.00615902,-0.585599963,0.261274316,0.261274316,0.062726321,0.220545634,1.387498966,2.373213976,3.084746536,3.800179188,-0.058208246,-1.16570621,1.269272405,0.342462001,-0.095287909,0.098399181,0.718013956,0.718013956,0.348066531,-0.093342611],\n",
    " ['Fe75Mo2Ga3P10C4B4Si2','Fe',0.6,0.088842613,-0.033058179,0.311983681,0.311983681,0.247285848,0.309006744,1.387498966,3.119569368,3.084746536,3.822407694,1.005911258,0.85784908,1.269272405,0.342462001,-0.095287909,0.098399181,0.718013956,0.718013956,0.348066531,-0.093342611],\n",
    " ['Fe75Mo4P10C4B4Si3','Fe',0.613,0.113107225,-0.269861801,0.374409628,0.374409628,0.149500132,0.213414828,1.387498966,3.119569368,3.084746536,3.800179188,-0.058208246,0.85784908,1.269272405,0.342462001,-0.095287909,0.098399181,0.718013956,0.718013956,0.348066531,-0.093342611],\n",
    " ['Fe76Mo2Ga2P10C4B4Si2','Fe',0.59,0.098074225,-0.11199272,0.343196655,0.343196655,0.227728705,0.288225892,1.387498966,3.119569368,3.084746536,3.822407694,1.005911258,0.85784908,1.269272405,0.342462001,-0.095287909,0.098399181,0.718013956,0.718013956,0.348066531,-0.093342611],\n",
    " ['Fe76Mo3P10C4B4Si3','Fe',0.6,0.101832475,-0.269861801,0.374409628,0.374409628,0.154389418,0.221727168,1.387498966,3.119569368,3.084746536,3.800179188,-0.058208246,0.85784908,1.269272405,0.342462001,-0.095287909,0.098399181,0.718013956,0.718013956,0.348066531,-0.093342611],\n",
    " ['Fe76Mo4P9C4B4Si3','Fe',0.598,0.141462801,-0.269861801,0.405622601,0.405622601,0.178835847,0.225883339,1.387498966,3.119569368,3.084746536,3.800179188,-0.058208246,0.85784908,1.269272405,0.342462001,-0.095287909,0.098399181,0.718013956,0.718013956,0.348066531,-0.093342611],\n",
    " ['Fe76Si9B10P5','Fe',0.62,0.006915571,0.203745442,0.280770708,0.280770708,0.081050131,0.151072274,0.016843596,2.340286533,1.611561128,1.52171871,-0.058208246,-1.16570621,1.269272405,0.342462001,-0.095287909,0.098399181,0.718013956,0.718013956,0.348066531,-0.093342611],\n",
    " ['Fe77Mo2P10C4B4Si3','Fe',0.587,0.090557724,-0.269861801,0.374409628,0.374409628,0.159278704,0.230039509,1.387498966,3.119569368,3.084746536,3.800179188,-0.058208246,0.85784908,1.269272405,0.342462001,-0.095287909,0.098399181,0.718013956,0.718013956,0.348066531,-0.093342611],\n",
    " ['Fe78MoP10C4B4Si3','Fe',0.585,0.079282974,-0.269861801,0.374409628,0.374409628,0.164167989,0.238351849,1.387498966,3.119569368,3.084746536,3.800179188,-0.058208246,0.85784908,1.269272405,0.342462001,-0.095287909,0.098399181,0.718013956,0.718013956,0.348066531,-0.093342611],\n",
    " ['Fe79P10C4B4Si3','Fe',0.586,0.068008224,-0.269861801,0.374409628,0.374409628,0.169057275,0.24666419,1.387498966,2.373213976,3.084746536,3.800179188,-0.058208246,-1.16570621,1.269272405,0.342462001,-0.095287909,0.098399181,0.718013956,0.718013956,0.348066531,-0.093342611],\n",
    " ['Fe79Si10B11','Fe',0.576,0.097343193,0.282679983,0.374409628,0.374409628,0.169057275,0.176009296,0.016843596,-0.806723414,-0.785209147,-0.594082861,-0.058208246,-1.16570621,1.269272405,0.342462001,-0.095287909,0.098399181,0.718013956,0.718013956,0.348066531,-0.093342611],\n",
    " ['Fe80P13C7','Fe',0.585,0.083439542,-0.585599963,0.405622601,0.405622601,0.19839299,0.292382063,1.387498966,2.373213976,3.084746536,3.800179188,-0.058208246,-1.16570621,0.264503316,0.342462001,-0.095287909,0.098399181,0.718013956,0.718013956,0.348066531,-0.093342611],\n",
    " ['Fe91B9','Fe',0.369,0.407881498,0.124810902,0.748965308,0.748965308,0.521085854,0.383817808,0.016843596,-0.806723414,-0.785209147,-0.785628013,-0.058208246,-1.16570621,1.269272405,0.342462001,-0.095287909,0.098399181,0.718013956,0.718013956,0.348066531,-0.093342611],\n",
    " ['Ga18Sr82','Sr',0.561,-1.545012115,0.835221766,-2.091415267,-2.091415267,-1.268392755,-1.099934973,-1.648449757,-1.193315994,-1.063493302,-0.461098005,1.005911258,-1.16570621,-0.740265774,-0.221721091,-0.376484009,-1.713298293,-1.392730589,-1.392730589,1.317680438,-0.381888329],\n",
    " ['Gd36Al24Co20Y20','Gd',0.575,-0.163813016,1.308829009,-0.842896333,-0.842896333,-1.190164182,0.038855677,-0.740589028,-1.188437854,-1.181945372,-0.27814149,-0.058208246,-1.16570621,-1.745034863,0.350194459,-0.887076926,-0.813506903,-1.392730589,-1.392730589,-0.863950853,-0.881294379],\n",
    " ['Gd60Co25Al15','Gd',0.601,0.400318136,0.598418145,-1.311090933,-1.311090933,-0.999482035,0.861777388,-0.87289167,-1.304293675,-1.324144736,-0.326027778,0.20782163,-1.16570621,-1.745034863,0.350194459,-0.887076926,-0.813506903,-1.392730589,-1.392730589,-0.863950853,-0.881294379],\n",
    " ['Gd60Ni15Al25','Gd',0.599,0.110342428,1.38776355,-1.623220667,-1.623220667,-1.268392755,0.674749726,-0.845108115,-1.304293675,-1.294282869,-0.387816537,0.473851506,-1.16570621,-1.745034863,0.350194459,-0.887076926,-0.813506903,-1.392730589,-1.392730589,-0.863950853,-0.881294379],\n",
    " ['Hf47Cu29.25Ni9.75Al14','Hf',0.618,1.684650915,0.519483604,0.592900442,0.592900442,0.12260906,2.679062832,1.030744892,0.345737117,0.721890809,0.81397482,1.005911258,0.85784908,0.264503316,1.89926367,-1.223772256,3.047776589,0.718013956,0.718013956,-0.621547376,-1.23642757],\n",
    " ['Hf48Cu29.25Ni9.75Al13','Hf',0.613,1.734370409,0.440549064,0.624113415,0.624113415,0.132387632,2.741405386,1.030744892,0.345737117,0.721890809,0.81397482,1.005911258,0.85784908,0.264503316,1.89926367,-1.223772256,3.047776589,0.718013956,0.718013956,-0.621547376,-1.23642757],\n",
    " ['Hf51Cu27.75Ni9.25Al12','Hf',0.578,1.825261955,0.361614523,0.655326388,0.655326388,0.068826916,2.864012408,1.030744892,0.345737117,0.721890809,0.81397482,1.005911258,0.85784908,0.264503316,1.89926367,-1.223772256,3.047776589,0.718013956,0.718013956,-0.621547376,-1.23642757],\n",
    " ['Ho35Al24Co20Y21','Ho',0.6,-0.033253656,1.308829009,-0.811683359,-0.811683359,-1.361289186,0.446160362,-0.740589028,-1.188437854,-0.899253037,-0.27814149,-0.058208246,-1.16570621,-1.745034863,0.606224756,-1.146073334,-0.353148518,-1.392730589,-1.392730589,-1.10635433,-1.143944968],\n",
    " ['La32Ce32Al16Ni5Cu10Co5','La',0.575,-0.091253483,0.677352685,-1.4671558,-1.4671558,-0.979924892,-0.771597523,-0.69911215,-1.043313195,-1.137365872,-0.326027778,-0.856297875,0.85784908,0.264503316,-0.152415351,-1.035074874,-1.577833983,-1.392730589,-1.392730589,-0.863950853,-1.051462366],\n",
    " ['La32Ce32Al16Ni5Cu12Co3','La',0.573,-0.09106604,0.677352685,-1.4671558,-1.4671558,-0.950589177,-0.754972842,-0.69911215,-1.043313195,-1.137365872,-0.326027778,-0.856297875,0.85784908,0.264503316,-0.152415351,-1.035074874,-1.577833983,-1.392730589,-1.392730589,-0.863950853,-1.051462366],\n",
    " ['La32Ce32Al16Ni5Cu15','La',0.566,-0.090784874,0.677352685,-1.4671558,-1.4671558,-0.906585605,-0.73003582,-0.69911215,-1.043313195,-1.137365872,-0.387816537,-1.122327751,-1.16570621,0.264503316,-0.152415351,-1.035074874,-1.577833983,-1.392730589,-1.392730589,-0.863950853,-1.051462366],\n",
    " ['La32Ce32Al16Ni5Cu5Co10','La',0.553,-0.091722093,0.677352685,-1.4671558,-1.4671558,-1.053264179,-0.813159225,-0.69911215,-1.043313195,-1.137365872,-0.326027778,-0.856297875,0.85784908,0.264503316,-0.152415351,-1.035074874,-1.577833983,-1.392730589,-1.392730589,-0.863950853,-1.051462366],\n",
    " ['La32Ce32Al16Ni5Cu7Co8','La',0.563,-0.091534649,0.677352685,-1.4671558,-1.4671558,-1.023928464,-0.796534544,-0.69911215,-1.043313195,-1.137365872,-0.326027778,-0.856297875,0.85784908,0.264503316,-0.152415351,-1.035074874,-1.577833983,-1.392730589,-1.392730589,-0.863950853,-1.051462366],\n",
    " ['La55Al15Ag10Cu20','La',0.529,0.047783027,0.598418145,-1.155026066,-1.155026066,-0.412767737,-0.509758797,-0.69911215,-0.607939216,-0.85175845,-0.95971784,-1.654387503,-1.16570621,-0.740265774,-0.152415351,-1.035074874,-1.577833983,-1.392730589,-1.392730589,-0.863950853,-1.051462366],\n",
    " ['La55Al17.5Ag7.5Cu20','La',0.499,-0.04347872,0.795754496,-1.2330585,-1.2330585,-0.534999882,-0.592882202,-0.69911215,-0.607939216,-0.85175845,-0.95971784,-1.654387503,-1.16570621,-0.740265774,-0.152415351,-1.035074874,-1.577833983,-1.392730589,-1.392730589,-0.863950853,-1.051462366],\n",
    " ['La55Al20Ag5Cu20','La',0.521,-0.134740468,0.993090847,-1.311090933,-1.311090933,-0.657232028,-0.676005607,-0.69911215,-0.607939216,-0.85175845,-0.95971784,-1.654387503,-1.16570621,-0.740265774,-0.152415351,-1.035074874,-1.577833983,-1.392730589,-1.392730589,-0.863950853,-1.051462366],\n",
    " ['La55Al25Ag5Cu15','La',0.526,-0.280478097,1.38776355,-1.4671558,-1.4671558,-0.901696319,-0.842252417,-0.69911215,-0.607939216,-0.85175845,-0.95971784,-1.654387503,-1.16570621,-0.740265774,-0.152415351,-1.035074874,-1.577833983,-1.392730589,-1.392730589,-0.863950853,-1.051462366],\n",
    " ['La55Al25Cu20','La',0.509,-0.317263962,1.38776355,-1.4671558,-1.4671558,-0.901696319,-0.842252417,-0.69911215,-1.043313195,-1.137365872,-0.95971784,-1.654387503,-1.16570621,-0.740265774,-0.152415351,-1.035074874,-1.577833983,-1.392730589,-1.392730589,-0.863950853,-1.051462366],\n",
    " ['La55Al25Ni10Cu10','La',0.56,-0.317826294,1.38776355,-1.4671558,-1.4671558,-0.999482035,-0.883814119,-0.69911215,-1.043313195,-1.137365872,-0.387816537,-1.122327751,-1.16570621,-0.740265774,-0.152415351,-1.035074874,-1.577833983,-1.392730589,-1.392730589,-0.863950853,-1.051462366],\n",
    " ['La55Al25Ni15Cu5','La',0.526,-0.31810746,1.38776355,-1.4671558,-1.4671558,-1.048374893,-0.904594971,-0.69911215,-1.043313195,-1.137365872,-0.387816537,-1.122327751,-1.16570621,-0.740265774,-0.152415351,-1.035074874,-1.577833983,-1.392730589,-1.392730589,-0.863950853,-1.051462366],\n",
    " ['La55Al25Ni20','La',0.522,-0.318388626,1.38776355,-1.4671558,-1.4671558,-1.097267751,-0.925375822,-0.69911215,-1.043313195,-1.137365872,-0.387816537,-1.654387503,-1.16570621,-1.745034863,-0.152415351,-1.035074874,-1.577833983,-1.392730589,-1.392730589,-0.863950853,-1.051462366],\n",
    " ['La55Al25Ni5Cu10Co5','La',0.566,-0.318013738,1.38776355,-1.4671558,-1.4671558,-1.023928464,-0.904594971,-0.69911215,-1.043313195,-1.137365872,-0.326027778,-0.856297875,0.85784908,-0.740265774,-0.152415351,-1.035074874,-1.577833983,-1.392730589,-1.392730589,-0.863950853,-1.051462366],\n",
    " ['La55Al25Ni5Cu15','La',0.523,-0.317545128,1.38776355,-1.4671558,-1.4671558,-0.950589177,-0.863033268,-0.69911215,-1.043313195,-1.137365872,-0.387816537,-1.122327751,-1.16570621,-0.740265774,-0.152415351,-1.035074874,-1.577833983,-1.392730589,-1.392730589,-0.863950853,-1.051462366],\n",
    " ['La60Al15Ag5Cu20','La',0.528,-0.053999009,0.598418145,-1.311090933,-1.311090933,-0.632785599,-0.676005607,-0.69911215,-0.607939216,-0.85175845,-0.95971784,-1.654387503,-1.16570621,-0.740265774,-0.152415351,-1.035074874,-1.577833983,-1.392730589,-1.392730589,-0.863950853,-1.051462366],\n",
    " ['La62.5Al12.5Ag5Cu15Co5','La',0.567,-0.014096889,0.401081793,-1.311090933,-1.311090933,-0.693901671,-0.717567309,-0.69911215,-0.607939216,-0.85175845,-0.326027778,-0.856297875,0.85784908,-0.740265774,-0.152415351,-1.035074874,-1.577833983,-1.392730589,-1.392730589,-0.863950853,-1.051462366],\n",
    " ['La62.5Al12.5Ag5Cu15Fe5','La',0.547,-0.038136569,0.401081793,-1.311090933,-1.311090933,-0.718348101,-0.738348161,-0.69911215,-0.607939216,-0.85175845,-0.259604862,-0.590267999,0.85784908,2.274041495,-0.152415351,-1.035074874,-1.577833983,-1.392730589,-1.392730589,-0.863950853,-1.051462366],\n",
    " ['La62.5Al12.5Ag5Cu17.5Co2.5','La',0.552,-0.013862584,0.401081793,-1.311090933,-1.311090933,-0.657232028,-0.696786458,-0.69911215,-0.607939216,-0.85175845,-0.326027778,-0.856297875,0.85784908,-0.740265774,-0.152415351,-1.035074874,-1.577833983,-1.392730589,-1.392730589,-0.863950853,-1.051462366],\n",
    " ['La62.5Al12.5Ag5Cu17.5Fe2.5','La',0.55,-0.025882424,0.401081793,-1.311090933,-1.311090933,-0.669455242,-0.707176884,-0.69911215,-0.607939216,-0.85175845,-0.259604862,-0.590267999,0.85784908,2.274041495,-0.152415351,-1.035074874,-1.577833983,-1.392730589,-1.392730589,-0.863950853,-1.051462366],\n",
    " ['La62.5Al12.5Ag5Cu20','La',0.54,-0.01362828,0.401081793,-1.311090933,-1.311090933,-0.620562384,-0.676005607,-0.69911215,-0.607939216,-0.85175845,-0.95971784,-1.654387503,-1.16570621,-0.740265774,-0.152415351,-1.035074874,-1.577833983,-1.392730589,-1.392730589,-0.863950853,-1.051462366],\n",
    " ['La62.5Al12.5Cu10Ni5Co5Ag5','La',0.585,-0.014378055,0.401081793,-1.311090933,-1.311090933,-0.74279453,-0.738348161,-0.69911215,-0.607939216,-0.85175845,-0.326027778,-0.856297875,-1.16570621,-0.740265774,-0.152415351,-1.035074874,-1.577833983,-1.392730589,-1.392730589,-0.863950853,-1.051462366],\n",
    " ['La62.5Al12.5Cu15Ni5Ag5','La',0.545,-0.013909445,0.401081793,-1.311090933,-1.311090933,-0.669455242,-0.696786458,-0.69911215,-0.607939216,-0.85175845,-0.387816537,-1.122327751,-1.16570621,-0.740265774,-0.152415351,-1.035074874,-1.577833983,-1.392730589,-1.392730589,-0.863950853,-1.051462366],\n",
    " ['La62Al14Cu16Ag8','La',0.547,-0.028778433,0.519483604,-1.342303906,-1.342303906,-0.671899885,-0.709254969,-0.69911215,-0.607939216,-0.85175845,-0.95971784,-1.654387503,-1.16570621,-0.740265774,-0.152415351,-1.035074874,-1.577833983,-1.392730589,-1.392730589,-0.863950853,-1.051462366],\n",
    " ['La62Al14Cu17Ag7','La',0.549,-0.036135606,0.519483604,-1.342303906,-1.342303906,-0.671899885,-0.709254969,-0.69911215,-0.607939216,-0.85175845,-0.95971784,-1.654387503,-1.16570621,-0.740265774,-0.152415351,-1.035074874,-1.577833983,-1.392730589,-1.392730589,-0.863950853,-1.051462366],\n",
    " ['La62Al14Cu18Ag6','La',0.552,-0.043492779,0.519483604,-1.342303906,-1.342303906,-0.671899885,-0.709254969,-0.69911215,-0.607939216,-0.85175845,-0.95971784,-1.654387503,-1.16570621,-0.740265774,-0.152415351,-1.035074874,-1.577833983,-1.392730589,-1.392730589,-0.863950853,-1.051462366],\n",
    " ['La62Al14Cu19Ag5','La',0.555,-0.050849951,0.519483604,-1.342303906,-1.342303906,-0.671899885,-0.709254969,-0.69911215,-0.607939216,-0.85175845,-0.95971784,-1.654387503,-1.16570621,-0.740265774,-0.152415351,-1.035074874,-1.577833983,-1.392730589,-1.392730589,-0.863950853,-1.051462366],\n",
    " ['La62Al14Cu20Ag4','La',0.554,-0.058207124,0.519483604,-1.342303906,-1.342303906,-0.671899885,-0.709254969,-0.69911215,-0.607939216,-0.85175845,-0.95971784,-1.654387503,-1.16570621,-0.740265774,-0.152415351,-1.035074874,-1.577833983,-1.392730589,-1.392730589,-0.863950853,-1.051462366],\n",
    " ['La62Al14Cu22Ag2','La',0.555,-0.07292147,0.519483604,-1.342303906,-1.342303906,-0.671899885,-0.709254969,-0.69911215,-0.607939216,-0.85175845,-0.95971784,-1.654387503,-1.16570621,-0.740265774,-0.152415351,-1.035074874,-1.577833983,-1.392730589,-1.392730589,-0.863950853,-1.051462366],\n",
    " ['La62Al14Cu24','La',0.546,-0.087635816,0.519483604,-1.342303906,-1.342303906,-0.671899885,-0.709254969,-0.69911215,-1.043313195,-1.137365872,-0.95971784,-1.654387503,-1.16570621,-0.740265774,-0.152415351,-1.035074874,-1.577833983,-1.392730589,-1.392730589,-0.863950853,-1.051462366],\n",
    " ['La62Cu12Ni12Al14','La',0.569,-0.088310614,0.519483604,-1.342303906,-1.342303906,-0.789242745,-0.759129012,-0.69911215,-1.043313195,-1.137365872,-0.387816537,1.005911258,0.85784908,-0.740265774,-0.152415351,-1.035074874,-1.577833983,-1.392730589,-1.392730589,-0.863950853,-1.051462366],\n",
    " ['La65Al10Ag5Cu20','La',0.531,0.02674245,0.203745442,-1.311090933,-1.311090933,-0.60833917,-0.676005607,-0.69911215,-0.607939216,-0.85175845,-0.95971784,-1.654387503,-1.16570621,-0.740265774,-0.152415351,-1.035074874,-1.577833983,-1.392730589,-1.392730589,-0.863950853,-1.051462366],\n",
    " ['La65Al14Cu9.2Ag1.8Ni5Co5','La',0.61,-0.114140383,0.519483604,-1.435942827,-1.435942827,-0.926142748,-0.871345609,-0.69911215,-0.607939216,-0.85175845,-0.326027778,-0.856297875,0.85784908,-0.740265774,-0.152415351,-1.035074874,-1.577833983,-1.392730589,-1.392730589,-0.863950853,-1.051462366],\n",
    " ['La66Al14Cu20','La',0.54,-0.139632753,0.519483604,-1.4671558,-1.4671558,-0.847914175,-0.842252417,-0.69911215,-1.043313195,-1.137365872,-0.95971784,-1.654387503,-1.16570621,-0.740265774,-0.152415351,-1.035074874,-1.577833983,-1.392730589,-1.392730589,-0.863950853,-1.051462366],\n",
    " ['Mg30Sr70','Sr',0.558,-1.946573175,-0.585599963,-2.091415267,-2.091415267,-2.148464202,-1.922856683,-2.436708897,-1.839669519,-1.844594407,-1.41896279,-1.654387503,-1.16570621,-1.745034863,-1.414810818,2.028482633,-1.075624836,-1.392730589,-1.392730589,-1.10635433,2.018960015],\n",
    " ['Mg35Sr65','Sr',0.507,-1.96747317,-0.585599963,-2.091415267,-2.091415267,-2.148464202,-1.922856683,-2.436708897,-1.839669519,-1.844594407,-1.41896279,-1.654387503,-1.16570621,-1.745034863,-1.414810818,2.028482633,-1.075624836,-1.392730589,-1.392730589,-1.10635433,2.018960015],\n",
    " ['Mg57Cu31.5Y8Nd3.5','Mg',0.548,-0.990061028,-0.585599963,-0.858502819,-0.858502819,-0.569224883,-0.65314667,-0.740589028,0.554277594,-0.021598564,-0.261968282,1.005911258,0.85784908,-0.740265774,-1.414810818,2.028482633,-1.075624836,-1.392730589,-1.392730589,-1.10635433,2.018960015],\n",
    " ['Mg57Cu31.5Y9.2Nd2.3','Mg',0.551,-1.004333006,-0.585599963,-0.821047251,-0.821047251,-0.56335774,-0.668108883,-0.740589028,0.554277594,-0.021598564,-0.261968282,1.005911258,0.85784908,-0.740265774,-1.414810818,2.028482633,-1.075624836,-1.392730589,-1.392730589,-1.10635433,2.018960015],\n",
    " ['Mg57Cu31Y6.6Nd5.4','Mg',0.549,-0.977885609,-0.585599963,-0.917807469,-0.917807469,-0.600516312,-0.646081181,-0.740589028,0.554277594,-0.021598564,-0.261968282,1.005911258,0.85784908,-0.740265774,-1.414810818,2.028482633,-1.075624836,-1.392730589,-1.392730589,-1.10635433,2.018960015],\n",
    " ['Mg58.5Cu30.5Gd11','Mg',0.567,-0.894994169,-0.585599963,-1.13941958,-1.13941958,-0.603449884,-0.416244966,-1.280317656,0.438421773,-0.601700868,-0.590993423,0.739881382,0.85784908,-0.740265774,-1.414810818,2.028482633,-1.075624836,-1.392730589,-1.392730589,-1.10635433,2.018960015],\n",
    " ['Mg58.5Cu30.5Y11','Mg',0.554,-1.071749078,-0.585599963,-0.796076873,-0.796076873,-0.603449884,-0.736270075,-0.740589028,0.554277594,-0.021598564,-0.261968282,0.739881382,0.85784908,-0.740265774,-1.414810818,2.028482633,-1.075624836,-1.392730589,-1.392730589,-1.10635433,2.018960015],\n",
    " ['Mg59.4Cu23Ag6.6Gd11','Mg',0.607,-0.876726824,-0.585599963,-1.167511256,-1.167511256,-0.647453456,-0.449909945,-1.280317656,0.438421773,-0.601700868,-0.590993423,0.739881382,0.85784908,-0.740265774,-1.414810818,2.028482633,-1.075624836,-1.392730589,-1.392730589,-1.10635433,2.018960015],\n",
    " ['Mg59Cu31Gd10','Mg',0.551,-0.907046812,-0.585599963,-1.123813093,-1.123813093,-0.583892741,-0.430791562,-1.280317656,0.438421773,-0.601700868,-0.590993423,0.739881382,0.85784908,-0.740265774,-1.414810818,2.028482633,-1.075624836,-1.392730589,-1.392730589,-1.10635433,2.018960015],\n",
    " ['Mg60.5Cu28.5Gd11','Mg',0.563,-0.962305273,-0.585599963,-1.201845526,-1.201845526,-0.7012356,-0.49105603,-1.280317656,0.438421773,-0.601700868,-0.590993423,0.739881382,0.85784908,-0.740265774,-1.414810818,2.028482633,-1.075624836,-1.392730589,-1.392730589,-1.10635433,2.018960015],\n",
    " ['Mg61.5Cu29.5Gd9','Mg',0.552,-0.986410558,-0.585599963,-1.170632553,-1.170632553,-0.662121314,-0.520149222,-1.280317656,0.438421773,-0.601700868,-0.590993423,0.739881382,0.85784908,-0.740265774,-1.414810818,2.028482633,-1.075624836,-1.392730589,-1.392730589,-1.10635433,2.018960015],\n",
    " ['Mg61Cu28Gd11','Mg',0.573,-0.979133048,-0.585599963,-1.217452013,-1.217452013,-0.725682029,-0.509758797,-1.280317656,0.438421773,-0.601700868,-0.590993423,0.739881382,0.85784908,-0.740265774,-1.414810818,2.028482633,-1.075624836,-1.392730589,-1.392730589,-1.10635433,2.018960015],\n",
    " ['Mg61Cu29Gd10','Mg',0.551,-0.974357915,-0.585599963,-1.18623904,-1.18623904,-0.681678457,-0.505602626,-1.280317656,0.438421773,-0.601700868,-0.590993423,0.739881382,0.85784908,-0.740265774,-1.414810818,2.028482633,-1.075624836,-1.392730589,-1.392730589,-1.10635433,2.018960015],\n",
    " ['Mg62.5Cu26.5Gd11','Mg',0.571,-1.029616376,-0.585599963,-1.264271473,-1.264271473,-0.799021317,-0.565867095,-1.280317656,0.438421773,-0.601700868,-0.590993423,0.739881382,0.85784908,-0.740265774,-1.414810818,2.028482633,-1.075624836,-1.392730589,-1.392730589,-1.10635433,2.018960015],\n",
    " ['Mg63.5Cu27.5Gd9','Mg',0.55,-1.053721661,-0.585599963,-1.2330585,-1.2330585,-0.75990703,-0.594960287,-1.280317656,0.438421773,-0.601700868,-0.590993423,0.739881382,0.85784908,-0.740265774,-1.414810818,2.028482633,-1.075624836,-1.392730589,-1.392730589,-1.10635433,2.018960015],\n",
    " ['Mg63Cu27Gd10','Mg',0.554,-1.041669019,-0.585599963,-1.248664986,-1.248664986,-0.779464173,-0.580413691,-1.280317656,0.438421773,-0.601700868,-0.590993423,0.739881382,0.85784908,-0.740265774,-1.414810818,2.028482633,-1.075624836,-1.392730589,-1.392730589,-1.10635433,2.018960015],\n",
    " ['Mg64.5Cu24.5Gd11','Mg',0.559,-1.096927479,-0.585599963,-1.32669742,-1.32669742,-0.896807033,-0.64067816,-1.280317656,0.438421773,-0.601700868,-0.590993423,0.739881382,0.85784908,-0.740265774,-1.414810818,2.028482633,-1.075624836,-1.392730589,-1.392730589,-1.10635433,2.018960015],\n",
    " ['Mg65.5Cu25.4Gd9','Mg',0.555,-1.123282429,-0.585599963,-1.297812141,-1.297812141,-0.861294863,-0.672261309,-1.280317656,0.438421773,-0.601700868,-0.590993423,0.739881382,0.85784908,-0.740265774,-1.414810818,2.028482633,-1.075624836,-1.392730589,-1.392730589,-1.10635433,2.018960015],\n",
    " ['Mg65Cu15Ag10Er10','Mg',0.583,-0.980815357,-0.585599963,-1.311090933,-1.311090933,-0.926142748,-0.488977945,-1.354473287,0.044511983,-0.681403612,-0.306765133,1.005911258,0.85784908,-0.740265774,-1.414810818,2.028482633,-1.075624836,-1.392730589,-1.392730589,-1.10635433,2.018960015],\n",
    " ['Mg65Cu15Ag10Gd10','Mg',0.606,-1.035408392,-0.585599963,-1.311090933,-1.311090933,-0.87724989,-0.655224755,-1.280317656,0.438421773,-0.601700868,-0.590993423,0.739881382,0.85784908,-0.740265774,-1.414810818,2.028482633,-1.075624836,-1.392730589,-1.392730589,-1.10635433,2.018960015],\n",
    " ['Mg65Cu15Ag10Y10','Mg',0.617,-1.196094673,-0.585599963,-0.9989612,-0.9989612,-0.87724989,-0.946156673,-0.740589028,0.554277594,-0.021598564,-0.261968282,0.739881382,0.85784908,-0.740265774,-1.414810818,2.028482633,-1.075624836,-1.392730589,-1.392730589,-1.10635433,2.018960015],\n",
    " ['Mg65Cu15Ag10Y2Gd8','Mg',0.615,-1.067545649,-0.585599963,-1.248664986,-1.248664986,-0.87724989,-0.713411139,-0.740589028,0.554277594,-0.021598564,-0.261968282,0.739881382,0.85784908,-0.740265774,-1.414810818,2.028482633,-1.075624836,-1.392730589,-1.392730589,-1.10635433,2.018960015],\n",
    " ['Mg65Cu15Ag10Y4Gd6','Mg',0.622,-1.099682905,-0.585599963,-1.18623904,-1.18623904,-0.87724989,-0.771597523,-0.740589028,0.554277594,-0.021598564,-0.261968282,0.739881382,0.85784908,-0.740265774,-1.414810818,2.028482633,-1.075624836,-1.392730589,-1.392730589,-1.10635433,2.018960015],\n",
    " ['Mg65Cu15Ag10Y6Gd4','Mg',0.623,-1.131820161,-0.585599963,-1.123813093,-1.123813093,-0.87724989,-0.829783906,-0.740589028,0.554277594,-0.021598564,-0.261968282,0.739881382,0.85784908,-0.740265774,-1.414810818,2.028482633,-1.075624836,-1.392730589,-1.392730589,-1.10635433,2.018960015],\n",
    " ['Mg65Cu15Ag10Y8Gd2','Mg',0.62,-1.163957417,-0.585599963,-1.061387146,-1.061387146,-0.87724989,-0.88797029,-0.740589028,0.554277594,-0.021598564,-0.261968282,0.739881382,0.85784908,-0.740265774,-1.414810818,2.028482633,-1.075624836,-1.392730589,-1.392730589,-1.10635433,2.018960015],\n",
    " ['Mg65Cu15Ag5Pd5Gd10','Mg',0.575,-0.999489456,-0.585599963,-1.311090933,-1.311090933,-0.87724989,-0.676005607,-0.740589028,0.438421773,-0.021598564,-0.217094196,0.739881382,0.85784908,0.264503316,-1.414810818,2.028482633,-1.075624836,-1.392730589,-1.392730589,-1.10635433,2.018960015],\n",
    " ['Mg65Cu20Ni5Gd10','Mg',0.534,-1.109261288,-0.585599963,-1.311090933,-1.311090933,-0.926142748,-0.676005607,-0.845108115,0.438421773,-0.133936061,-0.371643329,0.739881382,0.85784908,-0.740265774,-1.414810818,2.028482633,-1.075624836,-1.392730589,-1.392730589,-1.10635433,2.018960015],\n",
    " ['Mg65Cu25Dy10','Mg',0.563,-1.078520489,-0.585599963,-1.311090933,-1.311090933,-0.926142748,-0.57210135,-1.354473287,0.044511983,-0.681403612,-0.438066245,1.005911258,0.85784908,-0.740265774,-1.414810818,2.028482633,-1.075624836,-1.392730589,-1.392730589,-1.10635433,2.018960015],\n",
    " ['Mg65Cu25Er10','Mg',0.551,-1.054387087,-0.585599963,-1.311090933,-1.311090933,-0.926142748,-0.488977945,-1.354473287,0.044511983,-0.681403612,-0.306765133,1.005911258,0.85784908,-0.740265774,-1.414810818,2.028482633,-1.075624836,-1.392730589,-1.392730589,-1.10635433,2.018960015],\n",
    " ['Mg65Cu25Gd10','Mg',0.572,-1.108980122,-0.585599963,-1.311090933,-1.311090933,-0.87724989,-0.655224755,-1.280317656,0.438421773,-0.601700868,-0.590993423,0.739881382,0.85784908,-0.740265774,-1.414810818,2.028482633,-1.075624836,-1.392730589,-1.392730589,-1.10635433,2.018960015],\n",
    " ['Mg65Cu25Gd5Y5','Mg',0.547,-1.189323262,-0.585599963,-1.155026066,-1.155026066,-0.87724989,-0.800690714,-0.740589028,0.554277594,-0.021598564,-0.261968282,0.739881382,0.85784908,-0.740265774,-1.414810818,2.028482633,-1.075624836,-1.392730589,-1.392730589,-1.10635433,2.018960015],\n",
    " ['Mg65Cu25Ho10','Mg',0.555,-1.067086411,-0.585599963,-1.311090933,-1.311090933,-0.926142748,-0.530539648,-1.354473287,0.044511983,-0.681403612,-0.342293669,1.005911258,0.85784908,-0.740265774,-1.414810818,2.028482633,-1.075624836,-1.392730589,-1.392730589,-1.10635433,2.018960015],\n",
    " ['Mg65Cu25Nd10','Mg',0.569,-1.15073325,-0.585599963,-1.311090933,-1.311090933,-0.926142748,-0.821471566,-1.354473287,0.25549153,-0.681403612,-0.943544633,1.005911258,0.85784908,-0.740265774,-1.414810818,2.028482633,-1.075624836,-1.392730589,-1.392730589,-1.10635433,2.018960015],\n",
    " ['Mg65Cu25Pr10','Mg',0.527,-1.16807181,-0.585599963,-1.311090933,-1.311090933,-0.926142748,-0.863033268,-1.141929092,0.487203171,-0.452960334,-0.943544633,1.005911258,0.85784908,-0.740265774,-1.414810818,2.028482633,-1.075624836,-1.392730589,-1.392730589,-1.10635433,2.018960015],\n",
    " ['Mg65Cu25Tb10','Mg',0.565,-1.094078332,-0.585599963,-1.311090933,-1.311090933,-0.926142748,-0.613663053,-1.354473287,0.414031074,-0.681403612,-0.524570507,1.005911258,0.85784908,0.264503316,-1.414810818,2.028482633,-1.075624836,-1.392730589,-1.392730589,-1.10635433,2.018960015],\n",
    " ['Mg65Cu25Tb7Y3','Mg',0.565,-1.146754753,-0.585599963,-1.217452013,-1.217452013,-0.91147489,-0.713411139,-0.740589028,0.554277594,-0.021598564,-0.261968282,0.739881382,0.85784908,0.264503316,-1.414810818,2.028482633,-1.075624836,-1.392730589,-1.392730589,-1.10635433,2.018960015],\n",
    " ['Mg65Cu25Tb8Y2','Mg',0.568,-1.129195946,-0.585599963,-1.248664986,-1.248664986,-0.916364176,-0.680161777,-0.740589028,0.554277594,-0.021598564,-0.261968282,0.739881382,0.85784908,0.264503316,-1.414810818,2.028482633,-1.075624836,-1.392730589,-1.392730589,-1.10635433,2.018960015],\n",
    " ['Mg65Cu25Tb9Y','Mg',0.568,-1.111637139,-0.585599963,-1.27987796,-1.27987796,-0.921253462,-0.646912415,-0.740589028,0.554277594,-0.021598564,-0.261968282,0.739881382,0.85784908,0.264503316,-1.414810818,2.028482633,-1.075624836,-1.392730589,-1.392730589,-1.10635433,2.018960015],\n",
    " ['Mg65Cu25Y10','Mg',0.543,-1.269666403,-0.585599963,-0.9989612,-0.9989612,-0.87724989,-0.946156673,-0.740589028,0.554277594,-0.021598564,-0.261968282,0.739881382,0.85784908,-0.740265774,-1.414810818,2.028482633,-1.075624836,-1.392730589,-1.392730589,-1.10635433,2.018960015],\n",
    " ['Mg65Cu7.5Ni7.5Ag5Zn5Gd10','Mg',0.606,-1.114322273,-0.585599963,-1.311090933,-1.311090933,-0.950589177,-0.665615181,-0.845108115,0.66159667,-0.046483453,-0.015863656,0.739881382,0.85784908,-0.740265774,-1.414810818,2.028482633,-1.075624836,-1.392730589,-1.392730589,-1.10635433,2.018960015],\n",
    " ['Mg65Cu7.5Ni7.5Ag5Zn5Gd2.5Y7.5','Mg',0.589,-1.234836983,-0.585599963,-1.076993633,-1.076993633,-0.950589177,-0.883814119,-0.740589028,0.77745249,0.065854045,0.09381139,0.739881382,0.85784908,-0.740265774,-1.414810818,2.028482633,-1.075624836,-1.392730589,-1.392730589,-1.10635433,2.018960015],\n",
    " ['Mg65Cu7.5Ni7.5Ag5Zn5Gd5Y5','Mg',0.604,-1.194665413,-0.585599963,-1.155026066,-1.155026066,-0.950589177,-0.81108114,-0.740589028,0.77745249,0.065854045,0.09381139,0.739881382,0.85784908,-0.740265774,-1.414810818,2.028482633,-1.075624836,-1.392730589,-1.392730589,-1.10635433,2.018960015],\n",
    " ['Mg65Cu7.5Ni7.5Ag5Zn5Gd7.5Y2.5','Mg',0.609,-1.154493843,-0.585599963,-1.2330585,-1.2330585,-0.950589177,-0.738348161,-0.740589028,0.77745249,0.065854045,0.09381139,0.739881382,0.85784908,-0.740265774,-1.414810818,2.028482633,-1.075624836,-1.392730589,-1.392730589,-1.10635433,2.018960015],\n",
    " ['Mg65Cu7.5Ni7.5Zn5Ag5Y10','Mg',0.594,-1.275008554,-0.585599963,-0.9989612,-0.9989612,-0.950589177,-0.956547099,-0.740589028,0.77745249,0.065854045,0.09381139,0.739881382,0.85784908,-0.740265774,-1.414810818,2.028482633,-1.075624836,-1.392730589,-1.392730589,-1.10635433,2.018960015],\n",
    " ['Mg65Ni20Nd15','Mg',0.57,-1.196610144,-0.585599963,-1.4671558,-1.4671558,-1.366178471,-1.008499227,-0.845108115,0.25549153,-0.133936061,-0.371643329,0.473851506,-1.16570621,-0.740265774,-1.414810818,2.028482633,-1.075624836,-1.392730589,-1.392730589,-1.10635433,2.018960015],\n",
    " ['Mg65Zr35','Mg',0.583,-1.456337093,-0.585599963,-0.9989612,-0.9989612,-1.806214195,-1.631924765,0.56391502,1.851862784,1.380487162,0.246244258,-1.654387503,-1.16570621,0.264503316,-1.414810818,2.028482633,-1.075624836,-1.392730589,-1.392730589,-1.10635433,2.018960015],\n",
    " ['Mg70Ni15Nd15','Mg',0.553,-1.364606736,-0.585599963,-1.623220667,-1.623220667,-1.561749904,-1.174746037,-0.845108115,0.25549153,-0.133936061,-0.371643329,0.473851506,-1.16570621,-0.740265774,-1.414810818,2.028482633,-1.075624836,-1.392730589,-1.392730589,-1.10635433,2.018960015],\n",
    " ['Mg75Ni15Nd10','Mg',0.57,-1.488132264,-0.585599963,-1.623220667,-1.623220667,-1.561749904,-1.257869442,-0.845108115,0.25549153,-0.133936061,-0.371643329,0.473851506,-1.16570621,-0.740265774,-1.414810818,2.028482633,-1.075624836,-1.392730589,-1.392730589,-1.10635433,2.018960015],\n",
    " ['Mg77Ni18Nd5','Mg',0.484,-1.510859837,-0.585599963,-1.529581747,-1.529581747,-1.444407044,-1.241244761,-0.845108115,0.25549153,-0.133936061,-0.371643329,0.473851506,-1.16570621,-0.740265774,-1.414810818,2.028482633,-1.075624836,-1.392730589,-1.392730589,-1.10635433,2.018960015],\n",
    " ['Mg80Ni10Nd10','Mg',0.517,-1.656128857,-0.585599963,-1.779285533,-1.779285533,-1.757321337,-1.424116253,-0.845108115,0.25549153,-0.133936061,-0.371643329,0.473851506,-1.16570621,-0.740265774,-1.414810818,2.028482633,-1.075624836,-1.392730589,-1.392730589,-1.10635433,2.018960015],\n",
    " ['Mg90Ni5Nd5','Mg',0.464,-1.947650978,-0.585599963,-1.9353504,-1.9353504,-1.952892769,-1.673486468,-0.845108115,0.25549153,-0.133936061,-0.371643329,0.473851506,-1.16570621,-0.740265774,-1.414810818,2.028482633,-1.075624836,-1.392730589,-1.392730589,-1.10635433,2.018960015],\n",
    " ['Nb38Ni62','Ni',0.606,1.060570519,-0.585599963,1.029882069,1.029882069,1.019793007,0.612407172,1.222782177,0.037194774,0.311858944,-0.036439313,-0.590267999,0.85784908,0.264503316,0.541787601,-0.776078466,3.664524665,0.718013956,0.718013956,-0.136740423,-0.774014561],\n",
    " ['Nd60Al15Ni10Cu10Fe5','Nd',0.552,0.127071796,0.598418145,-1.311090933,-1.311090933,-1.12171418,-0.031799217,-0.845108115,-1.487223918,-1.243659896,-0.259604862,-0.590267999,0.85784908,2.274041495,0.095023325,-1.053574617,-1.370782843,-1.392730589,-1.392730589,-1.10635433,-1.051462366],\n",
    " ['Nd60Fe30Al10','Nd',0.617,0.150830309,0.203745442,-1.155026066,-1.155026066,-1.268392755,-0.135703474,-1.030331814,-1.487223918,-1.442739005,-0.259604862,-0.058208246,-1.16570621,1.269272405,0.095023325,-1.053574617,-1.370782843,-1.392730589,-1.392730589,-1.10635433,-1.051462366],\n",
    " ['Nd61Al11Ni8Co5Cu15','Nd',0.598,0.258863599,0.282679983,-1.217452013,-1.217452013,-0.931032034,0.109510571,-0.845108115,-1.487223918,-1.243659896,-0.326027778,-0.856297875,-1.16570621,-0.740265774,0.095023325,-1.053574617,-1.370782843,-1.392730589,-1.392730589,-1.10635433,-1.051462366],\n",
    " ['Ni28Zr72','Zr',0.489,0.312013316,-0.585599963,1.029882069,1.029882069,-0.349207021,-0.393386029,0.56391502,-0.371349436,-0.396293888,-0.997254511,-0.058208246,-1.16570621,-0.740265774,0.638586527,-0.113787652,0.906779695,0.718013956,0.718013956,0.832873484,-0.111839131],\n",
    " ['Ni37Zr63','Zr',0.533,0.413106496,-0.585599963,1.029882069,1.029882069,-0.085185587,-0.168952836,0.56391502,-0.371349436,-0.396293888,-0.997254511,-0.058208246,-1.16570621,-0.740265774,0.638586527,-0.113787652,0.906779695,0.718013956,0.718013956,0.832873484,-0.111839131],\n",
    " ['Ni40Zr60','Zr',0.505,0.446804223,-0.585599963,1.029882069,1.029882069,0.002821557,-0.094141771,0.56391502,-0.371349436,-0.396293888,-0.997254511,-0.058208246,-1.16570621,-0.740265774,0.638586527,-0.113787652,0.906779695,0.718013956,0.718013956,0.832873484,-0.111839131],\n",
    " ['Ni42Ti19Zr22.5Al8Cu5Si3.5','Ni',0.572,0.135841827,0.045876361,0.670932875,0.670932875,0.144610846,0.067948869,0.56391502,0.109147336,0.220140354,0.23007105,1.005911258,0.85784908,0.264503316,0.638586527,-0.113787652,0.906779695,0.718013956,0.718013956,0.832873484,-0.111839131],\n",
    " ['Ni42Ti20Zr20.5Al8Cu5Si4.5','Ni',0.559,0.106858314,0.045876361,0.639719902,0.639719902,0.134832275,0.067948869,0.56391502,0.109147336,0.220140354,0.23007105,1.005911258,0.85784908,0.264503316,0.638586527,-0.113787652,0.906779695,0.718013956,0.718013956,0.832873484,-0.111839131],\n",
    " ['Ni42Ti20Zr21.5Al8Cu5Si3.5','Ni',0.567,0.126450888,0.045876361,0.670932875,0.670932875,0.144610846,0.067948869,0.56391502,0.109147336,0.220140354,0.23007105,1.005911258,0.85784908,0.264503316,0.638586527,-0.113787652,0.906779695,0.718013956,0.718013956,0.832873484,-0.111839131],\n",
    " ['Ni42Ti20Zr22.5Al8Cu5Si2.5','Ni',0.561,0.146043461,0.045876361,0.702145848,0.702145848,0.154389418,0.067948869,0.56391502,0.109147336,0.220140354,0.23007105,1.005911258,0.85784908,0.264503316,0.638586527,-0.113787652,0.906779695,0.718013956,0.718013956,0.832873484,-0.111839131],\n",
    " ['Ni42Ti20Zr25Al8Cu5','Ni',0.548,0.195024894,0.045876361,0.780178282,0.780178282,0.178835847,0.067948869,0.56391502,0.109147336,0.220140354,0.23007105,-1.654387503,-1.16570621,0.264503316,0.638586527,-0.113787652,0.906779695,0.718013956,0.718013956,0.832873484,-0.111839131],\n",
    " ['Ni43.2Fe28.8B19.2Si4.8Nb4','Ni',0.553,0.246767845,0.929943215,0.280770708,0.280770708,0.464370139,0.401273723,1.222782177,0.100610591,0.510938053,0.026894165,-0.590267999,-1.16570621,1.269272405,0.638586527,-0.113787652,0.906779695,0.718013956,0.718013956,0.832873484,-0.111839131],\n",
    " ['Ni50.4Fe21.6B19.2Si4.8Nb4','Ni',0.553,0.281654903,0.929943215,0.280770708,0.280770708,0.534775854,0.461122575,1.222782177,0.100610591,0.510938053,0.026894165,-0.590267999,-1.16570621,1.269272405,0.638586527,-0.113787652,0.906779695,0.718013956,0.718013956,0.832873484,-0.111839131],\n",
    " ['Ni57.6Fe14.4B19.2Si4.8Nb4','Ni',0.547,0.316541961,0.929943215,0.280770708,0.280770708,0.60518157,0.520971427,1.222782177,0.100610591,0.510938053,0.026894165,-0.590267999,-1.16570621,1.269272405,0.638586527,-0.113787652,0.906779695,0.718013956,0.718013956,0.832873484,-0.111839131],\n",
    " ['Ni59Zr16Ti13Si3Sn2Nb7','Ni',0.65,0.554392333,-0.585599963,0.873817202,0.873817202,0.677543,0.491878235,1.222782177,0.416470144,0.931350472,1.852628407,-0.058208246,-1.16570621,0.264503316,0.638586527,-0.113787652,0.906779695,0.718013956,0.718013956,0.832873484,-0.111839131],\n",
    " ['Ni59Zr20Ti16Si2Sn3','Ni',0.645,0.482015559,-0.585599963,0.873817202,0.873817202,0.657985857,0.504346746,0.56391502,0.007925935,0.223197641,0.891813209,-1.654387503,-1.16570621,-0.740265774,0.638586527,-0.113787652,0.906779695,0.718013956,0.718013956,0.832873484,-0.111839131],\n",
    " ['Ni59Zr20Ti16Si5','Ni',0.637,0.412005263,-0.585599963,0.873817202,0.873817202,0.511307282,0.379661638,0.56391502,-0.355495481,-0.264759476,-0.933921034,0.473851506,-1.16570621,-0.740265774,0.638586527,-0.113787652,0.906779695,0.718013956,0.718013956,0.832873484,-0.111839131],\n",
    " ['Ni59Zr20Ti16Sn5','Ni',0.636,0.528689089,-0.585599963,0.873817202,0.873817202,0.755771573,0.587470151,0.56391502,0.007925935,0.223197641,0.891813209,0.473851506,-1.16570621,-0.740265774,0.638586527,-0.113787652,0.906779695,0.718013956,0.718013956,0.832873484,-0.111839131],\n",
    " ['Ni60Nb20Zr20','Ni',0.613,0.864429225,-0.585599963,1.029882069,1.029882069,0.785107288,0.487722065,1.222782177,0.037194774,0.311858944,-0.036439313,-0.058208246,0.85784908,0.264503316,0.638586527,-0.113787652,0.906779695,0.718013956,0.718013956,0.832873484,-0.111839131],\n",
    " ['Ni60Nb25Zr15','Ni',0.619,0.912672598,-0.585599963,1.029882069,1.029882069,0.834000146,0.508502916,1.222782177,0.037194774,0.311858944,-0.036439313,-0.058208246,0.85784908,0.264503316,0.638586527,-0.113787652,0.906779695,0.718013956,0.718013956,0.832873484,-0.111839131],\n",
    " ['Ni60Nb30Ta10','Ni',0.599,1.436039389,-0.585599963,1.029882069,1.029882069,0.931785863,1.152709306,1.533031872,0.90794273,0.645316452,0.79770893,-0.324238123,0.85784908,0.264503316,0.638586527,-0.113787652,0.906779695,0.718013956,0.718013956,0.832873484,-0.111839131],\n",
    " ['Ni60Nb30Zr10','Ni',0.619,0.960915971,-0.585599963,1.029882069,1.029882069,0.882893005,0.529283767,1.222782177,0.037194774,0.311858944,-0.036439313,-0.058208246,0.85784908,0.264503316,0.638586527,-0.113787652,0.906779695,0.718013956,0.718013956,0.832873484,-0.111839131],\n",
    " ['Ni60Nb35Zr5','Ni',0.608,1.009159344,-0.585599963,1.029882069,1.029882069,0.931785863,0.550064619,1.222782177,0.037194774,0.311858944,-0.036439313,-0.058208246,0.85784908,0.264503316,0.638586527,-0.113787652,0.906779695,0.718013956,0.718013956,0.832873484,-0.111839131],\n",
    " ['Ni60Nb40','Ni',0.629,1.057402717,-0.585599963,1.029882069,1.029882069,0.980678721,0.57084547,1.222782177,0.037194774,0.311858944,-0.036439313,-0.590267999,-1.16570621,0.264503316,0.638586527,-0.113787652,0.906779695,0.718013956,0.718013956,0.832873484,-0.111839131],\n",
    " ['Ni60Zr20Ti2.5Nb12.5Al5','Ni',0.607,0.679293231,-0.19092726,0.873817202,0.873817202,0.662875143,0.435769937,1.222782177,0.517691545,0.928293186,1.190886249,0.473851506,0.85784908,0.264503316,0.638586527,-0.113787652,0.906779695,0.718013956,0.718013956,0.832873484,-0.111839131],\n",
    " ['Ni60Zr20Ti5Nb10Al5','Ni',0.599,0.631694197,-0.19092726,0.873817202,0.873817202,0.638428714,0.425379511,1.222782177,0.517691545,0.928293186,1.190886249,0.473851506,0.85784908,0.264503316,0.638586527,-0.113787652,0.906779695,0.718013956,0.718013956,0.832873484,-0.111839131],\n",
    " ['Ni60Zr20Ti7.5Nb7.5Al5','Ni',0.595,0.584095162,-0.19092726,0.873817202,0.873817202,0.613982285,0.414989085,1.222782177,0.517691545,0.928293186,1.190886249,0.473851506,0.85784908,0.264503316,0.638586527,-0.113787652,0.906779695,0.718013956,0.718013956,0.832873484,-0.111839131],\n",
    " ['Ni61Zr22Nb7Al4Ta6','Ni',0.629,0.963868212,-0.269861801,0.905030175,0.905030175,0.677543,0.816059515,1.533031872,1.388439502,1.261750693,2.025034491,-0.324238123,0.85784908,0.264503316,0.638586527,-0.113787652,0.906779695,0.718013956,0.718013956,0.832873484,-0.111839131],\n",
    " ['Ni61Zr28Nb7Al4','Ni',0.629,0.678794162,-0.269861801,0.905030175,0.905030175,0.648207285,0.442004192,1.222782177,0.517691545,0.928293186,1.190886249,0.473851506,0.85784908,0.264503316,0.638586527,-0.113787652,0.906779695,0.718013956,0.718013956,0.832873484,-0.111839131],\n",
    " ['Ni64.8Fe7.2B19.2Si4.8Nb4','Ni',0.541,0.351429019,0.929943215,0.280770708,0.280770708,0.675587286,0.580820278,1.222782177,0.100610591,0.510938053,0.026894165,-0.590267999,-1.16570621,1.269272405,0.638586527,-0.113787652,0.906779695,0.718013956,0.718013956,0.832873484,-0.111839131],\n",
    " ['Ni64Zr36','Ni',0.621,0.716386035,-0.585599963,1.029882069,1.029882069,0.706878715,0.504346746,0.56391502,-0.371349436,-0.396293888,-0.997254511,-0.058208246,-1.16570621,-0.740265774,0.638586527,-0.113787652,0.906779695,0.718013956,0.718013956,0.832873484,-0.111839131],\n",
    " ['Ni65Zr35','Ni',0.611,0.727618611,-0.585599963,1.029882069,1.029882069,0.73621443,0.529283767,0.56391502,-0.371349436,-0.396293888,-0.997254511,-0.058208246,-1.16570621,-0.740265774,0.638586527,-0.113787652,0.906779695,0.718013956,0.718013956,0.832873484,-0.111839131],\n",
    " ['Ni66Zr34','Ni',0.617,0.738851186,-0.585599963,1.029882069,1.029882069,0.765550145,0.554220789,0.56391502,-0.371349436,-0.396293888,-0.997254511,-0.058208246,-1.16570621,-0.740265774,0.638586527,-0.113787652,0.906779695,0.718013956,0.718013956,0.832873484,-0.111839131],\n",
    " ['Ni69Cr8.5Nb3P13.5B6','Ni',0.54,0.416075139,-0.11199272,0.421229088,0.421229088,0.816887646,0.743326535,1.222782177,3.247620538,2.907708329,2.142695735,0.473851506,0.85784908,1.269272405,0.638586527,-0.113787652,0.906779695,0.718013956,0.718013956,0.832873484,-0.111839131],\n",
    " ['Ni69Cr8.5Nb3P14.5B5','Ni',0.55,0.413090095,-0.19092726,0.421229088,0.421229088,0.816887646,0.751638876,1.222782177,3.247620538,2.907708329,2.142695735,0.473851506,0.85784908,1.269272405,0.638586527,-0.113787652,0.906779695,0.718013956,0.718013956,0.832873484,-0.111839131],\n",
    " ['Ni69Cr8.5Nb3P15.5B4','Ni',0.563,0.410105051,-0.269861801,0.421229088,0.421229088,0.816887646,0.759951216,1.222782177,3.247620538,2.907708329,2.142695735,0.473851506,0.85784908,1.269272405,0.638586527,-0.113787652,0.906779695,0.718013956,0.718013956,0.832873484,-0.111839131],\n",
    " ['Ni69Cr8.5Nb3P16.5B3','Ni',0.589,0.407120007,-0.348796342,0.421229088,0.421229088,0.816887646,0.768263557,1.222782177,3.247620538,2.907708329,2.142695735,0.473851506,0.85784908,1.269272405,0.638586527,-0.113787652,0.906779695,0.718013956,0.718013956,0.832873484,-0.111839131],\n",
    " ['Ni69Cr8.5Nb3P18B1.5','Ni',0.586,0.402642441,-0.467198152,0.421229088,0.421229088,0.816887646,0.780732068,1.222782177,3.247620538,2.907708329,2.142695735,0.473851506,0.85784908,1.269272405,0.638586527,-0.113787652,0.906779695,0.718013956,0.718013956,0.832873484,-0.111839131],\n",
    " ['Ni69Cr8.5Nb3P19.5','Ni',0.581,0.398164875,-0.585599963,0.421229088,0.421229088,0.816887646,0.793200578,1.222782177,3.247620538,2.907708329,2.142695735,0.473851506,0.85784908,1.269272405,0.638586527,-0.113787652,0.906779695,0.718013956,0.718013956,0.832873484,-0.111839131],\n",
    " ['Ni72B19.2Si4.8Nb4','Ni',0.533,0.386316077,0.929943215,0.280770708,0.280770708,0.745993002,0.64066913,1.222782177,0.053048728,0.443393355,0.026894165,-0.590267999,-1.16570621,0.264503316,0.638586527,-0.113787652,0.906779695,0.718013956,0.718013956,0.832873484,-0.111839131],\n",
    " ['Ni75Si8B17','Ni',0.576,0.360486308,0.756287226,0.249557735,0.249557735,0.785107288,0.707999088,0.016843596,-0.854285277,-0.852753845,-0.594082861,0.473851506,-1.16570621,-0.740265774,0.638586527,-0.113787652,0.906779695,0.718013956,0.718013956,0.832873484,-0.111839131],\n",
    " ['Pd16Ni64P20','Ni',0.541,0.690293845,-0.585599963,0.405622601,0.405622601,1.137135867,0.986462495,-0.740589028,1.075628786,0.797469771,0.718542083,1.005911258,-1.16570621,0.264503316,1.530683142,-0.853777388,0.743781989,0.718013956,0.718013956,1.317680438,-0.851699946],\n",
    " ['Pd30Zr70','Zr',0.506,0.772394272,-0.585599963,1.029882069,1.029882069,0.002821557,-0.343511986,0.56391502,-0.432326183,-0.508631385,-1.151803644,0.473851506,-1.16570621,-1.745034863,1.530683142,-0.853777388,0.743781989,0.718013956,0.718013956,1.317680438,-0.851699946],\n",
    " ['Pd37.5Cu30Ni12.5P20','Pd',0.616,1.0058205,-0.585599963,0.405622601,0.405622601,1.640732306,1.111147603,-0.740589028,1.075628786,0.797469771,0.718542083,1.005911258,0.85784908,1.269272405,1.530683142,-0.853777388,0.743781989,0.718013956,0.718013956,1.317680438,-0.851699946],\n",
    " ['Pd40Cu20Ni10P20','Pd',0.671,1.032972529,-0.585599963,0.336260438,0.336260438,1.54566286,1.032642165,-0.740589028,1.075628786,0.797469771,0.718542083,1.005911258,0.85784908,1.269272405,1.530683142,-0.853777388,0.743781989,0.718013956,0.718013956,1.317680438,-0.851699946],\n",
    " ['Pd40Cu25Ni15P20','Pd',0.655,1.042032317,-0.585599963,0.405622601,0.405622601,1.616285877,1.090366752,-0.740589028,1.075628786,0.797469771,0.718542083,1.005911258,0.85784908,1.269272405,1.530683142,-0.853777388,0.743781989,0.718013956,0.718013956,1.317680438,-0.851699946],\n",
    " ['Pd40Cu30Ni10P20','Pd',0.685,1.042313483,-0.585599963,0.405622601,0.405622601,1.665178735,1.111147603,-0.740589028,1.075628786,0.797469771,0.718542083,1.005911258,0.85784908,1.269272405,1.530683142,-0.853777388,0.743781989,0.718013956,0.718013956,1.317680438,-0.851699946],\n",
    " ['Pd40Cu32.5Ni7.5P20','Pd',0.609,1.042454066,-0.585599963,0.405622601,0.405622601,1.689625164,1.121538029,-0.740589028,1.075628786,0.797469771,0.718542083,1.005911258,0.85784908,1.269272405,1.530683142,-0.853777388,0.743781989,0.718013956,0.718013956,1.317680438,-0.851699946],\n",
    " ['Pd40Ni40P19S','Pd',0.641,1.041268484,-0.585599963,0.405622601,0.405622601,1.371821586,0.990618666,-0.740589028,1.075628786,0.814533695,0.718542083,1.005911258,-1.16570621,1.269272405,1.530683142,-0.853777388,0.743781989,0.718013956,0.718013956,1.317680438,-0.851699946],\n",
    " ['Pd40Ni40P20','Pd',0.635,1.040626488,-0.585599963,0.405622601,0.405622601,1.371821586,0.986462495,-0.740589028,1.075628786,0.797469771,0.718542083,1.005911258,-1.16570621,0.264503316,1.530683142,-0.853777388,0.743781989,0.718013956,0.718013956,1.317680438,-0.851699946],\n",
    " ['Pd42.5Cu27.5Ni10P20','Pd',0.67,1.078665884,-0.585599963,0.405622601,0.405622601,1.665178735,1.100757177,-0.740589028,1.075628786,0.797469771,0.718542083,1.005911258,0.85784908,1.269272405,1.530683142,-0.853777388,0.743781989,0.718013956,0.718013956,1.317680438,-0.851699946],\n",
    " ['Pd42.5Cu30Ni7.5P20','Pd',0.688,1.078806467,-0.585599963,0.405622601,0.405622601,1.689625164,1.111147603,-0.740589028,1.075628786,0.797469771,0.718542083,1.005911258,0.85784908,1.269272405,1.530683142,-0.853777388,0.743781989,0.718013956,0.718013956,1.317680438,-0.851699946],\n",
    " ['Pd45Cu25Ni10P20','Pd',0.673,1.115018285,-0.585599963,0.405622601,0.405622601,1.665178735,1.090366752,-0.740589028,1.075628786,0.797469771,0.718542083,1.005911258,0.85784908,1.269272405,1.530683142,-0.853777388,0.743781989,0.718013956,0.718013956,1.317680438,-0.851699946],\n",
    " ['Pd45Cu30Ni5P20','Pd',0.67,1.115299451,-0.585599963,0.405622601,0.405622601,1.714071593,1.111147603,-0.740589028,1.075628786,0.797469771,0.718542083,1.005911258,0.85784908,1.269272405,1.530683142,-0.853777388,0.743781989,0.718013956,0.718013956,1.317680438,-0.851699946],\n",
    " ['Pd48Ni32P20','Pd',0.612,1.157404036,-0.585599963,0.405622601,0.405622601,1.450050159,0.986462495,-0.740589028,1.075628786,0.797469771,0.718542083,1.005911258,-1.16570621,0.264503316,1.530683142,-0.853777388,0.743781989,0.718013956,0.718013956,1.317680438,-0.851699946],\n",
    " ['Pd64.5Cu19Si16.5','Pd',0.519,1.554731207,-0.585599963,0.514868008,0.514868008,1.934089455,1.0695859,-0.740589028,-2.118943023,-1.250912064,-0.888691662,1.005911258,0.85784908,0.264503316,1.530683142,-0.853777388,0.743781989,0.718013956,0.718013956,1.317680438,-0.851699946],\n",
    " ['Pd64Ni16P20','Pd',0.592,1.390959132,-0.585599963,0.405622601,0.405622601,1.606507306,0.986462495,-0.740589028,1.075628786,0.797469771,0.718542083,1.005911258,-1.16570621,0.264503316,1.530683142,-0.853777388,0.743781989,0.718013956,0.718013956,1.317680438,-0.851699946],\n",
    " ['Pd71.5Cu12Si16.5','Pd',0.565,1.65651793,-0.585599963,0.514868008,0.514868008,1.934089455,1.040492709,-0.740589028,-2.118943023,-1.250912064,-0.888691662,1.005911258,0.85784908,0.264503316,1.530683142,-0.853777388,0.743781989,0.718013956,0.718013956,1.317680438,-0.851699946],\n",
    " ['Pd73.5Cu10Si16.5','Pd',0.568,1.68559985,-0.585599963,0.514868008,0.514868008,1.934089455,1.032180368,-0.740589028,-2.118943023,-1.250912064,-0.888691662,1.005911258,0.85784908,0.264503316,1.530683142,-0.853777388,0.743781989,0.718013956,0.718013956,1.317680438,-0.851699946],\n",
    " ['Pd75Si25','Pd',0.488,1.444919543,-0.585599963,0.249557735,0.249557735,1.518500161,0.778653983,-0.740589028,-2.118943023,-1.666845202,-1.397259488,1.005911258,-1.16570621,-1.745034863,1.530683142,-0.853777388,0.743781989,0.718013956,0.718013956,1.317680438,-0.851699946],\n",
    " ['Pd77.5Cu6Si16.5','Pd',0.602,1.743763691,-0.585599963,0.514868008,0.514868008,1.934089455,1.015555687,-0.740589028,-2.118943023,-1.250912064,-0.888691662,1.005911258,0.85784908,0.264503316,1.530683142,-0.853777388,0.743781989,0.718013956,0.718013956,1.317680438,-0.851699946],\n",
    " ['Pd77Cu6Si17','Pd',0.569,1.72105252,-0.585599963,0.499261522,0.499261522,1.909643026,1.003087176,-0.740589028,-2.118943023,-1.250912064,-0.888691662,1.005911258,0.85784908,0.264503316,1.530683142,-0.853777388,0.743781989,0.718013956,0.718013956,1.317680438,-0.851699946],\n",
    " ['Pd79.5Au4Si16.5','Pd',0.596,1.967412377,-0.585599963,0.514868008,0.514868008,1.934089455,1.239988881,-0.740589028,-2.065283485,-1.421053602,-0.857117606,1.005911258,0.85784908,-0.740265774,1.530683142,-0.853777388,0.743781989,0.718013956,0.718013956,1.317680438,-0.851699946],\n",
    " ['Pd79.5Cu4Si16.5','Pd',0.585,1.772845612,-0.585599963,0.514868008,0.514868008,1.934089455,1.007243347,-0.740589028,-2.118943023,-1.250912064,-0.888691662,1.005911258,0.85784908,0.264503316,1.530683142,-0.853777388,0.743781989,0.718013956,0.718013956,1.317680438,-0.851699946],\n",
    " ['Pd79Cu2Ag4Si10P5','Pd',0.607,1.82944664,-0.585599963,0.561687468,0.561687468,2.007428743,1.073742071,-0.740589028,1.075628786,0.797469771,0.718542083,1.005911258,0.85784908,1.269272405,1.530683142,-0.853777388,0.743781989,0.718013956,0.718013956,1.317680438,-0.851699946],\n",
    " ['Pd79Cu3Ag3Si10P5','Pd',0.607,1.822089467,-0.585599963,0.561687468,0.561687468,2.007428743,1.073742071,-0.740589028,1.075628786,0.797469771,0.718542083,1.005911258,0.85784908,1.269272405,1.530683142,-0.853777388,0.743781989,0.718013956,0.718013956,1.317680438,-0.851699946],\n",
    " ['Pd79Cu4Ag2Si10P5','Pd',0.61,1.814732294,-0.585599963,0.561687468,0.561687468,2.007428743,1.073742071,-0.740589028,1.075628786,0.797469771,0.718542083,1.005911258,0.85784908,1.269272405,1.530683142,-0.853777388,0.743781989,0.718013956,0.718013956,1.317680438,-0.851699946],\n",
    " ['Pd79Cu5AgSi10P5','Pd',0.613,1.807375121,-0.585599963,0.561687468,0.561687468,2.007428743,1.073742071,-0.740589028,1.075628786,0.797469771,0.718542083,1.005911258,0.85784908,1.269272405,1.530683142,-0.853777388,0.743781989,0.718013956,0.718013956,1.317680438,-0.851699946],\n",
    " ['Pd79Cu6Si10P5','Pd',0.612,1.800017948,-0.585599963,0.561687468,0.561687468,2.007428743,1.073742071,-0.740589028,1.075628786,0.797469771,0.718542083,1.005911258,0.85784908,1.269272405,1.530683142,-0.853777388,0.743781989,0.718013956,0.718013956,1.317680438,-0.851699946],\n",
    " ['Pd80Si20','Pd',0.537,1.672031255,-0.585599963,0.405622601,0.405622601,1.762964452,0.90333909,-0.740589028,-2.118943023,-1.666845202,-1.397259488,1.005911258,-1.16570621,-1.745034863,1.530683142,-0.853777388,0.743781989,0.718013956,0.718013956,1.317680438,-0.851699946],\n",
    " ['Pd81.5Cu2Si16.5','Pd',0.577,1.801927533,-0.585599963,0.514868008,0.514868008,1.934089455,0.998931006,-0.740589028,-2.118943023,-1.250912064,-0.888691662,1.005911258,0.85784908,0.264503316,1.530683142,-0.853777388,0.743781989,0.718013956,0.718013956,1.317680438,-0.851699946],\n",
    " ['Pd81.5Cu2Si6.5','Pd',0.577,2.220114606,-0.585599963,0.804455039,0.804455039,2.387706528,1.231214744,-0.740589028,-2.118943023,-1.250912064,-0.888691662,1.005911258,0.85784908,0.264503316,1.530683142,-0.853777388,0.743781989,0.718013956,0.718013956,1.317680438,-0.851699946],\n",
    " ['Pd81Si19','Pd',0.562,1.717453597,-0.585599963,0.436835575,0.436835575,1.81185731,0.928276112,-0.740589028,-2.118943023,-1.666845202,-1.397259488,1.005911258,-1.16570621,-1.745034863,1.530683142,-0.853777388,0.743781989,0.718013956,0.718013956,1.317680438,-0.851699946],\n",
    " ['Pd82Si18','Pd',0.605,1.76287594,-0.585599963,0.468048548,0.468048548,1.860750168,0.953213133,-0.740589028,-2.118943023,-1.666845202,-1.397259488,1.005911258,-1.16570621,-1.745034863,1.530683142,-0.853777388,0.743781989,0.718013956,0.718013956,1.317680438,-0.851699946],\n",
    " ['Pd83Si17','Pd',0.579,1.808298282,-0.585599963,0.499261522,0.499261522,1.909643026,0.978150155,-0.740589028,-2.118943023,-1.666845202,-1.397259488,1.005911258,-1.16570621,-1.745034863,1.530683142,-0.853777388,0.743781989,0.718013956,0.718013956,1.317680438,-0.851699946],\n",
    " ['Pd84Si16','Pd',0.573,1.853720624,-0.585599963,0.530474495,0.530474495,1.958535884,1.003087176,-0.740589028,-2.118943023,-1.666845202,-1.397259488,1.005911258,-1.16570621,-1.745034863,1.530683142,-0.853777388,0.743781989,0.718013956,0.718013956,1.317680438,-0.851699946],\n",
    " ['Pd95Si5','Pd',0.383,2.35336639,-0.585599963,0.873817202,0.873817202,2.496357324,1.277394413,-0.740589028,-2.118943023,-1.666845202,-1.397259488,1.005911258,-1.16570621,-1.745034863,1.530683142,-0.853777388,0.743781989,0.718013956,0.718013956,1.317680438,-0.851699946],\n",
    " ['Pr60Fe30Al10','Pr',0.605,0.046798947,0.203745442,-1.155026066,-1.155026066,-1.268392755,-0.385073689,-1.030331814,-1.255512277,-1.493361979,-0.259604862,-0.058208246,-1.16570621,1.269272405,-0.010939997,-1.042474771,-1.425849636,-1.392730589,-1.392730589,-1.10635433,-1.040364454],\n",
    " ['Pr68Cu25Al7','Pr',0.542,0.195816845,-0.033058179,-1.311090933,-1.311090933,-0.926142748,-0.110766452,-1.141929092,-1.255512277,-1.613307142,-0.95971784,1.005911258,0.85784908,-0.740265774,-0.010939997,-1.042474771,-1.425849636,-1.392730589,-1.392730589,-1.10635433,-1.040364454],\n",
    " ['Pt42.5Cu27Ni59.5P21','Ni',0.59,2.274394714,-0.585599963,0.592900442,0.592900442,1.529908494,2.834572869,0.034373696,2.126867916,1.630402544,1.048107874,1.005911258,0.85784908,1.269272405,4.127357302,-1.264471692,1.940934059,0.718013956,0.718013956,1.075276961,-1.273420611],\n",
    " ['Pt57.5Cu14.7Ni5.3P22.5','Pt',0.639,3.657010108,-0.585599963,0.327590168,0.327590168,1.307771942,4.341323125,0.034373696,2.126867916,1.630402544,1.048107874,1.005911258,0.85784908,1.269272405,4.127357302,-1.264471692,1.940934059,0.718013956,0.718013956,1.075276961,-1.273420611],\n",
    " ['Pt60Cu16Co2P22','Pt',0.574,3.816323831,-0.585599963,0.343196655,0.343196655,1.342485871,4.494270191,0.034373696,2.126867916,1.630402544,1.048107874,1.005911258,0.85784908,1.269272405,4.127357302,-1.264471692,1.940934059,0.718013956,0.718013956,1.075276961,-1.273420611],\n",
    " ['Sc36Al24Co20Y20','Sc',0.632,-0.993139794,1.308829009,0.280770708,0.280770708,-1.190164182,-1.008499227,-0.740589028,-1.188437854,-1.181945372,-0.254970706,-0.058208246,-1.16570621,-1.745034863,-1.057685784,0.345005984,0.16227666,0.718013956,0.718013956,-0.863950853,0.346874574],\n",
    " ['Sm40Al25Co20Y15','Sm',0.621,-0.210561524,1.38776355,-0.9989612,-0.9989612,-1.3906249,-0.177265176,-0.740589028,-0.315250828,-0.476849827,-0.27814149,-0.058208246,-1.16570621,-1.745034863,0.193254188,-1.031374925,-1.044787432,-1.392730589,-1.392730589,-1.10635433,-1.025567238],\n",
    " ['Sm60Fe30Al10','Sm',0.626,0.247270194,0.203745442,-1.155026066,-1.155026066,-1.268392755,0.363036957,-1.030331814,-0.905505745,-0.788266434,-0.259604862,-0.058208246,-1.16570621,1.269272405,0.193254188,-1.031374925,-1.044787432,-1.392730589,-1.392730589,-1.10635433,-1.025567238],\n",
    " ['Sr75Zn25','Sr',0.515,-1.292815724,-0.585599963,-1.311090933,-1.311090933,-0.926142748,-0.883814119,-2.436708897,-1.616494623,-1.757141798,-1.063183117,-1.654387503,-1.16570621,-1.745034863,-1.159353296,-0.62438057,-1.306905364,-1.392730589,-1.392730589,-1.10635433,-0.644538918],\n",
    " ['Tb36Al24Co20Y20','Tb',0.606,-0.110166573,1.308829009,-0.842896333,-0.842896333,-1.366178471,0.188477806,-0.740589028,-1.188437854,-1.181945372,-0.27814149,-0.058208246,-1.16570621,-0.740265774,0.441265639,-1.083174206,-0.707778662,-1.392730589,-1.392730589,-1.10635433,-1.088455407],\n",
    " ['Ti34Zr11Cu47Ni8','Cu',0.597,0.29864388,-0.585599963,1.029882069,1.029882069,0.902450148,0.475253554,0.56391502,-0.371349436,0.151173663,-0.425353208,0.473851506,0.85784908,0.264503316,-0.621804228,0.182208242,0.173290019,0.718013956,0.718013956,-0.621547376,0.18040589],\n",
    " ['Ti40Zr10Cu30Pd20','Ti',0.537,0.477123273,-0.585599963,1.029882069,1.029882069,0.785107288,0.279913552,0.56391502,-0.388422925,0.151173663,-0.425353208,0.473851506,0.85784908,0.264503316,-0.621804228,0.182208242,0.173290019,0.718013956,0.718013956,-0.621547376,0.18040589],\n",
    " ['Ti40Zr10Cu32Pd18','Ti',0.537,0.448041352,-0.585599963,1.029882069,1.029882069,0.785107288,0.288225892,0.56391502,-0.388422925,0.151173663,-0.425353208,0.473851506,0.85784908,0.264503316,-0.621804228,0.182208242,0.173290019,0.718013956,0.718013956,-0.621547376,0.18040589],\n",
    " ['Ti40Zr10Cu34Pd16','Ti',0.223,0.418959432,-0.585599963,1.029882069,1.029882069,0.785107288,0.296538233,0.56391502,-0.388422925,0.151173663,-0.425353208,0.473851506,0.85784908,0.264503316,-0.621804228,0.182208242,0.173290019,0.718013956,0.718013956,-0.621547376,0.18040589],\n",
    " ['Ti40Zr10Cu36Pd14','Ti',0.562,0.389877511,-0.585599963,1.029882069,1.029882069,0.785107288,0.304850573,0.56391502,-0.388422925,0.151173663,-0.425353208,0.473851506,0.85784908,0.264503316,-0.621804228,0.182208242,0.173290019,0.718013956,0.718013956,-0.621547376,0.18040589],\n",
    " ['Ti40Zr10Cu38Pd12','Ti',0.56,0.360795591,-0.585599963,1.029882069,1.029882069,0.785107288,0.313162914,0.56391502,-0.388422925,0.151173663,-0.425353208,0.473851506,0.85784908,0.264503316,-0.621804228,0.182208242,0.173290019,0.718013956,0.718013956,-0.621547376,0.18040589],\n",
    " ['Ti40Zr10Cu40Pd10','Ti',0.557,0.33171367,-0.585599963,1.029882069,1.029882069,0.785107288,0.321475254,0.56391502,-0.388422925,0.151173663,-0.425353208,0.473851506,0.85784908,0.264503316,-0.621804228,0.182208242,0.173290019,0.718013956,0.718013956,-0.621547376,0.18040589],\n",
    " ['Ti40Zr25Ni8Cu9Be18','Ti',0.615,-0.579999386,-0.585599963,0.468048548,0.468048548,-0.75990703,-0.779909863,0.56391502,0.168904549,0.176058551,-0.425353208,1.005911258,0.85784908,0.264503316,-0.621804228,0.182208242,0.173290019,0.718013956,0.718013956,-0.621547376,0.18040589],\n",
    " ['Ti41.5Zr2.5Hf5Cu37.5Ni7.5SiSn5','Ti',0.59,0.273784134,-0.585599963,0.842604228,0.842604228,0.701989429,0.685140152,1.030744892,0.244515716,0.724948095,1.475716979,-1.654387503,0.85784908,0.264503316,-0.621804228,0.182208242,0.173290019,0.718013956,0.718013956,-0.621547376,0.18040589],\n",
    " ['Ti41.5Zr2.5Hf5Cu42.5Ni7.5Si','Cu',0.567,0.311507218,-0.585599963,0.998669095,0.998669095,0.701989429,0.622797598,1.030744892,-0.1189057,0.652924118,0.158550562,1.005911258,0.85784908,0.264503316,-0.621804228,0.182208242,0.173290019,0.718013956,0.718013956,-0.621547376,0.18040589],\n",
    " ['Ti42.5Zr2.5Hf5Cu42.5Ni7.5','Ti',0.563,0.321708852,-0.585599963,1.029882069,1.029882069,0.711768001,0.622797598,1.030744892,-0.134759655,0.652924118,0.158550562,0.473851506,0.85784908,0.264503316,-0.621804228,0.182208242,0.173290019,0.718013956,0.718013956,-0.621547376,0.18040589],\n",
    " ['Ti45Ni15Cu25Sn3Be7Zr5','Ti',0.595,-0.116108544,-0.585599963,0.717752335,0.717752335,0.296178707,0.076261209,0.56391502,0.168904549,0.223197641,0.891813209,0.473851506,0.85784908,0.264503316,-0.621804228,0.182208242,0.173290019,0.718013956,0.718013956,-0.621547376,0.18040589],\n",
    " ['Ti47.5Zr2.5Cu42.5Ni7.5','Ti',0.549,0.115450274,-0.585599963,1.029882069,1.029882069,0.711768001,0.33186568,0.56391502,-0.371349436,0.151173663,-0.425353208,0.473851506,0.85784908,0.264503316,-0.621804228,0.182208242,0.173290019,0.718013956,0.718013956,-0.621547376,0.18040589],\n",
    " ['Ti50Cu42.5Ni7.5','Ti',0.546,0.091972926,-0.585599963,1.029882069,1.029882069,0.711768001,0.33186568,-0.529566315,-1.739667653,-1.024104078,-0.714215655,0.473851506,0.85784908,0.264503316,-0.621804228,0.182208242,0.173290019,0.718013956,0.718013956,-0.621547376,0.18040589],\n",
    " ['Ti50Ni15Cu25Sn3Be7','Ti',0.57,-0.16306324,-0.585599963,0.717752335,0.717752335,0.296178707,0.076261209,-0.529566315,-1.199413669,-0.952080101,0.602950762,1.005911258,0.85784908,0.264503316,-0.621804228,0.182208242,0.173290019,0.718013956,0.718013956,-0.621547376,0.18040589],\n",
    " ['Ti50Ni15Cu32Sn3','Ti',0.535,0.068917326,-0.585599963,0.936243149,0.936243149,0.638428714,0.338099936,-0.529566315,-1.360392282,-0.952080101,0.602950762,0.473851506,0.85784908,0.264503316,-0.621804228,0.182208242,0.173290019,0.718013956,0.718013956,-0.621547376,0.18040589],\n",
    " ['Ti50Ni24Cu20BSi2Sn3','Ti',0.554,-0.023623725,-0.506665423,0.842604228,0.842604228,0.403742994,0.209258658,0.016843596,-0.490863861,-0.364796728,1.231651382,-1.654387503,0.85784908,0.264503316,-0.621804228,0.182208242,0.173290019,0.718013956,0.718013956,-0.621547376,0.18040589],\n",
    " ['Ti50Ni30Cu32Sn3','Ti',0.535,0.206114034,-0.585599963,0.948456921,0.948456921,0.785107288,0.476879881,-0.529566315,-1.360392282,-0.952080101,0.602950762,0.473851506,0.85784908,0.264503316,-0.621804228,0.182208242,0.173290019,0.718013956,0.718013956,-0.621547376,0.18040589],\n",
    " ['Ti50Zr15Cu9Ni8Be18','Ti',0.616,-0.673908779,-0.585599963,0.468048548,0.468048548,-0.75990703,-0.779909863,0.56391502,0.168904549,0.176058551,-0.425353208,1.005911258,0.85784908,0.264503316,-0.621804228,0.182208242,0.173290019,0.718013956,0.718013956,-0.621547376,0.18040589],\n",
    " ['Ti53Cu15Ni18.5Al7Si3Hf3B0.5','Ti',0.565,-0.220781902,0.006409091,0.702145848,0.702145848,-0.143857017,-0.050501983,1.030744892,0.345737117,0.721890809,0.81397482,1.005911258,0.85784908,0.264503316,-0.621804228,0.182208242,0.173290019,0.718013956,0.718013956,-0.621547376,0.18040589],\n",
    " ['Ti53Cu15Ni18.5Al7Si3Sc3B0.5','Ti',0.572,-0.36593377,0.006409091,0.702145848,0.702145848,-0.158524874,-0.237529645,0.016843596,-0.38964246,-0.367854015,0.569909223,1.005911258,0.85784908,0.264503316,-0.621804228,0.182208242,0.173290019,0.718013956,0.718013956,-0.621547376,0.18040589],\n",
    " ['Ti55Zr10Cu9Ni8Be18','Ti',0.621,-0.720863475,-0.585599963,0.468048548,0.468048548,-0.75990703,-0.779909863,0.56391502,0.168904549,0.176058551,-0.425353208,1.005911258,0.85784908,0.264503316,-0.621804228,0.182208242,0.173290019,0.718013956,0.718013956,-0.621547376,0.18040589],\n",
    " ['Ti60Zr5Be18Cu9Ni8','Ti',0.588,-0.767818171,-0.585599963,0.468048548,0.468048548,-0.75990703,-0.779909863,0.56391502,0.168904549,0.176058551,-0.425353208,-1.122327751,0.85784908,0.264503316,-0.621804228,0.182208242,0.173290019,0.718013956,0.718013956,-0.621547376,0.18040589],\n",
    " ['Ti63Be37','Ti',0.497,-1.402625045,-0.585599963,-0.124997946,-0.124997946,-1.532414189,-1.399179231,-0.529566315,-1.199413669,-0.99921919,-1.026604172,-1.122327751,-1.16570621,0.264503316,-0.621804228,0.182208242,0.173290019,0.718013956,0.718013956,-0.621547376,0.18040589],\n",
    " ['Ti65Be18Cu9Ni8','Ti',0.559,-0.814772867,-0.585599963,0.468048548,0.468048548,-0.75990703,-0.779909863,-0.529566315,-1.199413669,-0.99921919,-0.714215655,-1.122327751,0.85784908,0.264503316,-0.621804228,0.182208242,0.173290019,0.718013956,0.718013956,-0.621547376,0.18040589],\n",
    " ['Y36Sc20Al24Co10Ni10','Y',0.639,-0.881273276,1.308829009,0.280770708,0.280770708,-1.141271324,-0.966937525,-0.740589028,-1.188437854,-1.181945372,-0.254970706,-1.388357627,-1.16570621,-1.745034863,-0.631827785,-0.65398016,-0.434647371,0.718013956,0.718013956,-0.863950853,-0.644538918],\n",
    " ['Y36Sc20Al24Co20','Y',0.624,-0.881648164,1.308829009,0.280770708,0.280770708,-1.190164182,-1.008499227,-0.740589028,-1.188437854,-1.181945372,-0.254970706,-1.654387503,-1.16570621,-1.745034863,-0.631827785,-0.65398016,-0.434647371,0.718013956,0.718013956,-0.863950853,-0.644538918],\n",
    " ['Y56Al24Co20','Y',0.59,-0.742283626,1.308829009,0.280770708,0.280770708,-1.190164182,-1.008499227,-0.740589028,-1.188437854,-1.181945372,-0.27814149,-1.654387503,-1.16570621,-1.745034863,-0.631827785,-0.65398016,-0.434647371,0.718013956,0.718013956,-0.863950853,-0.644538918],\n",
    " ['Y60Fe30Al10','Y',0.546,-0.562768606,0.203745442,0.717752335,0.717752335,-0.975035606,-0.883814119,-0.740589028,-1.188437854,-1.181945372,-0.259604862,-0.058208246,-1.16570621,1.269272405,-0.631827785,-0.65398016,-0.434647371,0.718013956,0.718013956,-0.863950853,-0.644538918],\n",
    " ['Zr26Ti10Cu8Ni8Be20Y4Mg24','Zr',0.683,-0.928284205,-0.585599963,-0.343488759,-0.343488759,-1.072821322,-1.041748589,0.56391502,1.851862784,1.380487162,0.246244258,1.005911258,0.85784908,0.264503316,-0.047883966,-0.727979133,1.682120134,0.718013956,0.718013956,-0.621547376,-0.725923608],\n",
    " ['Zr36Nb12Cu10Ni6Fe2Be20Y2Mg12','Zr',0.651,-0.418193129,-0.585599963,0.031066921,0.031066921,-0.769685602,-0.842252417,1.222782177,2.260406993,2.088639994,1.207059456,1.005911258,0.85784908,2.274041495,-0.047883966,-0.727979133,1.682120134,0.718013956,0.718013956,-0.621547376,-0.725923608],\n",
    " ['Zr36Nb12Cu10Ni8Be20Y2Mg12','Zr',0.635,-0.408502279,-0.585599963,0.031066921,0.031066921,-0.750128458,-0.825627736,1.222782177,2.260406993,2.088639994,1.207059456,1.005911258,0.85784908,1.269272405,-0.047883966,-0.727979133,1.682120134,0.718013956,0.718013956,-0.621547376,-0.725923608],\n",
    " ['Zr38.5Ti16.5Ni9.75Cu15.25Be20','Zr',0.628,-0.312802797,-0.585599963,0.405622601,0.405622601,-0.483662381,-0.571062308,0.56391502,0.168904549,0.176058551,-0.425353208,1.005911258,0.85784908,0.264503316,-0.047883966,-0.727979133,1.682120134,0.718013956,0.718013956,-0.621547376,-0.725923608],\n",
    " ['Zr39.88Ti15.12Ni9.98Cu13.77Be21.25','Zr',0.625,-0.341281336,-0.585599963,0.366606385,0.366606385,-0.547027526,-0.618775142,0.56391502,0.168904549,0.176058551,-0.425353208,1.005911258,0.85784908,0.264503316,-0.047883966,-0.727979133,1.682120134,0.718013956,0.718013956,-0.621547376,-0.725923608],\n",
    " ['Zr40Ti15Cu11Ni11Be21.5YMg0.5','Zr',0.646,-0.386168339,-0.585599963,0.343196655,0.343196655,-0.637674885,-0.684317947,0.56391502,1.851862784,1.380487162,0.246244258,1.005911258,0.85784908,0.264503316,-0.047883966,-0.727979133,1.682120134,0.718013956,0.718013956,-0.621547376,-0.725923608],\n",
    " ['Zr41.2Ti13.8Cu12.5Ni10Be22.5','Zr',0.626,-0.370311522,-0.585599963,0.327590168,0.327590168,-0.60833917,-0.665615181,0.56391502,0.168904549,0.176058551,-0.425353208,1.005911258,0.85784908,0.264503316,-0.047883966,-0.727979133,1.682120134,0.718013956,0.718013956,-0.621547376,-0.725923608],\n",
    " ['Zr41Ti14Cu12.5Ni2Be22.5C8','Zr',0.634,-0.621415115,-0.585599963,0.077886381,0.077886381,-0.921253462,-0.865111353,1.387498966,0.168904549,1.061249591,2.192945443,1.005911258,0.85784908,0.264503316,-0.047883966,-0.727979133,1.682120134,0.718013956,0.718013956,-0.621547376,-0.725923608],\n",
    " ['Zr41Ti14Cu12.5Ni8Be22.5C2','Zr',0.63,-0.434496061,-0.585599963,0.265164221,0.265164221,-0.686567743,-0.715489224,1.387498966,0.168904549,1.061249591,2.192945443,1.005911258,0.85784908,0.264503316,-0.047883966,-0.727979133,1.682120134,0.718013956,0.718013956,-0.621547376,-0.725923608],\n",
    " ['Zr42.63Ti12.37Cu11.25Ni10Be23.75','Zr',0.589,-0.39830758,-0.585599963,0.288573951,0.288573951,-0.669455242,-0.712372096,0.56391502,0.168904549,0.176058551,-0.425353208,1.005911258,0.85784908,0.264503316,-0.047883966,-0.727979133,1.682120134,0.718013956,0.718013956,-0.621547376,-0.725923608],\n",
    " ['Zr44Cu51Al5','Cu',0.605,0.483936859,-0.19092726,0.873817202,0.873817202,0.775328717,0.371349298,0.56391502,0.109147336,0.220140354,0.23007105,1.005911258,0.85784908,0.264503316,-0.047883966,-0.727979133,1.682120134,0.718013956,0.718013956,-0.621547376,-0.725923608],\n",
    " ['Zr44Ti11Cu10Ni10Be25','Zr',0.518,-0.426867095,-0.585599963,0.249557735,0.249557735,-0.730571315,-0.759129012,0.56391502,0.168904549,0.176058551,-0.425353208,1.005911258,0.85784908,0.264503316,-0.047883966,-0.727979133,1.682120134,0.718013956,0.718013956,-0.621547376,-0.725923608],\n",
    " ['Zr45.38Ti9.62Cu8.75Ni10Be26.25','Zr',0.503,-0.4553327,-0.585599963,0.210541518,0.210541518,-0.791687388,-0.805885927,0.56391502,0.168904549,0.176058551,-0.425353208,1.005911258,0.85784908,0.264503316,-0.047883966,-0.727979133,1.682120134,0.718013956,0.718013956,-0.621547376,-0.725923608],\n",
    " ['Zr45Cu47Al8','Cu',0.604,0.385205472,0.045876361,0.780178282,0.780178282,0.589535856,0.24250802,0.56391502,0.109147336,0.220140354,0.23007105,1.005911258,0.85784908,0.264503316,-0.047883966,-0.727979133,1.682120134,0.718013956,0.718013956,-0.621547376,-0.725923608],\n",
    " ['Zr45Cu48Al7','Cu',0.606,0.414352998,-0.033058179,0.811391255,0.811391255,0.638428714,0.275757382,0.56391502,0.109147336,0.220140354,0.23007105,1.005911258,0.85784908,0.264503316,-0.047883966,-0.727979133,1.682120134,0.718013956,0.718013956,-0.621547376,-0.725923608],\n",
    " ['Zr45Cu49Al6','Cu',0.609,0.443500524,-0.11199272,0.842604228,0.842604228,0.687321572,0.309006744,0.56391502,0.109147336,0.220140354,0.23007105,1.005911258,0.85784908,0.264503316,-0.047883966,-0.727979133,1.682120134,0.718013956,0.718013956,-0.621547376,-0.725923608],\n",
    " ['Zr46.25Ti8.25Cu7.5Ni10Be27.5','Zr',0.525,-0.486311277,-0.585599963,0.167211951,0.167211951,-0.851206458,-0.851441939,0.56391502,0.168904549,0.176058551,-0.425353208,1.005911258,0.85784908,0.264503316,-0.047883966,-0.727979133,1.682120134,0.718013956,0.718013956,-0.621547376,-0.725923608],\n",
    " ['Zr46.75Ti8.25Cu7.5Ni10Be27.5','Zr',0.525,-0.483892214,-0.585599963,0.171525301,0.171525301,-0.852803461,-0.852642843,0.56391502,0.168904549,0.176058551,-0.425353208,1.005911258,0.85784908,0.264503316,-0.047883966,-0.727979133,1.682120134,0.718013956,0.718013956,-0.621547376,-0.725923608],\n",
    " ['Zr46.75Ti8.25Cu8.25Ni10Be27.5','Be',0.567,-0.471905061,-0.585599963,0.177915054,0.177915054,-0.826051909,-0.832764386,0.56391502,0.168904549,0.176058551,-0.425353208,1.005911258,0.85784908,0.264503316,-0.047883966,-0.727979133,1.682120134,0.718013956,0.718013956,-0.621547376,-0.725923608],\n",
    " ['Zr46Cu44Al10','Zr',0.594,0.315621611,0.203745442,0.717752335,0.717752335,0.452635853,0.146916104,0.56391502,0.109147336,0.220140354,0.23007105,1.005911258,0.85784908,0.264503316,-0.047883966,-0.727979133,1.682120134,0.718013956,0.718013956,-0.621547376,-0.725923608],\n",
    " ['Zr46Cu49Al5','Cu',0.596,0.461359241,-0.19092726,0.873817202,0.873817202,0.697100144,0.313162914,0.56391502,0.109147336,0.220140354,0.23007105,1.005911258,0.85784908,0.264503316,-0.047883966,-0.727979133,1.682120134,0.718013956,0.718013956,-0.621547376,-0.725923608],\n",
    " ['Zr47Cu45Al8','Zr',0.586,0.362627855,0.045876361,0.780178282,0.780178282,0.511307282,0.184321636,0.56391502,0.109147336,0.220140354,0.23007105,1.005911258,0.85784908,0.264503316,-0.047883966,-0.727979133,1.682120134,0.718013956,0.718013956,-0.621547376,-0.725923608],\n",
    " ['Zr47Cu49Al4','Cu',0.585,0.479217959,-0.269861801,0.905030175,0.905030175,0.706878715,0.317319084,0.56391502,0.109147336,0.220140354,0.23007105,1.005911258,0.85784908,0.264503316,-0.047883966,-0.727979133,1.682120134,0.718013956,0.718013956,-0.621547376,-0.725923608],\n",
    " ['Zr48Cu34Pd2Ag8Al8','Zr',0.613,0.43927835,0.045876361,0.780178282,0.780178282,0.472192996,0.146916104,0.56391502,0.544521314,0.505747776,0.23007105,1.005911258,0.85784908,0.264503316,-0.047883966,-0.727979133,1.682120134,0.718013956,0.718013956,-0.621547376,-0.725923608],\n",
    " ['Zr48Cu36Ag8Al8','Zr',0.604,0.41019643,0.045876361,0.780178282,0.780178282,0.472192996,0.155228444,0.56391502,0.544521314,0.505747776,0.23007105,1.005911258,0.85784908,0.264503316,-0.047883966,-0.727979133,1.682120134,0.718013956,0.718013956,-0.621547376,-0.725923608],\n",
    " ['Zr48Cu37Al7Ag8','Zr',0.62,0.439343956,-0.033058179,0.811391255,0.811391255,0.521085854,0.188477806,0.56391502,0.544521314,0.505747776,0.23007105,-1.654387503,-1.16570621,0.264503316,-0.047883966,-0.727979133,1.682120134,0.718013956,0.718013956,-0.621547376,-0.725923608],\n",
    " ['Zr48Cu40Al7Ag5','Zr',0.624,0.417272437,-0.033058179,0.811391255,0.811391255,0.521085854,0.188477806,0.56391502,0.544521314,0.505747776,0.23007105,-1.654387503,-1.16570621,0.264503316,-0.047883966,-0.727979133,1.682120134,0.718013956,0.718013956,-0.621547376,-0.725923608],\n",
    " ['Zr48Cu42Al7Ag3','Zr',0.617,0.402558091,-0.033058179,0.811391255,0.811391255,0.521085854,0.188477806,0.56391502,0.544521314,0.505747776,0.23007105,-1.654387503,-1.16570621,0.264503316,-0.047883966,-0.727979133,1.682120134,0.718013956,0.718013956,-0.621547376,-0.725923608],\n",
    " ['Zr48Cu43Al7Ag2','Zr',0.608,0.395200918,-0.033058179,0.811391255,0.811391255,0.521085854,0.188477806,0.56391502,0.544521314,0.505747776,0.23007105,-1.654387503,-1.16570621,0.264503316,-0.047883966,-0.727979133,1.682120134,0.718013956,0.718013956,-0.621547376,-0.725923608],\n",
    " ['Zr48Cu46Al6','Zr',0.592,0.409634098,-0.11199272,0.842604228,0.842604228,0.569978712,0.221727168,0.56391502,0.109147336,0.220140354,0.23007105,1.005911258,0.85784908,0.264503316,-0.047883966,-0.727979133,1.682120134,0.718013956,0.718013956,-0.621547376,-0.725923608],\n",
    " ['Zr48Nb8Cu12Fe8Be24','Zr',0.614,-0.263177026,-0.585599963,0.280770708,0.280770708,-0.7012356,-0.775753693,1.222782177,0.577448758,0.884211383,0.53546199,1.005911258,0.85784908,2.274041495,-0.047883966,-0.727979133,1.682120134,0.718013956,0.718013956,-0.621547376,-0.725923608],\n",
    " ['Zr48Nb8Cu14Ni12Be18','Zr',0.612,-0.025798075,-0.585599963,0.468048548,0.468048548,-0.368764165,-0.501446456,1.222782177,0.577448758,0.884211383,0.53546199,1.005911258,0.85784908,1.269272405,-0.047883966,-0.727979133,1.682120134,0.718013956,0.718013956,-0.621547376,-0.725923608],\n",
    " ['Zr49Cu44Al7','Zr',0.595,0.369197763,-0.033058179,0.811391255,0.811391255,0.481971568,0.159384615,0.56391502,0.109147336,0.220140354,0.23007105,1.005911258,0.85784908,0.264503316,-0.047883966,-0.727979133,1.682120134,0.718013956,0.718013956,-0.621547376,-0.725923608],\n",
    " ['Zr49Cu45Al6','Zr',0.593,0.398345289,-0.11199272,0.842604228,0.842604228,0.530864426,0.192633977,0.56391502,0.109147336,0.220140354,0.23007105,1.005911258,0.85784908,0.264503316,-0.047883966,-0.727979133,1.682120134,0.718013956,0.718013956,-0.621547376,-0.725923608],\n",
    " ['Zr49Cu46Al5','Zr',0.587,0.427492815,-0.19092726,0.873817202,0.873817202,0.579757284,0.225883339,0.56391502,0.109147336,0.220140354,0.23007105,1.005911258,0.85784908,0.264503316,-0.047883966,-0.727979133,1.682120134,0.718013956,0.718013956,-0.621547376,-0.725923608],\n",
    " ['Zr49Cu47Al4','Zr',0.577,0.456640341,-0.269861801,0.905030175,0.905030175,0.628650142,0.259132701,0.56391502,0.109147336,0.220140354,0.23007105,1.005911258,0.85784908,0.264503316,-0.047883966,-0.727979133,1.682120134,0.718013956,0.718013956,-0.621547376,-0.725923608],\n",
    " ['Zr50Cu36Al14','Zr',0.609,0.153876273,0.519483604,0.592900442,0.592900442,0.100607274,-0.102454112,0.56391502,0.109147336,0.220140354,0.23007105,1.005911258,0.85784908,0.264503316,-0.047883966,-0.727979133,1.682120134,0.718013956,0.718013956,-0.621547376,-0.725923608],\n",
    " ['Zr50Cu38Ag12','Zr',0.559,0.650227712,-0.585599963,1.029882069,1.029882069,0.785107288,0.363036957,0.56391502,0.544521314,0.505747776,-0.23559993,0.473851506,-1.16570621,0.264503316,-0.047883966,-0.727979133,1.682120134,0.718013956,0.718013956,-0.621547376,-0.725923608],\n",
    " ['Zr50Cu38Al12','Zr',0.617,0.212171325,0.361614523,0.655326388,0.655326388,0.19839299,-0.035955387,0.56391502,0.109147336,0.220140354,0.23007105,1.005911258,0.85784908,0.264503316,-0.047883966,-0.727979133,1.682120134,0.718013956,0.718013956,-0.621547376,-0.725923608],\n",
    " ['Zr50Cu40Ag10','Zr',0.567,0.635513366,-0.585599963,1.029882069,1.029882069,0.785107288,0.363036957,0.56391502,0.544521314,0.505747776,-0.23559993,0.473851506,-1.16570621,0.264503316,-0.047883966,-0.727979133,1.682120134,0.718013956,0.718013956,-0.621547376,-0.725923608],\n",
    " ['Zr50Cu40Al10','Zr',0.607,0.270466377,0.203745442,0.717752335,0.717752335,0.296178707,0.030543337,0.56391502,0.109147336,0.220140354,0.23007105,1.005911258,0.85784908,0.264503316,-0.047883966,-0.727979133,1.682120134,0.718013956,0.718013956,-0.621547376,-0.725923608],\n",
    " ['Zr50Cu43Ag7','Zr',0.571,0.613441847,-0.585599963,1.029882069,1.029882069,0.785107288,0.363036957,0.56391502,0.544521314,0.505747776,-0.23559993,0.473851506,-1.16570621,0.264503316,-0.047883966,-0.727979133,1.682120134,0.718013956,0.718013956,-0.621547376,-0.725923608],\n",
    " ['Zr50Cu43Al7','Zr',0.595,0.357908955,-0.033058179,0.811391255,0.811391255,0.442857281,0.130291423,0.56391502,0.109147336,0.220140354,0.23007105,1.005911258,0.85784908,0.264503316,-0.047883966,-0.727979133,1.682120134,0.718013956,0.718013956,-0.621547376,-0.725923608],\n",
    " ['Zr50Cu45Ag5','Zr',0.563,0.598727501,-0.585599963,1.029882069,1.029882069,0.785107288,0.363036957,0.56391502,0.544521314,0.505747776,-0.23559993,0.473851506,-1.16570621,0.264503316,-0.047883966,-0.727979133,1.682120134,0.718013956,0.718013956,-0.621547376,-0.725923608],\n",
    " ['Zr50Cu48Ag2','Zr',0.56,0.576655982,-0.585599963,1.029882069,1.029882069,0.785107288,0.363036957,0.56391502,0.544521314,0.505747776,-0.23559993,0.473851506,-1.16570621,0.264503316,-0.047883966,-0.727979133,1.682120134,0.718013956,0.718013956,-0.621547376,-0.725923608],\n",
    " ['Zr51Cu20.7Ni12Al16.3','Zr',0.638,0.074873356,0.701033047,0.521110603,0.521110603,-0.168303446,-0.257894879,0.56391502,0.109147336,0.220140354,0.23007105,1.005911258,0.85784908,0.264503316,-0.047883966,-0.727979133,1.682120134,0.718013956,0.718013956,-0.621547376,-0.725923608],\n",
    " ['Zr52.5Cu17.9Ni14.5Al10Ti5','Zr',0.606,0.137040893,0.204535578,0.717439893,0.717439893,-0.141850403,-0.249987755,0.56391502,0.109147336,0.220140354,0.23007105,0.473851506,0.85784908,0.264503316,-0.047883966,-0.727979133,1.682120134,0.718013956,0.718013956,-0.621547376,-0.725923608],\n",
    " ['Zr52Cu38Al10','Zr',0.597,0.247888759,0.203745442,0.717752335,0.717752335,0.217950133,-0.027643047,0.56391502,0.109147336,0.220140354,0.23007105,1.005911258,0.85784908,0.264503316,-0.047883966,-0.727979133,1.682120134,0.718013956,0.718013956,-0.621547376,-0.725923608],\n",
    " ['Zr53Al14Ni10Cu19Y4','Zr',0.625,0.03607247,0.519483604,0.592900442,0.592900442,-0.290535592,-0.364292838,0.56391502,0.109147336,0.220140354,0.23007105,0.739881382,0.85784908,0.264503316,-0.047883966,-0.727979133,1.682120134,0.718013956,0.718013956,-0.621547376,-0.725923608],\n",
    " ['Zr54Al15Ni10Cu19Y2','Zr',0.642,0.037323658,0.598418145,0.561687468,0.561687468,-0.290535592,-0.360136667,0.56391502,0.109147336,0.220140354,0.23007105,0.739881382,0.85784908,0.264503316,-0.047883966,-0.727979133,1.682120134,0.718013956,0.718013956,-0.621547376,-0.725923608],\n",
    " ['Zr54Cu36Al10','Zr',0.594,0.225311142,0.203745442,0.717752335,0.717752335,0.13972156,-0.085829431,0.56391502,0.109147336,0.220140354,0.23007105,1.005911258,0.85784908,0.264503316,-0.047883966,-0.727979133,1.682120134,0.718013956,0.718013956,-0.621547376,-0.725923608],\n",
    " ['Zr54Cu38Al8','Zr',0.582,0.283606194,0.045876361,0.780178282,0.780178282,0.237507277,-0.019330706,0.56391502,0.109147336,0.220140354,0.23007105,1.005911258,0.85784908,0.264503316,-0.047883966,-0.727979133,1.682120134,0.718013956,0.718013956,-0.621547376,-0.725923608],\n",
    " ['Zr54Cu40Al6','Zr',0.563,0.341901246,-0.11199272,0.842604228,0.842604228,0.335292993,0.047168018,0.56391502,0.109147336,0.220140354,0.23007105,1.005911258,0.85784908,0.264503316,-0.047883966,-0.727979133,1.682120134,0.718013956,0.718013956,-0.621547376,-0.725923608],\n",
    " ['Zr55Al20Co25','Zr',0.611,-0.079795975,0.993090847,0.405622601,0.405622601,-0.755017744,-0.655224755,0.56391502,0.109147336,0.220140354,0.23007105,-1.654387503,-1.16570621,-0.740265774,-0.047883966,-0.727979133,1.682120134,0.718013956,0.718013956,-0.621547376,-0.725923608],\n",
    " ['Zr55Cu35Al10','Zr',0.601,0.214022333,0.203745442,0.717752335,0.717752335,0.100607274,-0.114922622,0.56391502,0.109147336,0.220140354,0.23007105,1.005911258,0.85784908,0.264503316,-0.047883966,-0.727979133,1.682120134,0.718013956,0.718013956,-0.621547376,-0.725923608],\n",
    " ['Zr56Cu36Al8','Zr',0.565,0.261028576,0.045876361,0.780178282,0.780178282,0.159278704,-0.07751709,0.56391502,0.109147336,0.220140354,0.23007105,1.005911258,0.85784908,0.264503316,-0.047883966,-0.727979133,1.682120134,0.718013956,0.718013956,-0.621547376,-0.725923608],\n",
    " ['Zr57Nb5Cu15.4Ni12.6Al10','Zr',0.604,0.182535507,0.203745442,0.717752335,0.717752335,-0.247509876,-0.350161859,1.222782177,0.517691545,0.928293186,1.190886249,1.005911258,0.85784908,1.269272405,-0.047883966,-0.727979133,1.682120134,0.718013956,0.718013956,-0.621547376,-0.725923608],\n",
    " ['Zr57Ti5Al10Cu20Ni8','Zr',0.591,0.087596111,0.203745442,0.717752335,0.717752335,-0.251421305,-0.351824327,0.56391502,0.109147336,0.220140354,0.23007105,-1.122327751,0.85784908,0.264503316,-0.047883966,-0.727979133,1.682120134,0.718013956,0.718013956,-0.621547376,-0.725923608],\n",
    " ['Zr58.5Nb2.8Cu15.6Ni12.8Al10.3','Zr',0.605,0.160455085,0.227425804,0.708388443,0.708388443,-0.258266305,-0.349746242,1.222782177,0.517691545,0.928293186,1.190886249,1.005911258,0.85784908,1.269272405,-0.047883966,-0.727979133,1.682120134,0.718013956,0.718013956,-0.621547376,-0.725923608],\n",
    " ['Zr58Cu36Al6','Zr',0.539,0.296746011,-0.11199272,0.842604228,0.842604228,0.178835847,-0.069204749,0.56391502,0.109147336,0.220140354,0.23007105,1.005911258,0.85784908,0.264503316,-0.047883966,-0.727979133,1.682120134,0.718013956,0.718013956,-0.621547376,-0.725923608],\n",
    " ['Zr60Cu30Al10','Zr',0.583,0.15757829,0.203745442,0.717752335,0.717752335,-0.094964159,-0.260388581,0.56391502,0.109147336,0.220140354,0.23007105,1.005911258,0.85784908,0.264503316,-0.047883966,-0.727979133,1.682120134,0.718013956,0.718013956,-0.621547376,-0.725923608],\n",
    " ['Zr60Cu40Al10','Zr',0.629,0.245651361,0.131986769,0.746127765,0.746127765,0.162834548,-0.071471751,0.56391502,0.109147336,0.220140354,0.23007105,1.005911258,0.85784908,0.264503316,-0.047883966,-0.727979133,1.682120134,0.718013956,0.718013956,-0.621547376,-0.725923608],\n",
    " ['Zr63.8Al11.4Ni17.2Cu7.6','Zr',0.582,0.07290707,0.314253799,0.674054172,0.674054172,-0.480239881,-0.488977945,0.56391502,0.109147336,0.220140354,0.23007105,-1.122327751,-1.16570621,0.264503316,-0.047883966,-0.727979133,1.682120134,0.718013956,0.718013956,-0.621547376,-0.725923608],\n",
    " ['Zr64.5Al9.2Ni13.2Cu13.1','Zr',0.578,0.129354394,0.14059781,0.742722714,0.742722714,-0.360941307,-0.419569902,0.56391502,0.109147336,0.220140354,0.23007105,-1.122327751,-1.16570621,0.264503316,-0.047883966,-0.727979133,1.682120134,0.718013956,0.718013956,-0.621547376,-0.725923608],\n",
    " ['Zr64.8Al8.3Ni11.4Cu15.5','Zr',0.571,0.152301744,0.069556723,0.77081439,0.77081439,-0.311070592,-0.390892327,0.56391502,0.109147336,0.220140354,0.23007105,-1.122327751,-1.16570621,0.264503316,-0.047883966,-0.727979133,1.682120134,0.718013956,0.718013956,-0.621547376,-0.725923608],\n",
    " ['Zr65.3Al6.5Ni8.2Cu20','Zr',0.539,0.199302833,-0.07252545,0.826997742,0.826997742,-0.211329161,-0.332290327,0.56391502,0.109147336,0.220140354,0.23007105,-1.122327751,-1.16570621,0.264503316,-0.047883966,-0.727979133,1.682120134,0.718013956,0.718013956,-0.621547376,-0.725923608],\n",
    " ['Zr65.5Al5.6Ni6.5Cu22.4','Zr',0.52,0.223373441,-0.143566536,0.855089418,0.855089418,-0.158524874,-0.30111905,0.56391502,0.109147336,0.220140354,0.23007105,-1.122327751,-1.16570621,0.264503316,-0.047883966,-0.727979133,1.682120134,0.718013956,0.718013956,-0.621547376,-0.725923608],\n",
    " ['Zr65Al7.5Cu17.5Ni10','Zr',0.562,0.17344073,0.006409091,0.795784768,0.795784768,-0.266089162,-0.364292838,0.56391502,0.109147336,0.220140354,0.23007105,-1.122327751,0.85784908,0.264503316,-0.047883966,-0.727979133,1.682120134,0.718013956,0.718013956,-0.621547376,-0.725923608],\n",
    " ['Zr65Be35','Zr',0.503,-0.767293328,-0.585599963,-0.062571999,-0.062571999,-1.512857046,-1.38255455,0.56391502,0.168904549,0.176058551,-0.737741725,-1.122327751,-1.16570621,0.264503316,-0.047883966,-0.727979133,1.682120134,0.718013956,0.718013956,-0.621547376,-0.725923608],\n",
    " ['Zr66Al8Cu12Ni14','Zr',0.559,0.147353225,0.045876361,0.780178282,0.780178282,-0.368764165,-0.426635391,0.56391502,0.109147336,0.220140354,0.23007105,-1.122327751,0.85784908,0.264503316,-0.047883966,-0.727979133,1.682120134,0.718013956,0.718013956,-0.621547376,-0.725923608],\n",
    " ['Zr66Al8Cu7Ni19','Zr',0.552,0.147072059,0.045876361,0.780178282,0.780178282,-0.417657023,-0.447416243,0.56391502,0.109147336,0.220140354,0.23007105,-1.122327751,0.85784908,0.264503316,-0.047883966,-0.727979133,1.682120134,0.718013956,0.718013956,-0.621547376,-0.725923608],\n",
    " ['Zr66Al8Ni26','Zr',0.537,0.146678427,0.045876361,0.780178282,0.780178282,-0.486107024,-0.476509434,0.56391502,0.109147336,0.220140354,0.23007105,-1.654387503,-1.16570621,-0.740265774,-0.047883966,-0.727979133,1.682120134,0.718013956,0.718013956,-0.621547376,-0.725923608],\n",
    " ['Zr66Al9Cu16Ni9','Zr',0.561,0.118486865,0.124810902,0.748965308,0.748965308,-0.368764165,-0.439103902,0.56391502,0.109147336,0.220140354,0.23007105,-1.122327751,0.85784908,0.264503316,-0.047883966,-0.727979133,1.682120134,0.718013956,0.718013956,-0.621547376,-0.725923608]])"
   ]
  },
  {
   "cell_type": "code",
   "execution_count": null,
   "metadata": {
    "id": "KR5QHeHLx6E4"
   },
   "outputs": [],
   "source": [
    "def data_loader():\n",
    "    '''\n",
    "    Data loader specifically for this exercise.\n",
    "    '''\n",
    "\n",
    "    df = pd.DataFrame(data=data[1:, :], index=range(data[1:,:].shape[0]), columns=data[0,:])\n",
    "    str_columns=['Material compositions', 'main_element']\n",
    "    convert_dict={}\n",
    "    for key in df.columns:\n",
    "      if key in str_columns:\n",
    "        convert_dict[key]='str'\n",
    "      else:\n",
    "        convert_dict[key]='float'\n",
    "    df = df.astype(convert_dict)\n",
    "\n",
    "    return df"
   ]
  },
  {
   "cell_type": "code",
   "execution_count": null,
   "metadata": {
    "id": "bODZwVh52NTZ"
   },
   "outputs": [],
   "source": [
    "df = data_loader()"
   ]
  },
  {
   "cell_type": "markdown",
   "metadata": {
    "id": "jyrcuF1kb-yf"
   },
   "source": [
    "Let's take a look at some of the compounds found in our data set and print the columns and the first 20 material compositions, their main element, their reduced glass transition temperature and the average number of their d-orbital valence electrons. Note that the Magpie descriptors are centered around the sample mean and are measured in units of the sample standard deviation."
   ]
  },
  {
   "cell_type": "code",
   "execution_count": null,
   "metadata": {
    "id": "2JKcKBAEb-i_"
   },
   "outputs": [],
   "source": [
    "print(df.columns)\n",
    "print(df[['Material compositions', 'main_element', 'Trg', 'NdValence_composition_average']][:20])"
   ]
  },
  {
   "cell_type": "markdown",
   "metadata": {
    "id": "d53shu5jBXbI"
   },
   "source": [
    "After loading the whole data we want to find all elements that have Zirconium (Zr) and all elements that have Copper (Cu) as their main element."
   ]
  },
  {
   "cell_type": "code",
   "execution_count": null,
   "metadata": {
    "id": "TkXGLqiQTNaB"
   },
   "outputs": [],
   "source": [
    "#In analogy to the previous exercises, initialize df_Cu_rows and df_Zr_rows such that we can find all metal alloys, whose main elment is 'Cu' and 'Zr' respectively.\n",
    "df_Cu_rows = None\n",
    "df_Zr_rows = None\n",
    "\n",
    "df_Cu=df[df_Cu_rows]\n",
    "df_Zr=df[df_Zr_rows]\n",
    "\n",
    "df_classification_data_Cu=pd.DataFrame({'descriptor': df_Cu['NdValence_composition_average'], 'Trg': df_Cu['Trg']})\n",
    "df_classification_data_Zr=pd.DataFrame({'descriptor': df_Zr['NdValence_composition_average'], 'Trg': df_Zr['Trg']})"
   ]
  },
  {
   "cell_type": "markdown",
   "metadata": {
    "id": "zzXBr6mTUKe_"
   },
   "source": [
    "First we arrange our data set in a way suitable for the training: we assign a label to each class and split it in test and training sets."
   ]
  },
  {
   "cell_type": "code",
   "execution_count": null,
   "metadata": {
    "id": "_hFFz3yjBbZ8"
   },
   "outputs": [],
   "source": [
    "lenCu=len(df_classification_data_Cu.index)\n",
    "xvalsCu=np.transpose(np.array([df_classification_data_Cu['descriptor'][:], df_classification_data_Cu['Trg'][:]])).reshape(lenCu,2)\n",
    "\n",
    "lenZr=len(df_classification_data_Zr.index)\n",
    "xvalsZr=np.transpose(np.array([df_classification_data_Zr['descriptor'][:], df_classification_data_Zr['Trg'][:]])).reshape(lenZr,2)\n",
    "\n",
    "x_vals=np.concatenate([xvalsCu, xvalsZr])\n",
    "\n",
    "# it doesn't matter if yvalsCu=+1, yvalsZr=-1 or vice versa.\n",
    "yvalsCu=np.ones(lenCu, dtype=np.integer)\n",
    "yvalsZr=-np.ones(lenZr, dtype=np.integer)\n",
    "y_vals=np.concatenate([yvalsCu, yvalsZr])\n",
    "\n",
    "x_vals_train, x_vals_test, y_vals_train, y_vals_test = train_test_split(x_vals, y_vals, test_size=0.2)"
   ]
  },
  {
   "cell_type": "markdown",
   "metadata": {
    "id": "pax1_6TLgyMQ"
   },
   "source": [
    "In the following we will perform the training of a linear support-vector classifier, plot the classification and evaluate the confidence of our classification. Play with the the regularization parameter $C$. What is its effect?\n",
    "\n",
    "A more rigorous discussion of $C$ will follow later."
   ]
  },
  {
   "cell_type": "code",
   "execution_count": null,
   "metadata": {
    "id": "Dr_SSuVVBg7f"
   },
   "outputs": [],
   "source": [
    "#Initialize the linear support vector classifier and train it with the training\n",
    "#data. In our example we only need to set the regularization parameter C.\n",
    "#The relevant documentation can be found here:\n",
    "#https://scikit-learn.org/stable/modules/generated/sklearn.svm.LinearSVC.html\n",
    "SVM = None\n",
    "\n",
    "#With this method we can return the mean accuracy of our predictions on the\n",
    "#test set.\n",
    "confidence = SVM.score(x_vals_test, y_vals_test)\n",
    "print('confidence', confidence)"
   ]
  },
  {
   "cell_type": "code",
   "execution_count": null,
   "metadata": {
    "id": "pBJd3Y5OMD25"
   },
   "outputs": [],
   "source": [
    "# Next, we will produce a contour plot to visualise the predictions.\n",
    "h = .005 # this is a meshgrid parameter needed below.\n",
    "\n",
    "Cu_x=xvalsCu[:,0]\n",
    "Cu_y=xvalsCu[:,1]\n",
    "Zr_x=xvalsZr[:,0]\n",
    "Zr_y=xvalsZr[:,1]\n",
    "x_min=np.min([np.min(Cu_x), np.min(Zr_x)])\n",
    "x_max=np.max([np.max(Cu_x), np.max(Zr_x)])\n",
    "y_max=np.max([np.max(Cu_y), np.max(Zr_y)])\n",
    "y_min=np.min([np.min(Cu_y), np.min(Zr_y)])\n",
    "\n",
    "#Here we plot the data set.\n",
    "plt.scatter(Cu_x,Cu_y,color='c')\n",
    "plt.scatter(Zr_x,Zr_y,color='b')\n",
    "\n",
    "#In the following we use our model to make predictions all over feature space\n",
    "#in order to plot the sub-spaces of the two classes.\n",
    "xx, yy = np.meshgrid(np.arange(x_min, x_max, h),\n",
    "                     np.arange(y_min, y_max, h))\n",
    "\n",
    "Z = SVM.predict(np.c_[xx.ravel(), yy.ravel()])\n",
    "\n",
    "# Put the result into a color plot.\n",
    "Z = Z.reshape(xx.shape)\n",
    "plt.contourf(xx, yy, Z, cmap=plt.cm.coolwarm, alpha=0.8)\n",
    "plt.xlabel('descriptor')\n",
    "plt.ylabel('$T_{rg}$')\n",
    "plt.show()"
   ]
  },
  {
   "cell_type": "markdown",
   "metadata": {
    "id": "xm3JmqY28AJ6"
   },
   "source": [
    "If you did everything correctly your plot should look something like this. Note that the figure will depend on the regularization parameter C and what training data has randomly been chosen. If you vary C, how does the decision boundary vary?\n",
    "\n",
    "![image.png](data:image/png;base64,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)"
   ]
  },
  {
   "cell_type": "markdown",
   "metadata": {
    "id": "wUaDugjfFr98"
   },
   "source": [
    "### SVM with non-linear kernel\n",
    "\n",
    "We want to now use a SVM with a non-linear kernel. Using the kernel trick, our SVM supports non-linear boundaries between classes.\n",
    "\n",
    "Test different values of the regularization parameter $C$ and investigate its effect. Note that $C$ is inversely proportional to $\\lambda$ in the lecture. Thus large $C$ means low regularization. Compare the non-linear classification with the linear SVC. Is the result improved? How does it compare for various $C$? Can we expect the model to generalize well for large $C$?\n",
    "\n",
    "We will work on optimizing the value of $C$ in a later exercise, for now it is only important to note its effect."
   ]
  },
  {
   "cell_type": "code",
   "execution_count": null,
   "metadata": {
    "id": "FDwg665IB6Sj"
   },
   "outputs": [],
   "source": [
    "#Initialize the non-linear support vector classifier and train it with the training\n",
    "#data. In addition to the regularization parameter, we need to now specify the kernel.\n",
    "\n",
    "#Try both 'rbf' (Gaussian) and 'poly' (polynomial) kernels. For the polynomial kernel\n",
    "#you need to set the polynomial degree with the keyword argument degree.\n",
    "\n",
    "#The relevant documentation can be found here:\n",
    "#https://scikit-learn.org/stable/modules/generated/sklearn.svm.SVC.html\n",
    "SVM = None\n",
    "\n",
    "#With this method we can return the mean accuracy of our predictions on the\n",
    "#test set.\n",
    "confidence = SVM.score(x_vals_test, y_vals_test)\n",
    "print('confidence', confidence)\n",
    "\n",
    "h = .005\n",
    "\n",
    "Cu_x=xvalsCu[:,0]\n",
    "Cu_y=xvalsCu[:,1]\n",
    "Zr_x=xvalsZr[:,0]\n",
    "Zr_y=xvalsZr[:,1]\n",
    "x_min=np.min([np.min(Cu_x), np.min(Zr_x)])\n",
    "x_max=np.max([np.max(Cu_x), np.max(Zr_x)])\n",
    "y_max=np.max([np.max(Cu_y), np.max(Zr_y)])\n",
    "y_min=np.min([np.min(Cu_y), np.min(Zr_y)])\n",
    "\n",
    "#Here we plot the data set.\n",
    "plt.scatter(Cu_x,Cu_y,color='c')\n",
    "plt.scatter(Zr_x,Zr_y,color='b')\n",
    "\n",
    "#In the following we use our model to make predictions all over feature space\n",
    "#in order to plot the sub-spaces of the two classes.\n",
    "xx, yy = np.meshgrid(np.arange(x_min, x_max, h),\n",
    "                     np.arange(y_min, y_max, h))\n",
    "\n",
    "Z = SVM.predict(np.c_[xx.ravel(), yy.ravel()])\n",
    "\n",
    "# Put the result into a color plot\n",
    "Z = Z.reshape(xx.shape)\n",
    "plt.contourf(xx, yy, Z, cmap=plt.cm.coolwarm, alpha=0.8)\n",
    "plt.xlabel('descriptor')\n",
    "plt.ylabel('$T_{rg}$')\n",
    "plt.show()"
   ]
  },
  {
   "cell_type": "markdown",
   "metadata": {
    "id": "JK4b0Cwx7lhJ"
   },
   "source": [
    "If you did everything correctly your plot should look something like this. Note that the figure will depend on the regularization parameter C, the kernel and what training data has randomly been chosen.\n",
    "\n",
    "![image.png](data:image/png;base64,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)"
   ]
  },
  {
   "cell_type": "markdown",
   "metadata": {
    "id": "j8bXo8afB4Bp"
   },
   "source": [
    "### Classification of 3 different majority elements\n",
    "\n",
    "In the following we will extend our classification to 3 different classes of majority elements. For this we will include metal alloys in our investigation that have the majority element Lanthanum ('La').\n",
    "\n",
    "First we need to extract the relevant data from the DataFrame."
   ]
  },
  {
   "cell_type": "code",
   "execution_count": null,
   "metadata": {
    "id": "IEJdj9IMGgKX"
   },
   "outputs": [],
   "source": [
    "#In analogy to the previous exercises, initialize df_La_rows such that we can find all metal alloys, whose main elment is 'La'.\n",
    "df_La_rows = None\n",
    "#Initialize the DataFrame such that it contains only data with majority element iron.\n",
    "df_La=None\n",
    "\n",
    "df_classification_data_La=pd.DataFrame({'descriptor': df_La['NdValence_composition_average'], 'Trg': df_La['Trg']})"
   ]
  },
  {
   "cell_type": "code",
   "execution_count": null,
   "metadata": {
    "id": "HiTyTvRb5jUG"
   },
   "outputs": [],
   "source": [
    "#@title Check previous section\n",
    "assert df_La.shape==(36, 23), \"df_La does not have the correct shape.\"\n",
    "print(\"Yay ! All tests successsfully passed.\")"
   ]
  },
  {
   "cell_type": "code",
   "execution_count": null,
   "metadata": {
    "id": "NpMdgamU5fUD"
   },
   "outputs": [],
   "source": [
    "lenLa=len(df_classification_data_La.index)\n",
    "xvalsLa=np.transpose(np.array([df_classification_data_La['descriptor'][:], df_classification_data_La['Trg'][:]])).reshape(lenLa,2)\n",
    "x_vals=np.concatenate([xvalsCu, xvalsZr, xvalsLa])\n",
    "\n",
    "# it doesn't matter what label we assign to which class.\n",
    "yvalsCu=np.ones(lenCu, dtype=np.integer)\n",
    "yvalsZr=-np.ones(lenZr, dtype=np.integer)\n",
    "yvalsLa=np.zeros(lenLa, dtype=np.integer)\n",
    "y_vals=np.concatenate([yvalsCu, yvalsZr, yvalsLa])\n",
    "\n",
    "x_vals_train, x_vals_test, y_vals_train, y_vals_test = train_test_split(x_vals, y_vals, test_size=0.2)"
   ]
  },
  {
   "cell_type": "markdown",
   "metadata": {
    "id": "Q4j_hoib6L8Y"
   },
   "source": [
    "Now we want to train a non-linear SVM to classify our data."
   ]
  },
  {
   "cell_type": "code",
   "execution_count": null,
   "metadata": {
    "id": "SSGem3E76K-V"
   },
   "outputs": [],
   "source": [
    "#Initialize the non-linear support vector classifier and train it with the training\n",
    "#data. In addition to the regularization parameter, we need to now specify the kernel.\n",
    "#Try both 'rbf' (Gaussian) and 'poly' (polynomial) kernels. For the polynomial kernel\n",
    "#you need to set the polynomial degree with the keyword argument degree.\n",
    "#The relevant documentation can be found here:\n",
    "#https://scikit-learn.org/stable/modules/generated/sklearn.svm.SVC.html\n",
    "SVM = None\n",
    "\n",
    "#With this method we can return the mean accuracy of our predictions on the\n",
    "#test set.\n",
    "confidence = SVM.score(x_vals_test, y_vals_test)\n",
    "print('confidence', confidence)\n",
    "\n",
    "h = .005\n",
    "\n",
    "#Generalize the following code for the SVM predictions and plots to the\n",
    "#case of 3 classes.\n",
    "Cu_x=xvalsCu[:,0]\n",
    "Cu_y=xvalsCu[:,1]\n",
    "Zr_x=xvalsZr[:,0]\n",
    "Zr_y=xvalsZr[:,1]\n",
    "x_min=np.min([np.min(Cu_x), np.min(Zr_x)])\n",
    "x_max=np.max([np.max(Cu_x), np.max(Zr_x)])\n",
    "y_max=np.max([np.max(Cu_y), np.max(Zr_y)])\n",
    "y_min=np.min([np.min(Cu_y), np.min(Zr_y)])\n",
    "\n",
    "#Here we plot the data set.\n",
    "plt.scatter(Cu_x,Cu_y,color='c')\n",
    "plt.scatter(Zr_x,Zr_y,color='b')\n",
    "\n",
    "#In the following we use our model to make predictions all over feature space\n",
    "#in order to plot the sub-spaces of the two classes.\n",
    "xx, yy = np.meshgrid(np.arange(x_min, x_max, h),\n",
    "                     np.arange(y_min, y_max, h))\n",
    "\n",
    "Z = SVM.predict(np.c_[xx.ravel(), yy.ravel()])\n",
    "\n",
    "# Put the result into a color plot\n",
    "Z = Z.reshape(xx.shape)\n",
    "plt.contourf(xx, yy, Z, cmap=plt.cm.coolwarm, alpha=0.8)\n",
    "plt.xlabel('descriptor')\n",
    "plt.ylabel('$T_{rg}$')\n",
    "plt.show()"
   ]
  },
  {
   "cell_type": "markdown",
   "metadata": {
    "id": "8MNwSiRt7e2B"
   },
   "source": [
    "If you did everything correctly your plot should look something like this. Note that the figure will depend on the regularization parameter C, the kernel and what training data has randomly been chosen.\n",
    "\n",
    "![image.png](data:image/png;base64,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)"
   ]
  },
  {
   "cell_type": "markdown",
   "metadata": {
    "id": "fQtp0bgnaSih"
   },
   "source": [
    "### Cross-validation for determining the regularization Parameter\n",
    "\n",
    "So far we did not use any robust algorithm to determine the hyperparameter $C$ and the optimal kernel. Implement the cross-validation grid search, as it was used in the Kernel Ridge Regression exercise and determine the optimal value of $C$ and the optimal kernel (compare polynomial ('poly') and Gaussian ('rbf') kernels).\n",
    "\n",
    "With cross-validation, we optimize the hyperparameters using a specific training and validation data set. It might still be a good idea to increase regularization (small $C$), if our data set is relatively small and we are in danger of overfitting. With more regularization we might improve our models generalizability, even though we decrease its performance on the training/validation set."
   ]
  },
  {
   "cell_type": "code",
   "execution_count": null,
   "metadata": {
    "id": "vbJMK4ezaSMO"
   },
   "outputs": [],
   "source": [
    "from sklearn.model_selection import GridSearchCV\n",
    "\n",
    "# Grid search expects a list of options for the hyperparameter scan.\n",
    "# Use the range function to generate an example list for C\n",
    "C = None\n",
    "\n",
    "cv_number = None\n",
    "kernel = None\n",
    "\n",
    "grid_search = None\n",
    "#Write the code to train the model here! You can use the default scoring function,\n",
    "#i.e. the scoring function does not need to be set in the grid search.\n",
    "\n",
    "print(\"The best combinations of parameters are %s with a score of %0.3f on the validation set.\"\n",
    "      % (grid_search.best_params_, -grid_search.best_score_))\n",
    "\n",
    "y_vals_predicted = grid_search.predict(x_vals_test) # scikit-learn automatically takes the best combination of hyperparameters from grid search\n",
    "y_diff=y_vals_test-y_vals_predicted\n",
    "print('confidence', np.count_nonzero(y_diff==0)/y_diff.size)\n",
    "\n",
    "h = .005\n",
    "\n",
    "#Generalize the following code for the SVM predictions and plots to the\n",
    "#case of 3 classes.\n",
    "Cu_x=xvalsCu[:,0]\n",
    "Cu_y=xvalsCu[:,1]\n",
    "Zr_x=xvalsZr[:,0]\n",
    "Zr_y=xvalsZr[:,1]\n",
    "La_x=xvalsLa[:,0]\n",
    "La_y=xvalsLa[:,1]\n",
    "x_min=np.min([np.min(Cu_x), np.min(Zr_x), np.min(La_x)])\n",
    "x_max=np.max([np.max(Cu_x), np.max(Zr_x), np.max(La_x)])\n",
    "y_max=np.max([np.max(Cu_y), np.max(Zr_y), np.max(La_y)])\n",
    "y_min=np.min([np.min(Cu_y), np.min(Zr_y), np.min(La_y)])\n",
    "\n",
    "#Here we plot the data set.\n",
    "plt.scatter(Cu_x,Cu_y,color='c')\n",
    "plt.scatter(Zr_x,Zr_y,color='b')\n",
    "plt.scatter(La_x,La_y,color='r')\n",
    "\n",
    "#In the following we use our model to make predictions all over feature space\n",
    "#in order to plot the sub-spaces of the two classes.\n",
    "xx, yy = np.meshgrid(np.arange(x_min, x_max, h),\n",
    "                     np.arange(y_min, y_max, h))\n",
    "\n",
    "Z = grid_search.predict(np.c_[xx.ravel(), yy.ravel()])\n",
    "\n",
    "# Put the result into a color plot\n",
    "Z = Z.reshape(xx.shape)\n",
    "plt.contourf(xx, yy, Z, cmap=plt.cm.coolwarm, alpha=0.8)\n",
    "plt.colorbar()\n",
    "plt.xlabel('descriptor')\n",
    "plt.ylabel('$T_{rg}$')\n",
    "plt.show()"
   ]
  },
  {
   "cell_type": "markdown",
   "metadata": {
    "id": "lgK680Msaq-9"
   },
   "source": [
    "If you did everything correctly, your plot should look something like this. Note that the figure will depend on the training data that has been randomly chosen.\n",
    "\n",
    "![image.png](data:image/png;base64,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)"
   ]
  },
  {
   "cell_type": "markdown",
   "metadata": {
    "id": "imDjes_QaS5s"
   },
   "source": [
    "### Classification of high-dimensional data with PCA and SVM\n",
    "\n",
    "In this exercise we want to use all Magpie descriptors and the $T_{rg}$ to improve our classification.\n",
    "\n",
    "First do a Principle Component Analysis with two components and then classify the resulting data. Note that the $T_{rg}$ values are not standardized, i.e. the mean and standard deviation has not been subtracted. This has to be done first for the PCA to be meaningful.\n",
    "\n",
    "Perform a grid search with cross validation to determine the optimal hyperparameters (gamma, $C$) for the Gaussian kernel ('rbf')."
   ]
  },
  {
   "cell_type": "code",
   "execution_count": null,
   "metadata": {
    "id": "O3MskkADaTeM"
   },
   "outputs": [],
   "source": [
    "#Write your solution here. For this you need to combine what you have learned in this and last week's exercise."
   ]
  },
  {
   "cell_type": "markdown",
   "metadata": {
    "id": "c7LsUMPIaULB"
   },
   "source": [
    "If you did everything correctly, your plot should look something like this. Note that the figure will depend on the training data that has been randomly chosen.\n",
    "\n",
    "![image.png](data:image/png;base64,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)"
   ]
  }
 ],
 "metadata": {
  "anaconda-cloud": {},
  "colab": {
   "collapsed_sections": [
    "0FxS6Kazwrmo"
   ],
   "include_colab_link": true,
   "provenance": []
  },
  "kernelspec": {
   "display_name": "Python 3 (ipykernel)",
   "language": "python",
   "name": "python3"
  },
  "language_info": {
   "codemirror_mode": {
    "name": "ipython",
    "version": 3
   },
   "file_extension": ".py",
   "mimetype": "text/x-python",
   "name": "python",
   "nbconvert_exporter": "python",
   "pygments_lexer": "ipython3",
   "version": "3.12.10"
  }
 },
 "nbformat": 4,
 "nbformat_minor": 4
}
